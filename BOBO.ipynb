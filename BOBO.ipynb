{
 "cells": [
  {
   "cell_type": "code",
   "execution_count": 13,
   "metadata": {},
   "outputs": [],
   "source": [
    "import os\n",
    "from collections import deque\n",
    "q = deque()\n",
    "finish = False\n",
    "found = False"
   ]
  },
  {
   "cell_type": "code",
   "execution_count": 14,
   "metadata": {},
   "outputs": [],
   "source": [
    "direct = \"C:/Users/\" \n",
    "q.append(direct)\n",
    "def pechat(file):\n",
    "    f=open(file, 'r')\n",
    "    file_contents=f.read()\n",
    "    print(file_contents)\n",
    "    f.close()"
   ]
  },
  {
   "cell_type": "code",
   "execution_count": 15,
   "metadata": {},
   "outputs": [
    {
     "name": "stdout",
     "output_type": "stream",
     "text": [
      "C:/Users/Public\\Pictures\\BOBO.txt\n",
      "BOBO найден\n",
      "ахахахахах нашел меня ахахахаххаа\n"
     ]
    }
   ],
   "source": [
    "while (finish!=True):\n",
    "    for rootdir, dirs, files in os.walk(direct):\n",
    "        for file in files:       \n",
    "            if((file==\"BOBO.txt\")):\n",
    "                print (os.path.join(rootdir, file))\n",
    "                print(\"BOBO найден\")\n",
    "                pechat(os.path.join(rootdir, file))\n",
    "                finish=True\n",
    "                found=True\n",
    "        for dire in dirs:\n",
    "            q.append(os.path.dirname(dire))\n",
    "    if (len(q)!=0):        \n",
    "        direct=q.popleft()\n",
    "    else:\n",
    "        finish=True"
   ]
  },
  {
   "cell_type": "code",
   "execution_count": 16,
   "metadata": {},
   "outputs": [],
   "source": [
    "if (finish==True) and (found==False):\n",
    "    print(\"BOBO не найден\")"
   ]
  },
  {
   "cell_type": "code",
   "execution_count": 3,
   "metadata": {},
   "outputs": [],
   "source": [
    "def checkdir(dire):\n",
    "    for rootdir, dirs, files in os.walk(os.path.dirname(dire)):\n",
    "        for file in files:       \n",
    "            if((file==\"BOBO.txt\")):\n",
    "                print (os.path.join(rootdir, file))\n",
    "                print(\"BOBO найден\")\n",
    "                pechat(os.path.join(rootdir, file))\n",
    "                finish=True\n",
    "        for dire in dirs:\n",
    "            q.append(os.path.dirname(dire))"
   ]
  },
  {
   "cell_type": "code",
   "execution_count": 4,
   "metadata": {},
   "outputs": [
    {
     "name": "stdout",
     "output_type": "stream",
     "text": [
      "C:/Users/Public\\Pictures\\BOBO.txt\n",
      "BOBO найден\n",
      "ахахахахах нашел меня ахахахаххаа\n"
     ]
    }
   ],
   "source": [
    "while (finish!=True) or (len(q)!=0):\n",
    "    for rootdir, dirs, files in os.walk(direct):\n",
    "        for file in files:       \n",
    "            if((file==\"BOBO.txt\")):\n",
    "                print (os.path.join(rootdir, file))\n",
    "                print(\"BOBO найден\")\n",
    "                pechat(os.path.join(rootdir, file))\n",
    "                finish=True\n",
    "        for dire in dirs:\n",
    "            checkdir(dire)\n",
    "    if (len(q)!=0):\n",
    "        direct=q.popleft()"
   ]
  },
  {
   "cell_type": "code",
   "execution_count": null,
   "metadata": {},
   "outputs": [],
   "source": []
  },
  {
   "cell_type": "code",
   "execution_count": null,
   "metadata": {},
   "outputs": [],
   "source": []
  },
  {
   "cell_type": "code",
   "execution_count": 34,
   "metadata": {},
   "outputs": [],
   "source": []
  },
  {
   "cell_type": "code",
   "execution_count": null,
   "metadata": {},
   "outputs": [],
   "source": []
  },
  {
   "cell_type": "code",
   "execution_count": null,
   "metadata": {},
   "outputs": [],
   "source": []
  }
 ],
 "metadata": {
  "kernelspec": {
   "display_name": "Python 3",
   "language": "python",
   "name": "python3"
  },
  "language_info": {
   "codemirror_mode": {
    "name": "ipython",
    "version": 3
   },
   "file_extension": ".py",
   "mimetype": "text/x-python",
   "name": "python",
   "nbconvert_exporter": "python",
   "pygments_lexer": "ipython3",
   "version": "3.6.5"
  }
 },
 "nbformat": 4,
 "nbformat_minor": 2
}
