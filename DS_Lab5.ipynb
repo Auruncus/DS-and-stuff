{
  "nbformat": 4,
  "nbformat_minor": 0,
  "metadata": {
    "colab": {
      "name": "DS-Lab5.ipynb",
      "provenance": [],
      "collapsed_sections": []
    },
    "kernelspec": {
      "name": "python3",
      "display_name": "Python 3"
    }
  },
  "cells": [
    {
      "cell_type": "code",
      "metadata": {
        "id": "LOTZmo7tOCD0",
        "colab_type": "code",
        "colab": {
          "base_uri": "https://localhost:8080/",
          "height": 34
        },
        "outputId": "dbca6cb9-de65-4fbe-fae0-59d5ef4c3651"
      },
      "source": [
        "import numpy as np \n",
        "import pandas as pd\n",
        "import matplotlib.pyplot as plt\n",
        "from pandas.plotting import scatter_matrix\n",
        "from sklearn.model_selection import train_test_split\n",
        "from sklearn.linear_model import LogisticRegression\n",
        "from sklearn.neighbors import KNeighborsClassifier\n",
        "import seaborn as sns\n",
        "from sklearn.preprocessing import normalize\n",
        "from google.colab import drive\n",
        "drive.mount('/content/gdrive')\n",
        "from sklearn.metrics import accuracy_score, recall_score, precision_score, f1_score, roc_auc_score\n",
        "from sklearn.model_selection import cross_val_score"
      ],
      "execution_count": 8,
      "outputs": [
        {
          "output_type": "stream",
          "text": [
            "Drive already mounted at /content/gdrive; to attempt to forcibly remount, call drive.mount(\"/content/gdrive\", force_remount=True).\n"
          ],
          "name": "stdout"
        }
      ]
    },
    {
      "cell_type": "code",
      "metadata": {
        "id": "MsiANt2upFYR",
        "colab_type": "code",
        "colab": {
          "base_uri": "https://localhost:8080/",
          "height": 34
        },
        "outputId": "f09b58bd-59d7-45a4-de57-1df1d12b1817"
      },
      "source": [
        "cd /content/gdrive/'My Drive'/"
      ],
      "execution_count": 6,
      "outputs": [
        {
          "output_type": "stream",
          "text": [
            "/content/gdrive/My Drive\n"
          ],
          "name": "stdout"
        }
      ]
    },
    {
      "cell_type": "markdown",
      "metadata": {
        "id": "jxEeY4kIpMTI",
        "colab_type": "text"
      },
      "source": [
        "# **Лабораторная работа №5**\n",
        "\n",
        "**Максимов Антон 17ПМИ**"
      ]
    },
    {
      "cell_type": "code",
      "metadata": {
        "id": "XSWQINLDpPNi",
        "colab_type": "code",
        "colab": {}
      },
      "source": [
        "trainQ = pd.read_csv('trainQ.csv')\n",
        "trainO = pd.read_csv('trainO.csv')\n",
        "testQ  = pd.read_csv('testQ.csv')\n",
        "testO  = pd.read_csv('testO.csv')"
      ],
      "execution_count": 0,
      "outputs": []
    },
    {
      "cell_type": "markdown",
      "metadata": {
        "id": "8UakFFP9WXRX",
        "colab_type": "text"
      },
      "source": [
        "**Нормализуем данные**"
      ]
    },
    {
      "cell_type": "code",
      "metadata": {
        "id": "OUf07-3xqPSE",
        "colab_type": "code",
        "colab": {}
      },
      "source": [
        "pixels_trainQ = normalize(trainQ.to_numpy())\n",
        "pixels_trainO = normalize(trainO.to_numpy())\n",
        "pixels_testQ = normalize(testQ.to_numpy())\n",
        "pixels_testO = normalize(testO.to_numpy())"
      ],
      "execution_count": 0,
      "outputs": []
    },
    {
      "cell_type": "code",
      "metadata": {
        "id": "YFSz04YCtEWh",
        "colab_type": "code",
        "colab": {
          "base_uri": "https://localhost:8080/",
          "height": 282
        },
        "outputId": "d37e934a-46c9-4600-b07d-835d2c2b2248"
      },
      "source": [
        "plt.imshow(pixels_testO[306].reshape((28, 28)).T, cmap='gray')"
      ],
      "execution_count": 288,
      "outputs": [
        {
          "output_type": "execute_result",
          "data": {
            "text/plain": [
              "<matplotlib.image.AxesImage at 0x7f1f7c9a22e8>"
            ]
          },
          "metadata": {
            "tags": []
          },
          "execution_count": 288
        },
        {
          "output_type": "display_data",
          "data": {
            "image/png": "[encoded data removed]",
            "text/plain": [
              "<Figure size 432x288 with 1 Axes>"
            ]
          },
          "metadata": {
            "tags": []
          }
        }
      ]
    },
    {
      "cell_type": "markdown",
      "metadata": {
        "id": "AKDmQBS7Wbai",
        "colab_type": "text"
      },
      "source": [
        "**Соеденим 4 файла в train train_datasetQO и test_datasetQO, добавим лэйблы для Q - 1 , для O - 0**"
      ]
    },
    {
      "cell_type": "code",
      "metadata": {
        "id": "C0XgKyDKNZW9",
        "colab_type": "code",
        "colab": {}
      },
      "source": [
        "train_dataQ = np.hstack((np.asarray(pixels_trainQ), np.ones((np.asarray(pixels_trainQ).shape[0], 1), dtype=np.asarray(pixels_trainQ).dtype)))\n",
        "train_dataO = np.hstack((np.asarray(pixels_trainO), np.zeros((np.asarray(pixels_trainO).shape[0], 1), dtype=np.asarray(pixels_trainO).dtype)))\n",
        "train_datasetQO = np.concatenate([train_dataQ, train_dataO])\n",
        "test_dataQ =  np.hstack((np.asarray(pixels_testQ), np.ones((np.asarray(pixels_testQ).shape[0], 1), dtype=np.asarray(pixels_testQ).dtype)))\n",
        "test_dataO =   np.hstack((np.asarray(pixels_testO), np.zeros((np.asarray(pixels_testO).shape[0], 1), dtype=np.asarray(pixels_testO).dtype)))\n",
        "test_datasetQO = np.concatenate([test_dataQ, test_dataO])"
      ],
      "execution_count": 0,
      "outputs": []
    },
    {
      "cell_type": "code",
      "metadata": {
        "id": "wWFBIct3Q4Po",
        "colab_type": "code",
        "colab": {
          "base_uri": "https://localhost:8080/",
          "height": 34
        },
        "outputId": "dc9e7b97-90af-4463-e627-4c687812b21d"
      },
      "source": [
        "train_dataQ[:, 0:784].shape"
      ],
      "execution_count": 162,
      "outputs": [
        {
          "output_type": "execute_result",
          "data": {
            "text/plain": [
              "(1000, 784)"
            ]
          },
          "metadata": {
            "tags": []
          },
          "execution_count": 162
        }
      ]
    },
    {
      "cell_type": "code",
      "metadata": {
        "id": "ep9yv6zGLL-4",
        "colab_type": "code",
        "colab": {}
      },
      "source": [
        "pixels_trainQO_labels"
      ],
      "execution_count": 0,
      "outputs": []
    },
    {
      "cell_type": "markdown",
      "metadata": {
        "id": "kXkIym-wuQS0",
        "colab_type": "text"
      },
      "source": [
        "##**KNN**"
      ]
    },
    {
      "cell_type": "markdown",
      "metadata": {
        "id": "lWtCIP3SAmEK",
        "colab_type": "text"
      },
      "source": [
        "**Кросс - валидация будет при подборе параметров, а пока просто посмотрим как ведет себя классфикатор**"
      ]
    },
    {
      "cell_type": "code",
      "metadata": {
        "id": "6du4a3umso4T",
        "colab_type": "code",
        "colab": {
          "base_uri": "https://localhost:8080/",
          "height": 51
        },
        "outputId": "25837a0c-c79a-45ea-b490-a365b10ac988"
      },
      "source": [
        "knn = KNeighborsClassifier(n_neighbors=2)\n",
        "knn.fit(train_datasetQO[:, 0:784], train_datasetQO[:, -1])\n",
        "y_pred = knn.predict(test_datasetQO[:, 0:784])\n",
        "y_test = test_datasetQO[:, -1]\n",
        "y_proba = knn.predict_proba(test_datasetQO[:, 0:784])[:, 1]\n",
        "print(\"Accuracy:\", accuracy_score(y_test, y_pred))\n",
        "print(\"ROC AUC:\", roc_auc_score(y_test, y_proba))"
      ],
      "execution_count": 184,
      "outputs": [
        {
          "output_type": "stream",
          "text": [
            "Accuracy: 0.9105\n",
            "ROC AUC: 0.951858\n"
          ],
          "name": "stdout"
        }
      ]
    },
    {
      "cell_type": "markdown",
      "metadata": {
        "id": "c3_8QPWKW99y",
        "colab_type": "text"
      },
      "source": [
        "**Посмотрим результаты, если предсказывать Q или O по отедельности**"
      ]
    },
    {
      "cell_type": "code",
      "metadata": {
        "id": "f1OlqjNsWtwI",
        "colab_type": "code",
        "colab": {
          "base_uri": "https://localhost:8080/",
          "height": 34
        },
        "outputId": "9ba5847f-e185-4962-c4b3-1f236e88944e"
      },
      "source": [
        "knn = KNeighborsClassifier(n_neighbors=2)\n",
        "knn.fit(train_datasetQO[:, 0:784], train_datasetQO[:, -1])\n",
        "y_pred = knn.predict(test_dataQ[:, 0:784])\n",
        "y_test = test_dataQ[:, -1]\n",
        "print(\"Accuracy:\", accuracy_score(y_test, y_pred))"
      ],
      "execution_count": 186,
      "outputs": [
        {
          "output_type": "stream",
          "text": [
            "Accuracy: 0.827\n"
          ],
          "name": "stdout"
        }
      ]
    },
    {
      "cell_type": "code",
      "metadata": {
        "id": "Tzt1A62tWAa5",
        "colab_type": "code",
        "colab": {
          "base_uri": "https://localhost:8080/",
          "height": 34
        },
        "outputId": "26f003f0-419c-42c9-9eac-b32eeb394272"
      },
      "source": [
        "knn = KNeighborsClassifier(n_neighbors=2)\n",
        "knn.fit(train_datasetQO[:, 0:784], train_datasetQO[:, -1])\n",
        "y_pred = knn.predict(test_dataO[:, 0:784])\n",
        "y_test = test_dataO[:, -1]\n",
        "print(\"Accuracy:\", accuracy_score(y_test, y_pred))"
      ],
      "execution_count": 188,
      "outputs": [
        {
          "output_type": "stream",
          "text": [
            "Accuracy: 0.994\n"
          ],
          "name": "stdout"
        }
      ]
    },
    {
      "cell_type": "markdown",
      "metadata": {
        "id": "upAU6eP3XRMD",
        "colab_type": "text"
      },
      "source": [
        "**Как и предполагалось, предсказывать легче букву O, как дальше и окажется, для всех классификатор**"
      ]
    },
    {
      "cell_type": "markdown",
      "metadata": {
        "id": "aoxLox9kkNaj",
        "colab_type": "text"
      },
      "source": [
        "###**Подбор параметров**"
      ]
    },
    {
      "cell_type": "markdown",
      "metadata": {
        "id": "hGxVXwOSXpqm",
        "colab_type": "text"
      },
      "source": [
        "**Будем подбирать оптимальное кол-во соседов, используя кросс-валидацию**"
      ]
    },
    {
      "cell_type": "code",
      "metadata": {
        "id": "E8LSDHjtFngQ",
        "colab_type": "code",
        "colab": {
          "base_uri": "https://localhost:8080/",
          "height": 1000
        },
        "outputId": "b1bc1c28-ef37-4b63-d5f1-22274ae83c78"
      },
      "source": [
        "for i in range(1,21):\n",
        "  for j in range(2, 9):\n",
        "    knn = KNeighborsClassifier(n_neighbors=i)\n",
        "    knn_cv = cross_val_score(knn, train_datasetQO[:, 0:784], train_datasetQO[:, -1], cv=j)\n",
        "    #print(\"Cross Validation score with 2-fold cv =====>>>> \", str(knn_cv_2))\n",
        "    print(\"Cross-Validation with {} neighbors Mean_score with {}-fold cv =====>>>> {} \".format(i, j, str(knn_cv.mean())))"
      ],
      "execution_count": 213,
      "outputs": [
        {
          "output_type": "stream",
          "text": [
            "Cross-Validation with 1 neighbors Mean_score with 2-fold cv =====>>>> 0.942 \n",
            "Cross-Validation with 1 neighbors Mean_score with 3-fold cv =====>>>> 0.9460118801436167 \n",
            "Cross-Validation with 1 neighbors Mean_score with 4-fold cv =====>>>> 0.9465 \n",
            "Cross-Validation with 1 neighbors Mean_score with 5-fold cv =====>>>> 0.9470000000000001 \n",
            "Cross-Validation with 1 neighbors Mean_score with 6-fold cv =====>>>> 0.946035639564245 \n",
            "Cross-Validation with 1 neighbors Mean_score with 7-fold cv =====>>>> 0.9465288232893866 \n",
            "Cross-Validation with 1 neighbors Mean_score with 8-fold cv =====>>>> 0.945 \n",
            "Cross-Validation with 2 neighbors Mean_score with 2-fold cv =====>>>> 0.9105000000000001 \n",
            "Cross-Validation with 2 neighbors Mean_score with 3-fold cv =====>>>> 0.9190028351704997 \n",
            "Cross-Validation with 2 neighbors Mean_score with 4-fold cv =====>>>> 0.92 \n",
            "Cross-Validation with 2 neighbors Mean_score with 5-fold cv =====>>>> 0.917 \n",
            "Cross-Validation with 2 neighbors Mean_score with 6-fold cv =====>>>> 0.9200153909049371 \n",
            "Cross-Validation with 2 neighbors Mean_score with 7-fold cv =====>>>> 0.9205125860055439 \n",
            "Cross-Validation with 2 neighbors Mean_score with 8-fold cv =====>>>> 0.921 \n",
            "Cross-Validation with 3 neighbors Mean_score with 2-fold cv =====>>>> 0.935 \n",
            "Cross-Validation with 3 neighbors Mean_score with 3-fold cv =====>>>> 0.9365083646520773 \n",
            "Cross-Validation with 3 neighbors Mean_score with 4-fold cv =====>>>> 0.9385 \n",
            "Cross-Validation with 3 neighbors Mean_score with 5-fold cv =====>>>> 0.9410000000000001 \n",
            "Cross-Validation with 3 neighbors Mean_score with 6-fold cv =====>>>> 0.9400235673231849 \n",
            "Cross-Validation with 3 neighbors Mean_score with 7-fold cv =====>>>> 0.9420122131389735 \n",
            "Cross-Validation with 3 neighbors Mean_score with 8-fold cv =====>>>> 0.9405 \n",
            "Cross-Validation with 4 neighbors Mean_score with 2-fold cv =====>>>> 0.9155 \n",
            "Cross-Validation with 4 neighbors Mean_score with 3-fold cv =====>>>> 0.9150048251844659 \n",
            "Cross-Validation with 4 neighbors Mean_score with 4-fold cv =====>>>> 0.925 \n",
            "Cross-Validation with 4 neighbors Mean_score with 5-fold cv =====>>>> 0.9254999999999999 \n",
            "Cross-Validation with 4 neighbors Mean_score with 6-fold cv =====>>>> 0.926027463145997 \n",
            "Cross-Validation with 4 neighbors Mean_score with 7-fold cv =====>>>> 0.9270131277173531 \n",
            "Cross-Validation with 4 neighbors Mean_score with 8-fold cv =====>>>> 0.9265000000000001 \n",
            "Cross-Validation with 5 neighbors Mean_score with 2-fold cv =====>>>> 0.9285 \n",
            "Cross-Validation with 5 neighbors Mean_score with 3-fold cv =====>>>> 0.9325088561615509 \n",
            "Cross-Validation with 5 neighbors Mean_score with 4-fold cv =====>>>> 0.9365000000000001 \n",
            "Cross-Validation with 5 neighbors Mean_score with 5-fold cv =====>>>> 0.9365 \n",
            "Cross-Validation with 5 neighbors Mean_score with 6-fold cv =====>>>> 0.9385355794435227 \n",
            "Cross-Validation with 5 neighbors Mean_score with 7-fold cv =====>>>> 0.9400212463592746 \n",
            "Cross-Validation with 5 neighbors Mean_score with 8-fold cv =====>>>> 0.9410000000000001 \n",
            "Cross-Validation with 6 neighbors Mean_score with 2-fold cv =====>>>> 0.914 \n",
            "Cross-Validation with 6 neighbors Mean_score with 3-fold cv =====>>>> 0.9180033326739915 \n",
            "Cross-Validation with 6 neighbors Mean_score with 4-fold cv =====>>>> 0.9229999999999999 \n",
            "Cross-Validation with 6 neighbors Mean_score with 5-fold cv =====>>>> 0.925 \n",
            "Cross-Validation with 6 neighbors Mean_score with 6-fold cv =====>>>> 0.9240314551619652 \n",
            "Cross-Validation with 6 neighbors Mean_score with 7-fold cv =====>>>> 0.9285221820433087 \n",
            "Cross-Validation with 6 neighbors Mean_score with 8-fold cv =====>>>> 0.927 \n",
            "Cross-Validation with 7 neighbors Mean_score with 2-fold cv =====>>>> 0.925 \n",
            "Cross-Validation with 7 neighbors Mean_score with 3-fold cv =====>>>> 0.9290068511625398 \n",
            "Cross-Validation with 7 neighbors Mean_score with 4-fold cv =====>>>> 0.9325000000000001 \n",
            "Cross-Validation with 7 neighbors Mean_score with 5-fold cv =====>>>> 0.9350000000000002 \n",
            "Cross-Validation with 7 neighbors Mean_score with 6-fold cv =====>>>> 0.9370385734554986 \n",
            "Cross-Validation with 7 neighbors Mean_score with 7-fold cv =====>>>> 0.9380232443612726 \n",
            "Cross-Validation with 7 neighbors Mean_score with 8-fold cv =====>>>> 0.938 \n",
            "Cross-Validation with 8 neighbors Mean_score with 2-fold cv =====>>>> 0.909 \n",
            "Cross-Validation with 8 neighbors Mean_score with 3-fold cv =====>>>> 0.9165063266859673 \n",
            "Cross-Validation with 8 neighbors Mean_score with 4-fold cv =====>>>> 0.918 \n",
            "Cross-Validation with 8 neighbors Mean_score with 5-fold cv =====>>>> 0.9225 \n",
            "Cross-Validation with 8 neighbors Mean_score with 6-fold cv =====>>>> 0.9230184209893467 \n",
            "Cross-Validation with 8 neighbors Mean_score with 7-fold cv =====>>>> 0.9255005557822459 \n",
            "Cross-Validation with 8 neighbors Mean_score with 8-fold cv =====>>>> 0.9239999999999999 \n",
            "Cross-Validation with 9 neighbors Mean_score with 2-fold cv =====>>>> 0.9185000000000001 \n",
            "Cross-Validation with 9 neighbors Mean_score with 3-fold cv =====>>>> 0.9255048461635288 \n",
            "Cross-Validation with 9 neighbors Mean_score with 4-fold cv =====>>>> 0.924 \n",
            "Cross-Validation with 9 neighbors Mean_score with 5-fold cv =====>>>> 0.9279999999999999 \n",
            "Cross-Validation with 9 neighbors Mean_score with 6-fold cv =====>>>> 0.9290154630498041 \n",
            "Cross-Validation with 9 neighbors Mean_score with 7-fold cv =====>>>> 0.9305025959955537 \n",
            "Cross-Validation with 9 neighbors Mean_score with 8-fold cv =====>>>> 0.9325 \n",
            "Cross-Validation with 10 neighbors Mean_score with 2-fold cv =====>>>> 0.909 \n",
            "Cross-Validation with 10 neighbors Mean_score with 3-fold cv =====>>>> 0.9155053256849662 \n",
            "Cross-Validation with 10 neighbors Mean_score with 4-fold cv =====>>>> 0.9145 \n",
            "Cross-Validation with 10 neighbors Mean_score with 5-fold cv =====>>>> 0.9164999999999999 \n",
            "Cross-Validation with 10 neighbors Mean_score with 6-fold cv =====>>>> 0.9175173748887767 \n",
            "Cross-Validation with 10 neighbors Mean_score with 7-fold cv =====>>>> 0.9149969748561296 \n",
            "Cross-Validation with 10 neighbors Mean_score with 8-fold cv =====>>>> 0.9165 \n",
            "Cross-Validation with 11 neighbors Mean_score with 2-fold cv =====>>>> 0.9155 \n",
            "Cross-Validation with 11 neighbors Mean_score with 3-fold cv =====>>>> 0.9235028441615268 \n",
            "Cross-Validation with 11 neighbors Mean_score with 4-fold cv =====>>>> 0.9235000000000001 \n",
            "Cross-Validation with 11 neighbors Mean_score with 5-fold cv =====>>>> 0.924 \n",
            "Cross-Validation with 11 neighbors Mean_score with 6-fold cv =====>>>> 0.92451242094125 \n",
            "Cross-Validation with 11 neighbors Mean_score with 7-fold cv =====>>>> 0.9239950190654416 \n",
            "Cross-Validation with 11 neighbors Mean_score with 8-fold cv =====>>>> 0.9259999999999999 \n",
            "Cross-Validation with 12 neighbors Mean_score with 2-fold cv =====>>>> 0.9045000000000001 \n",
            "Cross-Validation with 12 neighbors Mean_score with 3-fold cv =====>>>> 0.9110053166939395 \n",
            "Cross-Validation with 12 neighbors Mean_score with 4-fold cv =====>>>> 0.913 \n",
            "Cross-Validation with 12 neighbors Mean_score with 5-fold cv =====>>>> 0.9149999999999998 \n",
            "Cross-Validation with 12 neighbors Mean_score with 6-fold cv =====>>>> 0.9140123367722387 \n",
            "Cross-Validation with 12 neighbors Mean_score with 7-fold cv =====>>>> 0.9149934572469783 \n",
            "Cross-Validation with 12 neighbors Mean_score with 8-fold cv =====>>>> 0.916 \n",
            "Cross-Validation with 13 neighbors Mean_score with 2-fold cv =====>>>> 0.909 \n",
            "Cross-Validation with 13 neighbors Mean_score with 3-fold cv =====>>>> 0.9175088261914609 \n",
            "Cross-Validation with 13 neighbors Mean_score with 4-fold cv =====>>>> 0.9205000000000001 \n",
            "Cross-Validation with 13 neighbors Mean_score with 5-fold cv =====>>>> 0.921 \n",
            "Cross-Validation with 13 neighbors Mean_score with 6-fold cv =====>>>> 0.9190113748406801 \n",
            "Cross-Validation with 13 neighbors Mean_score with 7-fold cv =====>>>> 0.9219899818491368 \n",
            "Cross-Validation with 13 neighbors Mean_score with 8-fold cv =====>>>> 0.9225 \n",
            "Cross-Validation with 14 neighbors Mean_score with 2-fold cv =====>>>> 0.8985000000000001 \n",
            "Cross-Validation with 14 neighbors Mean_score with 3-fold cv =====>>>> 0.9070043096989204 \n",
            "Cross-Validation with 14 neighbors Mean_score with 4-fold cv =====>>>> 0.9135 \n",
            "Cross-Validation with 14 neighbors Mean_score with 5-fold cv =====>>>> 0.9145000000000001 \n",
            "Cross-Validation with 14 neighbors Mean_score with 6-fold cv =====>>>> 0.9150133468003752 \n",
            "Cross-Validation with 14 neighbors Mean_score with 7-fold cv =====>>>> 0.9129919376398251 \n",
            "Cross-Validation with 14 neighbors Mean_score with 8-fold cv =====>>>> 0.9175 \n",
            "Cross-Validation with 15 neighbors Mean_score with 2-fold cv =====>>>> 0.9085000000000001 \n",
            "Cross-Validation with 15 neighbors Mean_score with 3-fold cv =====>>>> 0.9140113167059276 \n",
            "Cross-Validation with 15 neighbors Mean_score with 4-fold cv =====>>>> 0.9195000000000001 \n",
            "Cross-Validation with 15 neighbors Mean_score with 5-fold cv =====>>>> 0.9199999999999999 \n",
            "Cross-Validation with 15 neighbors Mean_score with 6-fold cv =====>>>> 0.9195163889089292 \n",
            "Cross-Validation with 15 neighbors Mean_score with 7-fold cv =====>>>> 0.9209944984592873 \n",
            "Cross-Validation with 15 neighbors Mean_score with 8-fold cv =====>>>> 0.9225 \n",
            "Cross-Validation with 16 neighbors Mean_score with 2-fold cv =====>>>> 0.897 \n",
            "Cross-Validation with 16 neighbors Mean_score with 3-fold cv =====>>>> 0.9060078042113971 \n",
            "Cross-Validation with 16 neighbors Mean_score with 4-fold cv =====>>>> 0.909 \n",
            "Cross-Validation with 16 neighbors Mean_score with 5-fold cv =====>>>> 0.9105000000000001 \n",
            "Cross-Validation with 16 neighbors Mean_score with 6-fold cv =====>>>> 0.9105223288363032 \n",
            "Cross-Validation with 16 neighbors Mean_score with 7-fold cv =====>>>> 0.911992936640824 \n",
            "Cross-Validation with 16 neighbors Mean_score with 8-fold cv =====>>>> 0.9115 \n",
            "Cross-Validation with 17 neighbors Mean_score with 2-fold cv =====>>>> 0.9025000000000001 \n",
            "Cross-Validation with 17 neighbors Mean_score with 3-fold cv =====>>>> 0.9090063117009225 \n",
            "Cross-Validation with 17 neighbors Mean_score with 4-fold cv =====>>>> 0.9155 \n",
            "Cross-Validation with 17 neighbors Mean_score with 5-fold cv =====>>>> 0.9164999999999999 \n",
            "Cross-Validation with 17 neighbors Mean_score with 6-fold cv =====>>>> 0.9180163768847845 \n",
            "Cross-Validation with 17 neighbors Mean_score with 7-fold cv =====>>>> 0.9179939778531327 \n",
            "Cross-Validation with 17 neighbors Mean_score with 8-fold cv =====>>>> 0.9185 \n",
            "Cross-Validation with 18 neighbors Mean_score with 2-fold cv =====>>>> 0.894 \n",
            "Cross-Validation with 18 neighbors Mean_score with 3-fold cv =====>>>> 0.9050038062014111 \n",
            "Cross-Validation with 18 neighbors Mean_score with 4-fold cv =====>>>> 0.91 \n",
            "Cross-Validation with 18 neighbors Mean_score with 5-fold cv =====>>>> 0.9085000000000001 \n",
            "Cross-Validation with 18 neighbors Mean_score with 6-fold cv =====>>>> 0.9075162927157733 \n",
            "Cross-Validation with 18 neighbors Mean_score with 7-fold cv =====>>>> 0.909994934642822 \n",
            "Cross-Validation with 18 neighbors Mean_score with 8-fold cv =====>>>> 0.9119999999999999 \n",
            "Cross-Validation with 19 neighbors Mean_score with 2-fold cv =====>>>> 0.8985000000000001 \n",
            "Cross-Validation with 19 neighbors Mean_score with 3-fold cv =====>>>> 0.9065053077029126 \n",
            "Cross-Validation with 19 neighbors Mean_score with 4-fold cv =====>>>> 0.914 \n",
            "Cross-Validation with 19 neighbors Mean_score with 5-fold cv =====>>>> 0.9120000000000001 \n",
            "Cross-Validation with 19 neighbors Mean_score with 6-fold cv =====>>>> 0.9145173508404877 \n",
            "Cross-Validation with 19 neighbors Mean_score with 7-fold cv =====>>>> 0.9150004924652811 \n",
            "Cross-Validation with 19 neighbors Mean_score with 8-fold cv =====>>>> 0.9165 \n",
            "Cross-Validation with 20 neighbors Mean_score with 2-fold cv =====>>>> 0.8925000000000001 \n",
            "Cross-Validation with 20 neighbors Mean_score with 3-fold cv =====>>>> 0.9040073007138876 \n",
            "Cross-Validation with 20 neighbors Mean_score with 4-fold cv =====>>>> 0.909 \n",
            "Cross-Validation with 20 neighbors Mean_score with 5-fold cv =====>>>> 0.9055000000000002 \n",
            "Cross-Validation with 20 neighbors Mean_score with 6-fold cv =====>>>> 0.9085173027439096 \n",
            "Cross-Validation with 20 neighbors Mean_score with 7-fold cv =====>>>> 0.9069944140366675 \n",
            "Cross-Validation with 20 neighbors Mean_score with 8-fold cv =====>>>> 0.9085000000000001 \n"
          ],
          "name": "stdout"
        }
      ]
    },
    {
      "cell_type": "markdown",
      "metadata": {
        "id": "zq_nxC6UX_tG",
        "colab_type": "text"
      },
      "source": [
        "**Протестируем, при кол-во соседов = 1**\n",
        "\n"
      ]
    },
    {
      "cell_type": "code",
      "metadata": {
        "id": "CPIkyFA8yhND",
        "colab_type": "code",
        "colab": {
          "base_uri": "https://localhost:8080/",
          "height": 51
        },
        "outputId": "b2bb2f62-d746-43eb-82ca-e77b90ada7c8"
      },
      "source": [
        "knn = KNeighborsClassifier(n_neighbors=1)\n",
        "knn.fit(train_datasetQO[:, 0:784], train_datasetQO[:, -1])\n",
        "y_pred = knn.predict(test_datasetQO[:, 0:784])\n",
        "y_test = test_datasetQO[:, -1]\n",
        "y_proba = knn.predict_proba(test_datasetQO[:, 0:784])[:, 1]\n",
        "print(\"Accuracy:\", accuracy_score(y_test, y_pred))\n",
        "print(\"ROC AUC:\", roc_auc_score(y_test, y_proba))"
      ],
      "execution_count": 300,
      "outputs": [
        {
          "output_type": "stream",
          "text": [
            "Accuracy: 0.9345\n",
            "ROC AUC: 0.9345\n"
          ],
          "name": "stdout"
        }
      ]
    },
    {
      "cell_type": "markdown",
      "metadata": {
        "id": "71RPyYS8YXr8",
        "colab_type": "text"
      },
      "source": [
        "**Увеличение точности до 0.9345**"
      ]
    },
    {
      "cell_type": "markdown",
      "metadata": {
        "id": "zgAvI_P8xOJo",
        "colab_type": "text"
      },
      "source": [
        "###**Дополнительно**"
      ]
    },
    {
      "cell_type": "markdown",
      "metadata": {
        "id": "eLMn09MW0167",
        "colab_type": "text"
      },
      "source": [
        "Для KNN найти примеры ошибочной классификации и показать ближайших соседей, объяснить почему была совершена ошибка."
      ]
    },
    {
      "cell_type": "code",
      "metadata": {
        "id": "zNgwZLuDG6ay",
        "colab_type": "code",
        "colab": {
          "base_uri": "https://localhost:8080/",
          "height": 51
        },
        "outputId": "9f39781a-4dfc-4234-9c85-66c11808282f"
      },
      "source": [
        "knn = KNeighborsClassifier(n_neighbors=1)\n",
        "knn.fit(train_datasetQO[:, 0:784], train_datasetQO[:, -1])\n",
        "y_pred = knn.predict(test_datasetQO[:, 0:784])\n",
        "y_test = test_datasetQO[:, -1]\n",
        "y_proba = knn.predict_proba(test_datasetQO[:, 0:784])[:, 1]\n",
        "print(\"Accuracy:\", accuracy_score(y_test, y_pred))\n",
        "print(\"ROC AUC:\", roc_auc_score(y_test, y_proba))"
      ],
      "execution_count": 267,
      "outputs": [
        {
          "output_type": "stream",
          "text": [
            "Accuracy: 0.9345\n",
            "ROC AUC: 0.9345\n"
          ],
          "name": "stdout"
        }
      ]
    },
    {
      "cell_type": "markdown",
      "metadata": {
        "id": "BsMGjz20YkUZ",
        "colab_type": "text"
      },
      "source": [
        "**Найдем индексы объектов, где была соврешена ошибка**"
      ]
    },
    {
      "cell_type": "code",
      "metadata": {
        "id": "VsUQuZ-VxKyK",
        "colab_type": "code",
        "colab": {
          "base_uri": "https://localhost:8080/",
          "height": 119
        },
        "outputId": "17e828a2-c278-4c44-df28-2bac148eb801"
      },
      "source": [
        "counter = 6 #6 примеров\n",
        "for i in range(0,len(y_test)):\n",
        "  if y_test[i]!=y_pred[i]:\n",
        "    print(i)\n",
        "    counter-=1\n",
        "    if counter==0:\n",
        "      break  \n"
      ],
      "execution_count": 268,
      "outputs": [
        {
          "output_type": "stream",
          "text": [
            "5\n",
            "13\n",
            "24\n",
            "30\n",
            "31\n",
            "32\n"
          ],
          "name": "stdout"
        }
      ]
    },
    {
      "cell_type": "markdown",
      "metadata": {
        "id": "UxZMzmCFYt5p",
        "colab_type": "text"
      },
      "source": [
        "**Выберем 24**"
      ]
    },
    {
      "cell_type": "code",
      "metadata": {
        "id": "XM280uFi3Vt8",
        "colab_type": "code",
        "colab": {
          "base_uri": "https://localhost:8080/",
          "height": 34
        },
        "outputId": "1bca1e39-0578-4b48-9d02-6fd97a5320fb"
      },
      "source": [
        "test_datasetQO[24][0:784].shape"
      ],
      "execution_count": 233,
      "outputs": [
        {
          "output_type": "execute_result",
          "data": {
            "text/plain": [
              "(784,)"
            ]
          },
          "metadata": {
            "tags": []
          },
          "execution_count": 233
        }
      ]
    },
    {
      "cell_type": "code",
      "metadata": {
        "id": "zLu1xc_c3iFx",
        "colab_type": "code",
        "colab": {
          "base_uri": "https://localhost:8080/",
          "height": 299
        },
        "outputId": "dea95a7e-3f41-4377-cc7e-09a9718173de"
      },
      "source": [
        "print(y_pred[13],\" \", y_test[13])\n",
        "plt.imshow(test_datasetQO[13][0:784].reshape((28, 28)).T, cmap='gray')"
      ],
      "execution_count": 289,
      "outputs": [
        {
          "output_type": "stream",
          "text": [
            "0.0   1.0\n"
          ],
          "name": "stdout"
        },
        {
          "output_type": "execute_result",
          "data": {
            "text/plain": [
              "<matplotlib.image.AxesImage at 0x7f1f7c97ea90>"
            ]
          },
          "metadata": {
            "tags": []
          },
          "execution_count": 289
        },
        {
          "output_type": "display_data",
          "data": {
            "image/png": "[encoded data removed]",
            "text/plain": [
              "<Figure size 432x288 with 1 Axes>"
            ]
          },
          "metadata": {
            "tags": []
          }
        }
      ]
    },
    {
      "cell_type": "code",
      "metadata": {
        "id": "NN_USsG6E5sb",
        "colab_type": "code",
        "colab": {}
      },
      "source": [
        "closest_distances, indices = knn.kneighbors(test_datasetQO[:, 0:784], n_neighbors=3)"
      ],
      "execution_count": 0,
      "outputs": []
    },
    {
      "cell_type": "code",
      "metadata": {
        "id": "xdV_hwsrF9T9",
        "colab_type": "code",
        "colab": {
          "base_uri": "https://localhost:8080/",
          "height": 34
        },
        "outputId": "669ea849-0f02-456f-cf3f-3dcde2cfea5f"
      },
      "source": [
        "closest_distances[13], indices[13]"
      ],
      "execution_count": 279,
      "outputs": [
        {
          "output_type": "execute_result",
          "data": {
            "text/plain": [
              "(array([0.54298257, 0.59718675, 0.60875624]), array([1574,  783,  335]))"
            ]
          },
          "metadata": {
            "tags": []
          },
          "execution_count": 279
        }
      ]
    },
    {
      "cell_type": "code",
      "metadata": {
        "id": "jjc6mihjGXgi",
        "colab_type": "code",
        "colab": {
          "base_uri": "https://localhost:8080/",
          "height": 299
        },
        "outputId": "7def55c1-a653-43ec-ece4-4876759b1823"
      },
      "source": [
        "print(y_pred[1574],\" \", y_test[1574])\n",
        "plt.imshow(test_datasetQO[1574][0:784].reshape((28, 28)).T, cmap='gray')"
      ],
      "execution_count": 291,
      "outputs": [
        {
          "output_type": "stream",
          "text": [
            "0.0   0.0\n"
          ],
          "name": "stdout"
        },
        {
          "output_type": "execute_result",
          "data": {
            "text/plain": [
              "<matplotlib.image.AxesImage at 0x7f1f7d046898>"
            ]
          },
          "metadata": {
            "tags": []
          },
          "execution_count": 291
        },
        {
          "output_type": "display_data",
          "data": {
            "image/png": "[encoded data removed]",
            "text/plain": [
              "<Figure size 432x288 with 1 Axes>"
            ]
          },
          "metadata": {
            "tags": []
          }
        }
      ]
    },
    {
      "cell_type": "code",
      "metadata": {
        "id": "y0nqjxLYHjwO",
        "colab_type": "code",
        "colab": {
          "base_uri": "https://localhost:8080/",
          "height": 299
        },
        "outputId": "df962609-d343-4017-c34b-850dba3ce2cb"
      },
      "source": [
        "print(y_pred[783],\" \", y_test[783])\n",
        "plt.imshow(test_datasetQO[783][0:784].reshape((28, 28)).T, cmap='gray')"
      ],
      "execution_count": 292,
      "outputs": [
        {
          "output_type": "stream",
          "text": [
            "0.0   1.0\n"
          ],
          "name": "stdout"
        },
        {
          "output_type": "execute_result",
          "data": {
            "text/plain": [
              "<matplotlib.image.AxesImage at 0x7f1f7d08a518>"
            ]
          },
          "metadata": {
            "tags": []
          },
          "execution_count": 292
        },
        {
          "output_type": "display_data",
          "data": {
            "image/png": "[encoded data removed]",
            "text/plain": [
              "<Figure size 432x288 with 1 Axes>"
            ]
          },
          "metadata": {
            "tags": []
          }
        }
      ]
    },
    {
      "cell_type": "code",
      "metadata": {
        "id": "m9mIiJlnHlgy",
        "colab_type": "code",
        "colab": {
          "base_uri": "https://localhost:8080/",
          "height": 299
        },
        "outputId": "a8572dcd-0ecd-4cef-d6c5-8a030988bf9d"
      },
      "source": [
        "print(y_pred[335],\" \", y_test[335])\n",
        "plt.imshow(test_datasetQO[335][0:784].reshape((28, 28)).T, cmap='gray')"
      ],
      "execution_count": 294,
      "outputs": [
        {
          "output_type": "stream",
          "text": [
            "1.0   1.0\n"
          ],
          "name": "stdout"
        },
        {
          "output_type": "execute_result",
          "data": {
            "text/plain": [
              "<matplotlib.image.AxesImage at 0x7f1f7c887b70>"
            ]
          },
          "metadata": {
            "tags": []
          },
          "execution_count": 294
        },
        {
          "output_type": "display_data",
          "data": {
            "image/png": "[encoded data removed]",
            "text/plain": [
              "<Figure size 432x288 with 1 Axes>"
            ]
          },
          "metadata": {
            "tags": []
          }
        }
      ]
    },
    {
      "cell_type": "markdown",
      "metadata": {
        "id": "d8hoT4x7I4OI",
        "colab_type": "text"
      },
      "source": [
        "**Итак, по-моему ошибка была совершена, вследствие того что \"хвост\" Q располагался ближе внутрь, данное предположение подтверждается 3-м соседом, который был определен правильно, и у которого \"хвост\" явно выпирает**"
      ]
    },
    {
      "cell_type": "markdown",
      "metadata": {
        "id": "_np2QcGFFpYC",
        "colab_type": "text"
      },
      "source": [
        "##**Дерево решений**"
      ]
    },
    {
      "cell_type": "code",
      "metadata": {
        "id": "g0MnHs8kFx2n",
        "colab_type": "code",
        "colab": {}
      },
      "source": [
        "from sklearn.tree import DecisionTreeClassifier"
      ],
      "execution_count": 0,
      "outputs": []
    },
    {
      "cell_type": "code",
      "metadata": {
        "id": "HQOc5oLKcLgU",
        "colab_type": "code",
        "colab": {
          "base_uri": "https://localhost:8080/",
          "height": 51
        },
        "outputId": "40e2dc2e-e513-49d0-9a99-e20da446f128"
      },
      "source": [
        "DecTree = DecisionTreeClassifier(criterion='entropy', max_depth=2)\n",
        "DecTree.fit(train_datasetQO[:, 0:784], train_datasetQO[:, -1])\n",
        "y_pred = DecTree.predict(test_datasetQO[:, 0:784])\n",
        "y_test = test_datasetQO[:, -1]\n",
        "y_proba = DecTree.predict_proba(test_datasetQO[:, 0:784])[:, 1]\n",
        "print(\"Accuracy:\", accuracy_score(y_test, y_pred))\n",
        "print(\"ROC AUC:\", roc_auc_score(y_test, y_proba))"
      ],
      "execution_count": 196,
      "outputs": [
        {
          "output_type": "stream",
          "text": [
            "Accuracy: 0.8675\n",
            "ROC AUC: 0.8973194999999999\n"
          ],
          "name": "stdout"
        }
      ]
    },
    {
      "cell_type": "code",
      "metadata": {
        "id": "FYfkW2Lqe4sa",
        "colab_type": "code",
        "colab": {
          "base_uri": "https://localhost:8080/",
          "height": 34
        },
        "outputId": "0b9b5868-1710-4db7-d377-487239f8ce34"
      },
      "source": [
        "DecTree = DecisionTreeClassifier(criterion='entropy', max_depth=2)\n",
        "DecTree.fit(train_datasetQO[:, 0:784], train_datasetQO[:, -1])\n",
        "y_pred = DecTree.predict(test_dataQ[:, 0:784])\n",
        "y_test = test_dataQ[:, -1]\n",
        "print(\"Accuracy:\", accuracy_score(y_test, y_pred))"
      ],
      "execution_count": 197,
      "outputs": [
        {
          "output_type": "stream",
          "text": [
            "Accuracy: 0.848\n"
          ],
          "name": "stdout"
        }
      ]
    },
    {
      "cell_type": "code",
      "metadata": {
        "id": "C3UsanQMfiSM",
        "colab_type": "code",
        "colab": {
          "base_uri": "https://localhost:8080/",
          "height": 34
        },
        "outputId": "677d9c86-183b-4a85-d3a7-a4bd669e4f79"
      },
      "source": [
        "DecTree = DecisionTreeClassifier(criterion='entropy', max_depth=2)\n",
        "DecTree.fit(train_datasetQO[:, 0:784], train_datasetQO[:, -1])\n",
        "y_pred = DecTree.predict(test_dataO[:, 0:784])\n",
        "y_test = test_dataO[:, -1]\n",
        "print(\"Accuracy:\", accuracy_score(y_test, y_pred))"
      ],
      "execution_count": 198,
      "outputs": [
        {
          "output_type": "stream",
          "text": [
            "Accuracy: 0.887\n"
          ],
          "name": "stdout"
        }
      ]
    },
    {
      "cell_type": "markdown",
      "metadata": {
        "id": "wCKLFuSBlofT",
        "colab_type": "text"
      },
      "source": [
        "###**Подбор параметров**"
      ]
    },
    {
      "cell_type": "code",
      "metadata": {
        "id": "s1Q6yp37h9qC",
        "colab_type": "code",
        "colab": {
          "base_uri": "https://localhost:8080/",
          "height": 1000
        },
        "outputId": "10fb0dbb-91d0-455b-9ea2-cde56c85fd72"
      },
      "source": [
        "for i in range(1,21):\n",
        "  for j in range(2, 9):\n",
        "    DecTree = DecisionTreeClassifier(criterion='entropy', max_depth=i)\n",
        "    DecT = cross_val_score(DecTree, train_datasetQO[:, 0:784], train_datasetQO[:, -1], cv=j)\n",
        "    print(\"Cross-Validation with {} max_depth Mean_score with {}-fold cv =====>>>> {} \".format(i, j, str(DecT.mean())))"
      ],
      "execution_count": 245,
      "outputs": [
        {
          "output_type": "stream",
          "text": [
            "Cross-Validation with 1 max_depth Mean_score with 2-fold cv =====>>>> 0.827 \n",
            "Cross-Validation with 1 max_depth Mean_score with 3-fold cv =====>>>> 0.8339911768055481 \n",
            "Cross-Validation with 1 max_depth Mean_score with 4-fold cv =====>>>> 0.82 \n",
            "Cross-Validation with 1 max_depth Mean_score with 5-fold cv =====>>>> 0.835 \n",
            "Cross-Validation with 1 max_depth Mean_score with 6-fold cv =====>>>> 0.8344966693119784 \n",
            "Cross-Validation with 1 max_depth Mean_score with 7-fold cv =====>>>> 0.8344824189894613 \n",
            "Cross-Validation with 1 max_depth Mean_score with 8-fold cv =====>>>> 0.835 \n",
            "Cross-Validation with 2 max_depth Mean_score with 2-fold cv =====>>>> 0.875 \n",
            "Cross-Validation with 2 max_depth Mean_score with 3-fold cv =====>>>> 0.8764992537447628 \n",
            "Cross-Validation with 2 max_depth Mean_score with 4-fold cv =====>>>> 0.883 \n",
            "Cross-Validation with 2 max_depth Mean_score with 5-fold cv =====>>>> 0.8870000000000001 \n",
            "Cross-Validation with 2 max_depth Mean_score with 6-fold cv =====>>>> 0.8800381165380083 \n",
            "Cross-Validation with 2 max_depth Mean_score with 7-fold cv =====>>>> 0.8870108764474962 \n",
            "Cross-Validation with 2 max_depth Mean_score with 8-fold cv =====>>>> 0.8885000000000001 \n",
            "Cross-Validation with 3 max_depth Mean_score with 2-fold cv =====>>>> 0.897 \n",
            "Cross-Validation with 3 max_depth Mean_score with 3-fold cv =====>>>> 0.8985002967038894 \n",
            "Cross-Validation with 3 max_depth Mean_score with 4-fold cv =====>>>> 0.9045000000000001 \n",
            "Cross-Validation with 3 max_depth Mean_score with 5-fold cv =====>>>> 0.9020000000000001 \n",
            "Cross-Validation with 3 max_depth Mean_score with 6-fold cv =====>>>> 0.8970372507996056 \n",
            "Cross-Validation with 3 max_depth Mean_score with 7-fold cv =====>>>> 0.9030054452589663 \n",
            "Cross-Validation with 3 max_depth Mean_score with 8-fold cv =====>>>> 0.899 \n",
            "Cross-Validation with 4 max_depth Mean_score with 2-fold cv =====>>>> 0.9225000000000001 \n",
            "Cross-Validation with 4 max_depth Mean_score with 3-fold cv =====>>>> 0.9174923426420433 \n",
            "Cross-Validation with 4 max_depth Mean_score with 4-fold cv =====>>>> 0.9245 \n",
            "Cross-Validation with 4 max_depth Mean_score with 5-fold cv =====>>>> 0.9245000000000001 \n",
            "Cross-Validation with 4 max_depth Mean_score with 6-fold cv =====>>>> 0.9250294591539813 \n",
            "Cross-Validation with 4 max_depth Mean_score with 7-fold cv =====>>>> 0.9215186222228474 \n",
            "Cross-Validation with 4 max_depth Mean_score with 8-fold cv =====>>>> 0.9199999999999999 \n",
            "Cross-Validation with 5 max_depth Mean_score with 2-fold cv =====>>>> 0.925 \n",
            "Cross-Validation with 5 max_depth Mean_score with 3-fold cv =====>>>> 0.9304978631325937 \n",
            "Cross-Validation with 5 max_depth Mean_score with 4-fold cv =====>>>> 0.9305 \n",
            "Cross-Validation with 5 max_depth Mean_score with 5-fold cv =====>>>> 0.9335000000000001 \n",
            "Cross-Validation with 5 max_depth Mean_score with 6-fold cv =====>>>> 0.9295264891902941 \n",
            "Cross-Validation with 5 max_depth Mean_score with 7-fold cv =====>>>> 0.9325146684301614 \n",
            "Cross-Validation with 5 max_depth Mean_score with 8-fold cv =====>>>> 0.936 \n",
            "Cross-Validation with 6 max_depth Mean_score with 2-fold cv =====>>>> 0.918 \n",
            "Cross-Validation with 6 max_depth Mean_score with 3-fold cv =====>>>> 0.9285003566440692 \n",
            "Cross-Validation with 6 max_depth Mean_score with 4-fold cv =====>>>> 0.9339999999999999 \n",
            "Cross-Validation with 6 max_depth Mean_score with 5-fold cv =====>>>> 0.931 \n",
            "Cross-Validation with 6 max_depth Mean_score with 6-fold cv =====>>>> 0.9345405574393383 \n",
            "Cross-Validation with 6 max_depth Mean_score with 7-fold cv =====>>>> 0.9315156674311603 \n",
            "Cross-Validation with 6 max_depth Mean_score with 8-fold cv =====>>>> 0.9355 \n",
            "Cross-Validation with 7 max_depth Mean_score with 2-fold cv =====>>>> 0.9245000000000001 \n",
            "Cross-Validation with 7 max_depth Mean_score with 3-fold cv =====>>>> 0.9350113586640533 \n",
            "Cross-Validation with 7 max_depth Mean_score with 4-fold cv =====>>>> 0.9325000000000001 \n",
            "Cross-Validation with 7 max_depth Mean_score with 5-fold cv =====>>>> 0.9335000000000001 \n",
            "Cross-Validation with 7 max_depth Mean_score with 6-fold cv =====>>>> 0.9365395714594907 \n",
            "Cross-Validation with 7 max_depth Mean_score with 7-fold cv =====>>>> 0.9400177287501229 \n",
            "Cross-Validation with 7 max_depth Mean_score with 8-fold cv =====>>>> 0.9335 \n",
            "Cross-Validation with 8 max_depth Mean_score with 2-fold cv =====>>>> 0.9245000000000001 \n",
            "Cross-Validation with 8 max_depth Mean_score with 3-fold cv =====>>>> 0.9320038601475726 \n",
            "Cross-Validation with 8 max_depth Mean_score with 4-fold cv =====>>>> 0.9295 \n",
            "Cross-Validation with 8 max_depth Mean_score with 5-fold cv =====>>>> 0.932 \n",
            "Cross-Validation with 8 max_depth Mean_score with 6-fold cv =====>>>> 0.9300315032585432 \n",
            "Cross-Validation with 8 max_depth Mean_score with 7-fold cv =====>>>> 0.9380091739246669 \n",
            "Cross-Validation with 8 max_depth Mean_score with 8-fold cv =====>>>> 0.9319999999999999 \n",
            "Cross-Validation with 9 max_depth Mean_score with 2-fold cv =====>>>> 0.9205000000000001 \n",
            "Cross-Validation with 9 max_depth Mean_score with 3-fold cv =====>>>> 0.9349963736191281 \n",
            "Cross-Validation with 9 max_depth Mean_score with 4-fold cv =====>>>> 0.9325 \n",
            "Cross-Validation with 9 max_depth Mean_score with 5-fold cv =====>>>> 0.9355 \n",
            "Cross-Validation with 9 max_depth Mean_score with 6-fold cv =====>>>> 0.9365275473150084 \n",
            "Cross-Validation with 9 max_depth Mean_score with 7-fold cv =====>>>> 0.9375167086434691 \n",
            "Cross-Validation with 9 max_depth Mean_score with 8-fold cv =====>>>> 0.9415 \n",
            "Cross-Validation with 10 max_depth Mean_score with 2-fold cv =====>>>> 0.919 \n",
            "Cross-Validation with 10 max_depth Mean_score with 3-fold cv =====>>>> 0.937497377617138 \n",
            "Cross-Validation with 10 max_depth Mean_score with 4-fold cv =====>>>> 0.933 \n",
            "Cross-Validation with 10 max_depth Mean_score with 5-fold cv =====>>>> 0.9315 \n",
            "Cross-Validation with 10 max_depth Mean_score with 6-fold cv =====>>>> 0.9305395233629126 \n",
            "Cross-Validation with 10 max_depth Mean_score with 7-fold cv =====>>>> 0.9345197056464664 \n",
            "Cross-Validation with 10 max_depth Mean_score with 8-fold cv =====>>>> 0.9395 \n",
            "Cross-Validation with 11 max_depth Mean_score with 2-fold cv =====>>>> 0.9295 \n",
            "Cross-Validation with 11 max_depth Mean_score with 3-fold cv =====>>>> 0.9344943746141351 \n",
            "Cross-Validation with 11 max_depth Mean_score with 4-fold cv =====>>>> 0.9325 \n",
            "Cross-Validation with 11 max_depth Mean_score with 5-fold cv =====>>>> 0.93 \n",
            "Cross-Validation with 11 max_depth Mean_score with 6-fold cv =====>>>> 0.935027535290864 \n",
            "Cross-Validation with 11 max_depth Mean_score with 7-fold cv =====>>>> 0.9355151890363159 \n",
            "Cross-Validation with 11 max_depth Mean_score with 8-fold cv =====>>>> 0.937 \n",
            "Cross-Validation with 12 max_depth Mean_score with 2-fold cv =====>>>> 0.9235 \n",
            "Cross-Validation with 12 max_depth Mean_score with 3-fold cv =====>>>> 0.9319978661296027 \n",
            "Cross-Validation with 12 max_depth Mean_score with 4-fold cv =====>>>> 0.93 \n",
            "Cross-Validation with 12 max_depth Mean_score with 5-fold cv =====>>>> 0.9285 \n",
            "Cross-Validation with 12 max_depth Mean_score with 6-fold cv =====>>>> 0.9350305413269845 \n",
            "Cross-Validation with 12 max_depth Mean_score with 7-fold cv =====>>>> 0.9345232232556174 \n",
            "Cross-Validation with 12 max_depth Mean_score with 8-fold cv =====>>>> 0.935 \n",
            "Cross-Validation with 13 max_depth Mean_score with 2-fold cv =====>>>> 0.916 \n",
            "Cross-Validation with 13 max_depth Mean_score with 3-fold cv =====>>>> 0.9299988611365856 \n",
            "Cross-Validation with 13 max_depth Mean_score with 4-fold cv =====>>>> 0.9315 \n",
            "Cross-Validation with 13 max_depth Mean_score with 5-fold cv =====>>>> 0.9305 \n",
            "Cross-Validation with 13 max_depth Mean_score with 6-fold cv =====>>>> 0.9300345092946637 \n",
            "Cross-Validation with 13 max_depth Mean_score with 7-fold cv =====>>>> 0.9365106724261654 \n",
            "Cross-Validation with 13 max_depth Mean_score with 8-fold cv =====>>>> 0.9315 \n",
            "Cross-Validation with 14 max_depth Mean_score with 2-fold cv =====>>>> 0.9195 \n",
            "Cross-Validation with 14 max_depth Mean_score with 3-fold cv =====>>>> 0.9335053616490742 \n",
            "Cross-Validation with 14 max_depth Mean_score with 4-fold cv =====>>>> 0.935 \n",
            "Cross-Validation with 14 max_depth Mean_score with 5-fold cv =====>>>> 0.9339999999999999 \n",
            "Cross-Validation with 14 max_depth Mean_score with 6-fold cv =====>>>> 0.9305305052545512 \n",
            "Cross-Validation with 14 max_depth Mean_score with 7-fold cv =====>>>> 0.934509152819012 \n",
            "Cross-Validation with 14 max_depth Mean_score with 8-fold cv =====>>>> 0.929 \n",
            "Cross-Validation with 15 max_depth Mean_score with 2-fold cv =====>>>> 0.9275 \n",
            "Cross-Validation with 15 max_depth Mean_score with 3-fold cv =====>>>> 0.9320068571565577 \n",
            "Cross-Validation with 15 max_depth Mean_score with 4-fold cv =====>>>> 0.931 \n",
            "Cross-Validation with 15 max_depth Mean_score with 5-fold cv =====>>>> 0.9315000000000001 \n",
            "Cross-Validation with 15 max_depth Mean_score with 6-fold cv =====>>>> 0.935538561431354 \n",
            "Cross-Validation with 15 max_depth Mean_score with 7-fold cv =====>>>> 0.935508153818013 \n",
            "Cross-Validation with 15 max_depth Mean_score with 8-fold cv =====>>>> 0.937 \n",
            "Cross-Validation with 16 max_depth Mean_score with 2-fold cv =====>>>> 0.9245000000000001 \n",
            "Cross-Validation with 16 max_depth Mean_score with 3-fold cv =====>>>> 0.9354968741196285 \n",
            "Cross-Validation with 16 max_depth Mean_score with 4-fold cv =====>>>> 0.9295 \n",
            "Cross-Validation with 16 max_depth Mean_score with 5-fold cv =====>>>> 0.9339999999999999 \n",
            "Cross-Validation with 16 max_depth Mean_score with 6-fold cv =====>>>> 0.9350365533992256 \n",
            "Cross-Validation with 16 max_depth Mean_score with 7-fold cv =====>>>> 0.9395182282506225 \n",
            "Cross-Validation with 16 max_depth Mean_score with 8-fold cv =====>>>> 0.9355 \n",
            "Cross-Validation with 17 max_depth Mean_score with 2-fold cv =====>>>> 0.926 \n",
            "Cross-Validation with 17 max_depth Mean_score with 3-fold cv =====>>>> 0.9290038541535548 \n",
            "Cross-Validation with 17 max_depth Mean_score with 4-fold cv =====>>>> 0.934 \n",
            "Cross-Validation with 17 max_depth Mean_score with 5-fold cv =====>>>> 0.9315 \n",
            "Cross-Validation with 17 max_depth Mean_score with 6-fold cv =====>>>> 0.9385295673712816 \n",
            "Cross-Validation with 17 max_depth Mean_score with 7-fold cv =====>>>> 0.9385192272516215 \n",
            "Cross-Validation with 17 max_depth Mean_score with 8-fold cv =====>>>> 0.9325 \n",
            "Cross-Validation with 18 max_depth Mean_score with 2-fold cv =====>>>> 0.925 \n",
            "Cross-Validation with 18 max_depth Mean_score with 3-fold cv =====>>>> 0.9350053646460831 \n",
            "Cross-Validation with 18 max_depth Mean_score with 4-fold cv =====>>>> 0.93 \n",
            "Cross-Validation with 18 max_depth Mean_score with 5-fold cv =====>>>> 0.9339999999999999 \n",
            "Cross-Validation with 18 max_depth Mean_score with 6-fold cv =====>>>> 0.9310385253589207 \n",
            "Cross-Validation with 18 max_depth Mean_score with 7-fold cv =====>>>> 0.9335171870383138 \n",
            "Cross-Validation with 18 max_depth Mean_score with 8-fold cv =====>>>> 0.9335 \n",
            "Cross-Validation with 19 max_depth Mean_score with 2-fold cv =====>>>> 0.9195 \n",
            "Cross-Validation with 19 max_depth Mean_score with 3-fold cv =====>>>> 0.9324908741076405 \n",
            "Cross-Validation with 19 max_depth Mean_score with 4-fold cv =====>>>> 0.9325 \n",
            "Cross-Validation with 19 max_depth Mean_score with 5-fold cv =====>>>> 0.93 \n",
            "Cross-Validation with 19 max_depth Mean_score with 6-fold cv =====>>>> 0.9330285212707116 \n",
            "Cross-Validation with 19 max_depth Mean_score with 7-fold cv =====>>>> 0.9355187066454673 \n",
            "Cross-Validation with 19 max_depth Mean_score with 8-fold cv =====>>>> 0.9384999999999999 \n",
            "Cross-Validation with 20 max_depth Mean_score with 2-fold cv =====>>>> 0.9215 \n",
            "Cross-Validation with 20 max_depth Mean_score with 3-fold cv =====>>>> 0.9334933736131341 \n",
            "Cross-Validation with 20 max_depth Mean_score with 4-fold cv =====>>>> 0.9305000000000001 \n",
            "Cross-Validation with 20 max_depth Mean_score with 5-fold cv =====>>>> 0.9349999999999999 \n",
            "Cross-Validation with 20 max_depth Mean_score with 6-fold cv =====>>>> 0.9320305172786957 \n",
            "Cross-Validation with 20 max_depth Mean_score with 7-fold cv =====>>>> 0.9395217458597741 \n",
            "Cross-Validation with 20 max_depth Mean_score with 8-fold cv =====>>>> 0.9364999999999999 \n"
          ],
          "name": "stdout"
        }
      ]
    },
    {
      "cell_type": "markdown",
      "metadata": {
        "id": "bmpVg5tGZCGT",
        "colab_type": "text"
      },
      "source": [
        "**Лучший результат с max_depth = 9**"
      ]
    },
    {
      "cell_type": "markdown",
      "metadata": {
        "id": "MKsd4pK5xVeI",
        "colab_type": "text"
      },
      "source": [
        "###**Дополнительно**"
      ]
    },
    {
      "cell_type": "markdown",
      "metadata": {
        "id": "Md3NxWti07_8",
        "colab_type": "text"
      },
      "source": [
        " Определить, по каким пикселям принимается решение и в чью пользу: O или Q."
      ]
    },
    {
      "cell_type": "code",
      "metadata": {
        "id": "2P3X56O7xWte",
        "colab_type": "code",
        "colab": {
          "base_uri": "https://localhost:8080/",
          "height": 51
        },
        "outputId": "640afe9f-510d-4aab-cb5b-6abd33476a38"
      },
      "source": [
        "DecTree = DecisionTreeClassifier(criterion='entropy', max_depth=9)\n",
        "DecTree.fit(train_datasetQO[:, 0:784], train_datasetQO[:, -1])\n",
        "y_pred = DecTree.predict(test_datasetQO[:, 0:784])\n",
        "y_test = test_datasetQO[:, -1]\n",
        "y_proba = DecTree.predict_proba(test_datasetQO[:, 0:784])[:, 1]\n",
        "print(\"Accuracy:\", accuracy_score(y_test, y_pred))\n",
        "print(\"ROC AUC:\", roc_auc_score(y_test, y_proba))"
      ],
      "execution_count": 32,
      "outputs": [
        {
          "output_type": "stream",
          "text": [
            "Accuracy: 0.9315\n",
            "ROC AUC: 0.9315000000000001\n"
          ],
          "name": "stdout"
        }
      ]
    },
    {
      "cell_type": "code",
      "metadata": {
        "id": "5jUjpsDg4rwK",
        "colab_type": "code",
        "colab": {}
      },
      "source": [
        "n_nodes = DecTree.tree_.node_count\n",
        "children_left = DecTree.tree_.children_left\n",
        "children_right = DecTree.tree_.children_right\n",
        "feature = DecTree.tree_.feature\n",
        "threshold = DecTree.tree_.threshold"
      ],
      "execution_count": 0,
      "outputs": []
    },
    {
      "cell_type": "code",
      "metadata": {
        "id": "BVU5tX2B46Sl",
        "colab_type": "code",
        "colab": {}
      },
      "source": [
        "node_indicator = DecTree.decision_path(test_datasetQO[:, 0:784])"
      ],
      "execution_count": 0,
      "outputs": []
    },
    {
      "cell_type": "code",
      "metadata": {
        "id": "o59EGc405Lw4",
        "colab_type": "code",
        "colab": {}
      },
      "source": [
        "leave_id = DecTree.apply(test_datasetQO[:, 0:784])"
      ],
      "execution_count": 0,
      "outputs": []
    },
    {
      "cell_type": "code",
      "metadata": {
        "id": "4Kq7FqKc5oNH",
        "colab_type": "code",
        "colab": {}
      },
      "source": [
        "test = test_datasetQO[:, 0:784]"
      ],
      "execution_count": 0,
      "outputs": []
    },
    {
      "cell_type": "markdown",
      "metadata": {
        "id": "-IzyXsf--B3n",
        "colab_type": "text"
      },
      "source": [
        "**Признаки по которым принимаются решения**"
      ]
    },
    {
      "cell_type": "code",
      "metadata": {
        "id": "TINAgNNB7a9N",
        "colab_type": "code",
        "colab": {
          "base_uri": "https://localhost:8080/",
          "height": 136
        },
        "outputId": "67e979bb-4c7c-41a2-e281-7253868f83b2"
      },
      "source": [
        "feature"
      ],
      "execution_count": 48,
      "outputs": [
        {
          "output_type": "execute_result",
          "data": {
            "text/plain": [
              "array([407, 302, 433, 238, 495, 441,  -2,  -2,  -2, 528, 576,  -2,  -2,\n",
              "       153,  -2,  -2,  -2, 640, 352, 456, 304, 622,  -2,  -2, 386, 271,\n",
              "        -2,  -2, 530,  -2,  -2, 570, 209, 372, 413,  -2,  -2,  -2, 618,\n",
              "        -2,  -2,  -2, 513,  -2, 271, 652,  -2,  -2,  -2, 501,  -2, 631,\n",
              "       185,  -2,  -2,  -2, 423, 571, 595,  -2, 295,  -2,  -2, 430, 300,\n",
              "        -2, 249, 131,  -2,  -2,  -2, 242, 686, 320,  -2, 626,  -2,  -2,\n",
              "        -2,  -2, 219,  -2, 544,  -2, 442,  -2,  -2])"
            ]
          },
          "metadata": {
            "tags": []
          },
          "execution_count": 48
        }
      ]
    },
    {
      "cell_type": "code",
      "metadata": {
        "id": "sQqOH9g87jF5",
        "colab_type": "code",
        "colab": {
          "base_uri": "https://localhost:8080/",
          "height": 299
        },
        "outputId": "b2812eed-65df-4b0a-d2e2-cc85b4286645"
      },
      "source": [
        "print(y_pred[500],\" \", y_test[500])\n",
        "plt.imshow(test_datasetQO[500][0:784].reshape((28, 28)).T, cmap='gray')"
      ],
      "execution_count": 55,
      "outputs": [
        {
          "output_type": "stream",
          "text": [
            "1.0   1.0\n"
          ],
          "name": "stdout"
        },
        {
          "output_type": "execute_result",
          "data": {
            "text/plain": [
              "<matplotlib.image.AxesImage at 0x7ff593885a90>"
            ]
          },
          "metadata": {
            "tags": []
          },
          "execution_count": 55
        },
        {
          "output_type": "display_data",
          "data": {
            "image/png": "[encoded data removed]",
            "text/plain": [
              "<Figure size 432x288 with 1 Axes>"
            ]
          },
          "metadata": {
            "tags": []
          }
        }
      ]
    },
    {
      "cell_type": "code",
      "metadata": {
        "id": "keZblSG_5dJ8",
        "colab_type": "code",
        "colab": {
          "base_uri": "https://localhost:8080/",
          "height": 51
        },
        "outputId": "f7cc94da-6e55-48a9-fbc3-9c12f4d527a5"
      },
      "source": [
        "sample_id = 500\n",
        "node_index = node_indicator.indices[node_indicator.indptr[sample_id] : node_indicator.indptr[sample_id + 1]]\n",
        "print(\"Rules used to predict sample %s: \" % sample_id)\n",
        "for node_id in node_index:\n",
        "    if leave_id[sample_id] != node_id:\n",
        "        continue\n",
        "    if test[sample_id, feature[node_id]] <= threshold[node_id]:\n",
        "        threshold_sign = \"<=\"\n",
        "    else:\n",
        "        threshold_sign = \">\"\n",
        "    print(\"Decision id node %s : (X[%s, %s] (= %s) %s %s)\" % (node_id, sample_id, feature[node_id], test[sample_id, feature[node_id]], threshold_sign, threshold[node_id]))"
      ],
      "execution_count": 56,
      "outputs": [
        {
          "output_type": "stream",
          "text": [
            "Rules used to predict sample 500: \n",
            "Decision id node 81 : (X[500, -2] (= 0.0) > -2.0)\n"
          ],
          "name": "stdout"
        }
      ]
    },
    {
      "cell_type": "markdown",
      "metadata": {
        "id": "PvIXiGuf-ssk",
        "colab_type": "text"
      },
      "source": [
        "**В данном случае решение принимаетсся в пользу Q по признаку 219  X[:, 219] <= 0.0287875784561038**"
      ]
    },
    {
      "cell_type": "code",
      "metadata": {
        "id": "FwVxH_ai-qhL",
        "colab_type": "code",
        "colab": {
          "base_uri": "https://localhost:8080/",
          "height": 299
        },
        "outputId": "f379ce7f-95cf-4fbb-90f9-f7d00f373054"
      },
      "source": [
        "print(y_pred[1600],\" \", y_test[1600])\n",
        "plt.imshow(test_datasetQO[1600][0:784].reshape((28, 28)).T, cmap='gray')"
      ],
      "execution_count": 62,
      "outputs": [
        {
          "output_type": "stream",
          "text": [
            "0.0   0.0\n"
          ],
          "name": "stdout"
        },
        {
          "output_type": "execute_result",
          "data": {
            "text/plain": [
              "<matplotlib.image.AxesImage at 0x7ff593238400>"
            ]
          },
          "metadata": {
            "tags": []
          },
          "execution_count": 62
        },
        {
          "output_type": "display_data",
          "data": {
            "image/png": "[encoded data removed]",
            "text/plain": [
              "<Figure size 432x288 with 1 Axes>"
            ]
          },
          "metadata": {
            "tags": []
          }
        }
      ]
    },
    {
      "cell_type": "code",
      "metadata": {
        "id": "9tPqsVJZ-6z5",
        "colab_type": "code",
        "colab": {
          "base_uri": "https://localhost:8080/",
          "height": 51
        },
        "outputId": "55cbbdbb-e304-4520-88af-f38d151f0191"
      },
      "source": [
        "sample_id = 1600\n",
        "node_index = node_indicator.indices[node_indicator.indptr[sample_id] : node_indicator.indptr[sample_id + 1]]\n",
        "print(\"Rules used to predict sample %s: \" % sample_id)\n",
        "for node_id in node_index:\n",
        "    if leave_id[sample_id] != node_id:\n",
        "        continue\n",
        "    if test[sample_id, feature[node_id]] <= threshold[node_id]:\n",
        "        threshold_sign = \"<=\"\n",
        "    else:\n",
        "        threshold_sign = \">\"\n",
        "    print(\"Decision id node %s : (X[%s, %s] (= %s) %s %s)\" % (node_id, sample_id, feature[node_id], test[sample_id, feature[node_id]], threshold_sign, threshold[node_id]))"
      ],
      "execution_count": 63,
      "outputs": [
        {
          "output_type": "stream",
          "text": [
            "Rules used to predict sample 1600: \n",
            "Decision id node 41 : (X[1600, -2] (= 0.0) > -2.0)\n"
          ],
          "name": "stdout"
        }
      ]
    },
    {
      "cell_type": "markdown",
      "metadata": {
        "id": "3GQZH5Xo_liN",
        "colab_type": "text"
      },
      "source": [
        "**Здесь решение принимаетсся в пользу O по признаку 618  X[:, 618] <= 0.04611745569854975**"
      ]
    },
    {
      "cell_type": "code",
      "metadata": {
        "id": "Fsz7CJXv_kiA",
        "colab_type": "code",
        "colab": {}
      },
      "source": [
        ""
      ],
      "execution_count": 0,
      "outputs": []
    },
    {
      "cell_type": "markdown",
      "metadata": {
        "id": "FlyCsTgB9qiH",
        "colab_type": "text"
      },
      "source": [
        "**Структура дерева**"
      ]
    },
    {
      "cell_type": "code",
      "metadata": {
        "id": "75s5Xq-V8cm_",
        "colab_type": "code",
        "colab": {
          "base_uri": "https://localhost:8080/",
          "height": 1000
        },
        "outputId": "d0e3704b-16c7-4b2b-cd52-6b76e6bce4b7"
      },
      "source": [
        "node_depth = np.zeros(shape=n_nodes)\n",
        "is_leaves = np.zeros(shape=n_nodes, dtype=bool)\n",
        "stack = [(0, -1)]  \n",
        "while len(stack) > 0:\n",
        "    node_id, parent_depth = stack.pop()\n",
        "    node_depth[node_id] = parent_depth + 1\n",
        "\n",
        "    if children_left[node_id] != children_right[node_id]:\n",
        "        stack.append((children_left[node_id], parent_depth + 1))\n",
        "        stack.append((children_right[node_id], parent_depth + 1))\n",
        "    else:\n",
        "        is_leaves[node_id] = True\n",
        "print(\"The tree structure has %s nodes and has \" \"the following tree structure:\" % n_nodes)\n",
        "for i in range(n_nodes):\n",
        "    if is_leaves[i]:\n",
        "        print(\"%snode=%s leaf node.\" % (node_depth[i] , i))\n",
        "    else:\n",
        "        print(\"%snode=%s test node: go to node %s if X[:, %s] <= %s else to \"\n",
        "            \"node %s.\" % (node_depth[i] , i, children_left[i], feature[i], threshold[i], children_right[i]))\n",
        "print()"
      ],
      "execution_count": 54,
      "outputs": [
        {
          "output_type": "stream",
          "text": [
            "The tree structure has 87 nodes and has the following tree structure:\n",
            "0.0node=0 test node: go to node 1 if X[:, 407] <= 0.007881436264142394 else to node 56.\n",
            "1.0node=1 test node: go to node 2 if X[:, 302] <= 0.0002914859214797616 else to node 17.\n",
            "2.0node=2 test node: go to node 3 if X[:, 433] <= 0.009344716556370258 else to node 16.\n",
            "3.0node=3 test node: go to node 4 if X[:, 238] <= 0.02224053256213665 else to node 9.\n",
            "4.0node=4 test node: go to node 5 if X[:, 495] <= 0.0005647527286782861 else to node 8.\n",
            "5.0node=5 test node: go to node 6 if X[:, 441] <= 0.003612200729548931 else to node 7.\n",
            "6.0node=6 leaf node.\n",
            "6.0node=7 leaf node.\n",
            "5.0node=8 leaf node.\n",
            "4.0node=9 test node: go to node 10 if X[:, 528] <= 0.006405198248103261 else to node 13.\n",
            "5.0node=10 test node: go to node 11 if X[:, 576] <= 0.0018222358776256442 else to node 12.\n",
            "6.0node=11 leaf node.\n",
            "6.0node=12 leaf node.\n",
            "5.0node=13 test node: go to node 14 if X[:, 153] <= 0.07545606791973114 else to node 15.\n",
            "6.0node=14 leaf node.\n",
            "6.0node=15 leaf node.\n",
            "3.0node=16 leaf node.\n",
            "2.0node=17 test node: go to node 18 if X[:, 640] <= 0.00034115226299036294 else to node 49.\n",
            "3.0node=18 test node: go to node 19 if X[:, 352] <= 0.031268016435205936 else to node 42.\n",
            "4.0node=19 test node: go to node 20 if X[:, 456] <= 0.0001529154396848753 else to node 31.\n",
            "5.0node=20 test node: go to node 21 if X[:, 304] <= 0.00206720270216465 else to node 24.\n",
            "6.0node=21 test node: go to node 22 if X[:, 622] <= 0.0909418947994709 else to node 23.\n",
            "7.0node=22 leaf node.\n",
            "7.0node=23 leaf node.\n",
            "6.0node=24 test node: go to node 25 if X[:, 386] <= 0.05240803211927414 else to node 28.\n",
            "7.0node=25 test node: go to node 26 if X[:, 271] <= 0.00035590241895988584 else to node 27.\n",
            "8.0node=26 leaf node.\n",
            "8.0node=27 leaf node.\n",
            "7.0node=28 test node: go to node 29 if X[:, 530] <= 0.00031297371606342494 else to node 30.\n",
            "8.0node=29 leaf node.\n",
            "8.0node=30 leaf node.\n",
            "5.0node=31 test node: go to node 32 if X[:, 570] <= 0.009953314904123545 else to node 41.\n",
            "6.0node=32 test node: go to node 33 if X[:, 209] <= 0.004135605180636048 else to node 38.\n",
            "7.0node=33 test node: go to node 34 if X[:, 372] <= 0.08193200454115868 else to node 37.\n",
            "8.0node=34 test node: go to node 35 if X[:, 413] <= 0.0755191370844841 else to node 36.\n",
            "9.0node=35 leaf node.\n",
            "9.0node=36 leaf node.\n",
            "8.0node=37 leaf node.\n",
            "7.0node=38 test node: go to node 39 if X[:, 618] <= 0.04611745569854975 else to node 40.\n",
            "8.0node=39 leaf node.\n",
            "8.0node=40 leaf node.\n",
            "6.0node=41 leaf node.\n",
            "4.0node=42 test node: go to node 43 if X[:, 513] <= 0.009412475395947695 else to node 44.\n",
            "5.0node=43 leaf node.\n",
            "5.0node=44 test node: go to node 45 if X[:, 271] <= 0.04032775014638901 else to node 48.\n",
            "6.0node=45 test node: go to node 46 if X[:, 652] <= 0.05951715633273125 else to node 47.\n",
            "7.0node=46 leaf node.\n",
            "7.0node=47 leaf node.\n",
            "6.0node=48 leaf node.\n",
            "3.0node=49 test node: go to node 50 if X[:, 501] <= 0.0009009905916173011 else to node 51.\n",
            "4.0node=50 leaf node.\n",
            "4.0node=51 test node: go to node 52 if X[:, 631] <= 0.06856773421168327 else to node 55.\n",
            "5.0node=52 test node: go to node 53 if X[:, 185] <= 0.06989310309290886 else to node 54.\n",
            "6.0node=53 leaf node.\n",
            "6.0node=54 leaf node.\n",
            "5.0node=55 leaf node.\n",
            "1.0node=56 test node: go to node 57 if X[:, 423] <= 0.030904334038496017 else to node 80.\n",
            "2.0node=57 test node: go to node 58 if X[:, 571] <= 0.011097496375441551 else to node 63.\n",
            "3.0node=58 test node: go to node 59 if X[:, 595] <= 0.07652807235717773 else to node 60.\n",
            "4.0node=59 leaf node.\n",
            "4.0node=60 test node: go to node 61 if X[:, 295] <= 0.046942876651883125 else to node 62.\n",
            "5.0node=61 leaf node.\n",
            "5.0node=62 leaf node.\n",
            "3.0node=63 test node: go to node 64 if X[:, 430] <= 0.016842021606862545 else to node 71.\n",
            "4.0node=64 test node: go to node 65 if X[:, 300] <= 0.06689250469207764 else to node 66.\n",
            "5.0node=65 leaf node.\n",
            "5.0node=66 test node: go to node 67 if X[:, 249] <= 0.00016699303523637354 else to node 70.\n",
            "6.0node=67 test node: go to node 68 if X[:, 131] <= 0.09121460095047951 else to node 69.\n",
            "7.0node=68 leaf node.\n",
            "7.0node=69 leaf node.\n",
            "6.0node=70 leaf node.\n",
            "4.0node=71 test node: go to node 72 if X[:, 242] <= 0.05577428825199604 else to node 79.\n",
            "5.0node=72 test node: go to node 73 if X[:, 686] <= 0.000607790017966181 else to node 78.\n",
            "6.0node=73 test node: go to node 74 if X[:, 320] <= 0.07167313992977142 else to node 75.\n",
            "7.0node=74 leaf node.\n",
            "7.0node=75 test node: go to node 76 if X[:, 626] <= 0.04590754397213459 else to node 77.\n",
            "8.0node=76 leaf node.\n",
            "8.0node=77 leaf node.\n",
            "6.0node=78 leaf node.\n",
            "5.0node=79 leaf node.\n",
            "2.0node=80 test node: go to node 81 if X[:, 219] <= 0.0287875784561038 else to node 82.\n",
            "3.0node=81 leaf node.\n",
            "3.0node=82 test node: go to node 83 if X[:, 544] <= 0.06088424660265446 else to node 84.\n",
            "4.0node=83 leaf node.\n",
            "4.0node=84 test node: go to node 85 if X[:, 442] <= 0.0111374007537961 else to node 86.\n",
            "5.0node=85 leaf node.\n",
            "5.0node=86 leaf node.\n",
            "\n"
          ],
          "name": "stdout"
        }
      ]
    },
    {
      "cell_type": "markdown",
      "metadata": {
        "id": "XC8FjDcWFyT1",
        "colab_type": "text"
      },
      "source": [
        "##**Random Forest**"
      ]
    },
    {
      "cell_type": "code",
      "metadata": {
        "id": "U1sB37IbGIKn",
        "colab_type": "code",
        "colab": {}
      },
      "source": [
        "from sklearn.ensemble import RandomForestClassifier "
      ],
      "execution_count": 0,
      "outputs": []
    },
    {
      "cell_type": "code",
      "metadata": {
        "id": "dFB9TgEydcYL",
        "colab_type": "code",
        "colab": {
          "base_uri": "https://localhost:8080/",
          "height": 51
        },
        "outputId": "4a7a1530-66f6-489f-9317-69991fdb41b4"
      },
      "source": [
        "RanFor = RandomForestClassifier(n_estimators=100, criterion='entropy', max_depth=2)\n",
        "RanFor.fit(train_datasetQO[:, 0:784], train_datasetQO[:, -1])\n",
        "y_pred = RanFor.predict(test_datasetQO[:, 0:784])\n",
        "y_test = test_datasetQO[:, -1]\n",
        "y_proba = RanFor.predict_proba(test_datasetQO[:, 0:784])[:, 1]\n",
        "print(\"Accuracy:\", accuracy_score(y_test, y_pred))\n",
        "print(\"ROC AUC:\", roc_auc_score(y_test, y_proba))"
      ],
      "execution_count": 238,
      "outputs": [
        {
          "output_type": "stream",
          "text": [
            "Accuracy: 0.9155\n",
            "ROC AUC: 0.978051\n"
          ],
          "name": "stdout"
        }
      ]
    },
    {
      "cell_type": "code",
      "metadata": {
        "id": "nUWI4WO9e66s",
        "colab_type": "code",
        "colab": {
          "base_uri": "https://localhost:8080/",
          "height": 34
        },
        "outputId": "70237b09-04e0-4796-ea40-4b5aaea03396"
      },
      "source": [
        "RanFor = RandomForestClassifier(n_estimators=100, criterion='entropy', max_depth=2)\n",
        "RanFor.fit(train_datasetQO[:, 0:784], train_datasetQO[:, -1])\n",
        "y_pred = RanFor.predict(test_dataQ[:, 0:784])\n",
        "y_test = test_dataQ[:, -1]\n",
        "print(\"Accuracy:\", accuracy_score(y_test, y_pred))"
      ],
      "execution_count": 199,
      "outputs": [
        {
          "output_type": "stream",
          "text": [
            "Accuracy: 0.89\n"
          ],
          "name": "stdout"
        }
      ]
    },
    {
      "cell_type": "code",
      "metadata": {
        "id": "lc1CGti_fu6H",
        "colab_type": "code",
        "colab": {
          "base_uri": "https://localhost:8080/",
          "height": 34
        },
        "outputId": "9a995522-601f-49d6-e763-26d2e625039a"
      },
      "source": [
        "RanFor = RandomForestClassifier(n_estimators=100, criterion='entropy', max_depth=2)\n",
        "RanFor.fit(train_datasetQO[:, 0:784], train_datasetQO[:, -1])\n",
        "y_pred = RanFor.predict(test_dataO[:, 0:784])\n",
        "y_test = test_dataO[:, -1]\n",
        "print(\"Accuracy:\", accuracy_score(y_test, y_pred))"
      ],
      "execution_count": 200,
      "outputs": [
        {
          "output_type": "stream",
          "text": [
            "Accuracy: 0.937\n"
          ],
          "name": "stdout"
        }
      ]
    },
    {
      "cell_type": "markdown",
      "metadata": {
        "id": "6k_8Zq8Blprt",
        "colab_type": "text"
      },
      "source": [
        "###**Подбор параметров**"
      ]
    },
    {
      "cell_type": "markdown",
      "metadata": {
        "id": "VyGqmbX4Zetb",
        "colab_type": "text"
      },
      "source": [
        "**Предыдущие классификаторы показали, что лучший score получается при cv=9**"
      ]
    },
    {
      "cell_type": "code",
      "metadata": {
        "id": "yldsvT8elq9A",
        "colab_type": "code",
        "colab": {
          "base_uri": "https://localhost:8080/",
          "height": 1000
        },
        "outputId": "f3a2c52a-3a4a-4ff8-de2e-b7a7a45d0231"
      },
      "source": [
        "for i in range(20,221,20):\n",
        "  for j in range(1,15):\n",
        "    RanFor = RandomForestClassifier(n_estimators=i, criterion='entropy', max_depth=j)\n",
        "    RanF = cross_val_score(RanFor, train_datasetQO[:, 0:784], train_datasetQO[:, -1], cv=8)\n",
        "    print(\"Cross-Validation with {} n_estimators Mean_score with {} max_depth =====>>>> {} \".format(i, j, str(RanF.mean())))"
      ],
      "execution_count": 303,
      "outputs": [
        {
          "output_type": "stream",
          "text": [
            "Cross-Validation with 20 n_estimators Mean_score with 1 max_depth =====>>>> 0.863 \n",
            "Cross-Validation with 20 n_estimators Mean_score with 2 max_depth =====>>>> 0.9275 \n",
            "Cross-Validation with 20 n_estimators Mean_score with 3 max_depth =====>>>> 0.9464999999999999 \n",
            "Cross-Validation with 20 n_estimators Mean_score with 4 max_depth =====>>>> 0.9604999999999999 \n",
            "Cross-Validation with 20 n_estimators Mean_score with 5 max_depth =====>>>> 0.968 \n",
            "Cross-Validation with 20 n_estimators Mean_score with 6 max_depth =====>>>> 0.9715 \n",
            "Cross-Validation with 20 n_estimators Mean_score with 7 max_depth =====>>>> 0.9735 \n",
            "Cross-Validation with 20 n_estimators Mean_score with 8 max_depth =====>>>> 0.978 \n",
            "Cross-Validation with 20 n_estimators Mean_score with 9 max_depth =====>>>> 0.975 \n",
            "Cross-Validation with 20 n_estimators Mean_score with 10 max_depth =====>>>> 0.976 \n",
            "Cross-Validation with 20 n_estimators Mean_score with 11 max_depth =====>>>> 0.972 \n",
            "Cross-Validation with 20 n_estimators Mean_score with 12 max_depth =====>>>> 0.978 \n",
            "Cross-Validation with 20 n_estimators Mean_score with 13 max_depth =====>>>> 0.9724999999999999 \n",
            "Cross-Validation with 20 n_estimators Mean_score with 14 max_depth =====>>>> 0.9775 \n",
            "Cross-Validation with 40 n_estimators Mean_score with 1 max_depth =====>>>> 0.8645 \n",
            "Cross-Validation with 40 n_estimators Mean_score with 2 max_depth =====>>>> 0.9219999999999999 \n",
            "Cross-Validation with 40 n_estimators Mean_score with 3 max_depth =====>>>> 0.954 \n",
            "Cross-Validation with 40 n_estimators Mean_score with 4 max_depth =====>>>> 0.9604999999999999 \n",
            "Cross-Validation with 40 n_estimators Mean_score with 5 max_depth =====>>>> 0.9695 \n",
            "Cross-Validation with 40 n_estimators Mean_score with 6 max_depth =====>>>> 0.9744999999999999 \n",
            "Cross-Validation with 40 n_estimators Mean_score with 7 max_depth =====>>>> 0.9755 \n",
            "Cross-Validation with 40 n_estimators Mean_score with 8 max_depth =====>>>> 0.975 \n",
            "Cross-Validation with 40 n_estimators Mean_score with 9 max_depth =====>>>> 0.977 \n",
            "Cross-Validation with 40 n_estimators Mean_score with 10 max_depth =====>>>> 0.9784999999999999 \n",
            "Cross-Validation with 40 n_estimators Mean_score with 11 max_depth =====>>>> 0.98 \n",
            "Cross-Validation with 40 n_estimators Mean_score with 12 max_depth =====>>>> 0.9755 \n",
            "Cross-Validation with 40 n_estimators Mean_score with 13 max_depth =====>>>> 0.9775 \n",
            "Cross-Validation with 40 n_estimators Mean_score with 14 max_depth =====>>>> 0.9795 \n",
            "Cross-Validation with 60 n_estimators Mean_score with 1 max_depth =====>>>> 0.8634999999999999 \n",
            "Cross-Validation with 60 n_estimators Mean_score with 2 max_depth =====>>>> 0.9349999999999999 \n",
            "Cross-Validation with 60 n_estimators Mean_score with 3 max_depth =====>>>> 0.9515 \n",
            "Cross-Validation with 60 n_estimators Mean_score with 4 max_depth =====>>>> 0.964 \n",
            "Cross-Validation with 60 n_estimators Mean_score with 5 max_depth =====>>>> 0.9704999999999999 \n",
            "Cross-Validation with 60 n_estimators Mean_score with 6 max_depth =====>>>> 0.974 \n",
            "Cross-Validation with 60 n_estimators Mean_score with 7 max_depth =====>>>> 0.9775 \n",
            "Cross-Validation with 60 n_estimators Mean_score with 8 max_depth =====>>>> 0.977 \n",
            "Cross-Validation with 60 n_estimators Mean_score with 9 max_depth =====>>>> 0.977 \n",
            "Cross-Validation with 60 n_estimators Mean_score with 10 max_depth =====>>>> 0.9804999999999999 \n",
            "Cross-Validation with 60 n_estimators Mean_score with 11 max_depth =====>>>> 0.978 \n",
            "Cross-Validation with 60 n_estimators Mean_score with 12 max_depth =====>>>> 0.9784999999999999 \n",
            "Cross-Validation with 60 n_estimators Mean_score with 13 max_depth =====>>>> 0.9804999999999999 \n",
            "Cross-Validation with 60 n_estimators Mean_score with 14 max_depth =====>>>> 0.98 \n",
            "Cross-Validation with 80 n_estimators Mean_score with 1 max_depth =====>>>> 0.859 \n",
            "Cross-Validation with 80 n_estimators Mean_score with 2 max_depth =====>>>> 0.9259999999999999 \n",
            "Cross-Validation with 80 n_estimators Mean_score with 3 max_depth =====>>>> 0.952 \n",
            "Cross-Validation with 80 n_estimators Mean_score with 4 max_depth =====>>>> 0.9664999999999999 \n",
            "Cross-Validation with 80 n_estimators Mean_score with 5 max_depth =====>>>> 0.9724999999999999 \n",
            "Cross-Validation with 80 n_estimators Mean_score with 6 max_depth =====>>>> 0.9764999999999999 \n",
            "Cross-Validation with 80 n_estimators Mean_score with 7 max_depth =====>>>> 0.9804999999999999 \n",
            "Cross-Validation with 80 n_estimators Mean_score with 8 max_depth =====>>>> 0.9784999999999999 \n",
            "Cross-Validation with 80 n_estimators Mean_score with 9 max_depth =====>>>> 0.9784999999999999 \n",
            "Cross-Validation with 80 n_estimators Mean_score with 10 max_depth =====>>>> 0.9824999999999999 \n",
            "Cross-Validation with 80 n_estimators Mean_score with 11 max_depth =====>>>> 0.98 \n",
            "Cross-Validation with 80 n_estimators Mean_score with 12 max_depth =====>>>> 0.98 \n",
            "Cross-Validation with 80 n_estimators Mean_score with 13 max_depth =====>>>> 0.977 \n",
            "Cross-Validation with 80 n_estimators Mean_score with 14 max_depth =====>>>> 0.982 \n",
            "Cross-Validation with 100 n_estimators Mean_score with 1 max_depth =====>>>> 0.8665 \n",
            "Cross-Validation with 100 n_estimators Mean_score with 2 max_depth =====>>>> 0.9325 \n",
            "Cross-Validation with 100 n_estimators Mean_score with 3 max_depth =====>>>> 0.9535 \n",
            "Cross-Validation with 100 n_estimators Mean_score with 4 max_depth =====>>>> 0.9664999999999999 \n",
            "Cross-Validation with 100 n_estimators Mean_score with 5 max_depth =====>>>> 0.975 \n",
            "Cross-Validation with 100 n_estimators Mean_score with 6 max_depth =====>>>> 0.9755 \n",
            "Cross-Validation with 100 n_estimators Mean_score with 7 max_depth =====>>>> 0.9804999999999999 \n",
            "Cross-Validation with 100 n_estimators Mean_score with 8 max_depth =====>>>> 0.9804999999999999 \n",
            "Cross-Validation with 100 n_estimators Mean_score with 9 max_depth =====>>>> 0.9784999999999999 \n",
            "Cross-Validation with 100 n_estimators Mean_score with 10 max_depth =====>>>> 0.979 \n",
            "Cross-Validation with 100 n_estimators Mean_score with 11 max_depth =====>>>> 0.9824999999999999 \n",
            "Cross-Validation with 100 n_estimators Mean_score with 12 max_depth =====>>>> 0.977 \n",
            "Cross-Validation with 100 n_estimators Mean_score with 13 max_depth =====>>>> 0.9795 \n",
            "Cross-Validation with 100 n_estimators Mean_score with 14 max_depth =====>>>> 0.979 \n",
            "Cross-Validation with 120 n_estimators Mean_score with 1 max_depth =====>>>> 0.872 \n",
            "Cross-Validation with 120 n_estimators Mean_score with 2 max_depth =====>>>> 0.9355 \n",
            "Cross-Validation with 120 n_estimators Mean_score with 3 max_depth =====>>>> 0.952 \n",
            "Cross-Validation with 120 n_estimators Mean_score with 4 max_depth =====>>>> 0.967 \n",
            "Cross-Validation with 120 n_estimators Mean_score with 5 max_depth =====>>>> 0.973 \n",
            "Cross-Validation with 120 n_estimators Mean_score with 6 max_depth =====>>>> 0.9755 \n",
            "Cross-Validation with 120 n_estimators Mean_score with 7 max_depth =====>>>> 0.9775 \n",
            "Cross-Validation with 120 n_estimators Mean_score with 8 max_depth =====>>>> 0.979 \n",
            "Cross-Validation with 120 n_estimators Mean_score with 9 max_depth =====>>>> 0.979 \n",
            "Cross-Validation with 120 n_estimators Mean_score with 10 max_depth =====>>>> 0.979 \n",
            "Cross-Validation with 120 n_estimators Mean_score with 11 max_depth =====>>>> 0.9784999999999999 \n",
            "Cross-Validation with 120 n_estimators Mean_score with 12 max_depth =====>>>> 0.9804999999999999 \n",
            "Cross-Validation with 120 n_estimators Mean_score with 13 max_depth =====>>>> 0.981 \n",
            "Cross-Validation with 120 n_estimators Mean_score with 14 max_depth =====>>>> 0.9824999999999999 \n",
            "Cross-Validation with 140 n_estimators Mean_score with 1 max_depth =====>>>> 0.865 \n",
            "Cross-Validation with 140 n_estimators Mean_score with 2 max_depth =====>>>> 0.9325 \n",
            "Cross-Validation with 140 n_estimators Mean_score with 3 max_depth =====>>>> 0.9515 \n",
            "Cross-Validation with 140 n_estimators Mean_score with 4 max_depth =====>>>> 0.9684999999999999 \n",
            "Cross-Validation with 140 n_estimators Mean_score with 5 max_depth =====>>>> 0.9755 \n",
            "Cross-Validation with 140 n_estimators Mean_score with 6 max_depth =====>>>> 0.9764999999999999 \n",
            "Cross-Validation with 140 n_estimators Mean_score with 7 max_depth =====>>>> 0.98 \n",
            "Cross-Validation with 140 n_estimators Mean_score with 8 max_depth =====>>>> 0.9795 \n",
            "Cross-Validation with 140 n_estimators Mean_score with 9 max_depth =====>>>> 0.979 \n",
            "Cross-Validation with 140 n_estimators Mean_score with 10 max_depth =====>>>> 0.9795 \n",
            "Cross-Validation with 140 n_estimators Mean_score with 11 max_depth =====>>>> 0.9815 \n",
            "Cross-Validation with 140 n_estimators Mean_score with 12 max_depth =====>>>> 0.9804999999999999 \n",
            "Cross-Validation with 140 n_estimators Mean_score with 13 max_depth =====>>>> 0.98 \n",
            "Cross-Validation with 140 n_estimators Mean_score with 14 max_depth =====>>>> 0.98 \n",
            "Cross-Validation with 160 n_estimators Mean_score with 1 max_depth =====>>>> 0.865 \n",
            "Cross-Validation with 160 n_estimators Mean_score with 2 max_depth =====>>>> 0.9335 \n",
            "Cross-Validation with 160 n_estimators Mean_score with 3 max_depth =====>>>> 0.953 \n",
            "Cross-Validation with 160 n_estimators Mean_score with 4 max_depth =====>>>> 0.9664999999999999 \n",
            "Cross-Validation with 160 n_estimators Mean_score with 5 max_depth =====>>>> 0.974 \n",
            "Cross-Validation with 160 n_estimators Mean_score with 6 max_depth =====>>>> 0.9755 \n",
            "Cross-Validation with 160 n_estimators Mean_score with 7 max_depth =====>>>> 0.978 \n",
            "Cross-Validation with 160 n_estimators Mean_score with 8 max_depth =====>>>> 0.9784999999999999 \n",
            "Cross-Validation with 160 n_estimators Mean_score with 9 max_depth =====>>>> 0.9804999999999999 \n",
            "Cross-Validation with 160 n_estimators Mean_score with 10 max_depth =====>>>> 0.9804999999999999 \n",
            "Cross-Validation with 160 n_estimators Mean_score with 11 max_depth =====>>>> 0.979 \n",
            "Cross-Validation with 160 n_estimators Mean_score with 12 max_depth =====>>>> 0.9795 \n",
            "Cross-Validation with 160 n_estimators Mean_score with 13 max_depth =====>>>> 0.978 \n",
            "Cross-Validation with 160 n_estimators Mean_score with 14 max_depth =====>>>> 0.977 \n",
            "Cross-Validation with 180 n_estimators Mean_score with 1 max_depth =====>>>> 0.861 \n",
            "Cross-Validation with 180 n_estimators Mean_score with 2 max_depth =====>>>> 0.937 \n",
            "Cross-Validation with 180 n_estimators Mean_score with 3 max_depth =====>>>> 0.9555 \n",
            "Cross-Validation with 180 n_estimators Mean_score with 4 max_depth =====>>>> 0.9655 \n",
            "Cross-Validation with 180 n_estimators Mean_score with 5 max_depth =====>>>> 0.973 \n",
            "Cross-Validation with 180 n_estimators Mean_score with 6 max_depth =====>>>> 0.9775 \n",
            "Cross-Validation with 180 n_estimators Mean_score with 7 max_depth =====>>>> 0.977 \n",
            "Cross-Validation with 180 n_estimators Mean_score with 8 max_depth =====>>>> 0.9804999999999999 \n",
            "Cross-Validation with 180 n_estimators Mean_score with 9 max_depth =====>>>> 0.98 \n",
            "Cross-Validation with 180 n_estimators Mean_score with 10 max_depth =====>>>> 0.978 \n",
            "Cross-Validation with 180 n_estimators Mean_score with 11 max_depth =====>>>> 0.9775 \n",
            "Cross-Validation with 180 n_estimators Mean_score with 12 max_depth =====>>>> 0.9824999999999999 \n",
            "Cross-Validation with 180 n_estimators Mean_score with 13 max_depth =====>>>> 0.981 \n",
            "Cross-Validation with 180 n_estimators Mean_score with 14 max_depth =====>>>> 0.9795 \n",
            "Cross-Validation with 200 n_estimators Mean_score with 1 max_depth =====>>>> 0.8685 \n",
            "Cross-Validation with 200 n_estimators Mean_score with 2 max_depth =====>>>> 0.9325000000000001 \n",
            "Cross-Validation with 200 n_estimators Mean_score with 3 max_depth =====>>>> 0.9544999999999999 \n",
            "Cross-Validation with 200 n_estimators Mean_score with 4 max_depth =====>>>> 0.966 \n",
            "Cross-Validation with 200 n_estimators Mean_score with 5 max_depth =====>>>> 0.975 \n",
            "Cross-Validation with 200 n_estimators Mean_score with 6 max_depth =====>>>> 0.9784999999999999 \n",
            "Cross-Validation with 200 n_estimators Mean_score with 7 max_depth =====>>>> 0.979 \n",
            "Cross-Validation with 200 n_estimators Mean_score with 8 max_depth =====>>>> 0.979 \n",
            "Cross-Validation with 200 n_estimators Mean_score with 9 max_depth =====>>>> 0.9795 \n",
            "Cross-Validation with 200 n_estimators Mean_score with 10 max_depth =====>>>> 0.9795 \n",
            "Cross-Validation with 200 n_estimators Mean_score with 11 max_depth =====>>>> 0.98 \n",
            "Cross-Validation with 200 n_estimators Mean_score with 12 max_depth =====>>>> 0.9795 \n",
            "Cross-Validation with 200 n_estimators Mean_score with 13 max_depth =====>>>> 0.979 \n",
            "Cross-Validation with 200 n_estimators Mean_score with 14 max_depth =====>>>> 0.979 \n",
            "Cross-Validation with 220 n_estimators Mean_score with 1 max_depth =====>>>> 0.8685 \n",
            "Cross-Validation with 220 n_estimators Mean_score with 2 max_depth =====>>>> 0.9335 \n",
            "Cross-Validation with 220 n_estimators Mean_score with 3 max_depth =====>>>> 0.9524999999999999 \n",
            "Cross-Validation with 220 n_estimators Mean_score with 4 max_depth =====>>>> 0.966 \n",
            "Cross-Validation with 220 n_estimators Mean_score with 5 max_depth =====>>>> 0.9735 \n",
            "Cross-Validation with 220 n_estimators Mean_score with 6 max_depth =====>>>> 0.9784999999999999 \n",
            "Cross-Validation with 220 n_estimators Mean_score with 7 max_depth =====>>>> 0.98 \n",
            "Cross-Validation with 220 n_estimators Mean_score with 8 max_depth =====>>>> 0.979 \n",
            "Cross-Validation with 220 n_estimators Mean_score with 9 max_depth =====>>>> 0.9784999999999999 \n",
            "Cross-Validation with 220 n_estimators Mean_score with 10 max_depth =====>>>> 0.98 \n",
            "Cross-Validation with 220 n_estimators Mean_score with 11 max_depth =====>>>> 0.981 \n",
            "Cross-Validation with 220 n_estimators Mean_score with 12 max_depth =====>>>> 0.98 \n",
            "Cross-Validation with 220 n_estimators Mean_score with 13 max_depth =====>>>> 0.978 \n",
            "Cross-Validation with 220 n_estimators Mean_score with 14 max_depth =====>>>> 0.9815 \n"
          ],
          "name": "stdout"
        }
      ]
    },
    {
      "cell_type": "markdown",
      "metadata": {
        "id": "mrje4a2Af8vj",
        "colab_type": "text"
      },
      "source": [
        "**Лучший результат 80 estimators c max_depth = 10, протеестируем**"
      ]
    },
    {
      "cell_type": "code",
      "metadata": {
        "id": "bor2vKbXf8Pj",
        "colab_type": "code",
        "colab": {
          "base_uri": "https://localhost:8080/",
          "height": 51
        },
        "outputId": "2975f625-2a1a-48c8-fe65-eff2949fd7e8"
      },
      "source": [
        "RanFor = RandomForestClassifier(n_estimators=80, criterion='entropy', max_depth=10)\n",
        "RanFor.fit(train_datasetQO[:, 0:784], train_datasetQO[:, -1])\n",
        "y_pred = RanFor.predict(test_datasetQO[:, 0:784])\n",
        "y_test = test_datasetQO[:, -1]\n",
        "y_proba = RanFor.predict_proba(test_datasetQO[:, 0:784])[:, 1]\n",
        "print(\"Accuracy:\", accuracy_score(y_test, y_pred))\n",
        "print(\"ROC AUC:\", roc_auc_score(y_test, y_proba))"
      ],
      "execution_count": 309,
      "outputs": [
        {
          "output_type": "stream",
          "text": [
            "Accuracy: 0.976\n",
            "ROC AUC: 0.995476\n"
          ],
          "name": "stdout"
        }
      ]
    },
    {
      "cell_type": "markdown",
      "metadata": {
        "id": "AR0VBY_JxXx0",
        "colab_type": "text"
      },
      "source": [
        "###**Дополнительно**"
      ]
    },
    {
      "cell_type": "markdown",
      "metadata": {
        "id": "U5Zw8IZ57ylK",
        "colab_type": "text"
      },
      "source": [
        "проанализировать feature_importances после применения классификатора."
      ]
    },
    {
      "cell_type": "markdown",
      "metadata": {
        "id": "PL6c9j2hi8Uh",
        "colab_type": "text"
      },
      "source": [
        "**Выберем топ-5 признаков-пикселей которые имееют наибольшее влияние**"
      ]
    },
    {
      "cell_type": "code",
      "metadata": {
        "id": "NgvnkR2txYvk",
        "colab_type": "code",
        "colab": {
          "base_uri": "https://localhost:8080/",
          "height": 282
        },
        "outputId": "2ba33567-f9a0-41a3-85f0-5ecda589bfe1"
      },
      "source": [
        "feat_importances = pd.Series(RanFor.feature_importances_, index=testQ.columns)\n",
        "feat_importances.nlargest(5).plot(kind='barh')"
      ],
      "execution_count": 310,
      "outputs": [
        {
          "output_type": "execute_result",
          "data": {
            "text/plain": [
              "<matplotlib.axes._subplots.AxesSubplot at 0x7f1f721efd68>"
            ]
          },
          "metadata": {
            "tags": []
          },
          "execution_count": 310
        },
        {
          "output_type": "display_data",
          "data": {
            "image/png": "[encoded data removed]",
            "text/plain": [
              "<Figure size 432x288 with 1 Axes>"
            ]
          },
          "metadata": {
            "tags": []
          }
        }
      ]
    },
    {
      "cell_type": "markdown",
      "metadata": {
        "id": "gIMG6FY7KCOo",
        "colab_type": "text"
      },
      "source": [
        ""
      ]
    },
    {
      "cell_type": "code",
      "metadata": {
        "id": "57HBU6MZKAUh",
        "colab_type": "code",
        "colab": {
          "base_uri": "https://localhost:8080/",
          "height": 51
        },
        "outputId": "ff96fc9d-a6d6-4f68-b32d-b2fe7d86da56"
      },
      "source": [
        "a = np.zeros((28,28))\n",
        "a"
      ],
      "execution_count": 313,
      "outputs": [
        {
          "output_type": "execute_result",
          "data": {
            "text/plain": [
              "array([0., 0., 0., 0., 0., 0., 0., 0., 0., 0., 0., 0., 0., 0., 0., 0., 0.,\n",
              "       0., 0., 0., 0., 0., 0., 0., 0., 0., 0., 0.])"
            ]
          },
          "metadata": {
            "tags": []
          },
          "execution_count": 313
        }
      ]
    },
    {
      "cell_type": "markdown",
      "metadata": {
        "id": "1rHJd32uGId2",
        "colab_type": "text"
      },
      "source": [
        "##**AdaBoost SkLearn**"
      ]
    },
    {
      "cell_type": "code",
      "metadata": {
        "id": "pzBdicEtGO5K",
        "colab_type": "code",
        "colab": {}
      },
      "source": [
        "from sklearn.ensemble import AdaBoostClassifier "
      ],
      "execution_count": 0,
      "outputs": []
    },
    {
      "cell_type": "markdown",
      "metadata": {
        "id": "OgYRLnDQV-hr",
        "colab_type": "text"
      },
      "source": [
        "**max depth=9 как лучший результат для дерева решений**"
      ]
    },
    {
      "cell_type": "code",
      "metadata": {
        "id": "cE2mby6SiAeF",
        "colab_type": "code",
        "colab": {
          "base_uri": "https://localhost:8080/",
          "height": 51
        },
        "outputId": "6c473594-6e67-4810-98ad-5252dde67736"
      },
      "source": [
        "AdaBoo = AdaBoostClassifier(DecisionTreeClassifier(max_depth=9), n_estimators=100)\n",
        "AdaBoo.fit(train_datasetQO[:, 0:784], train_datasetQO[:, -1])\n",
        "y_pred = AdaBoo.predict(test_datasetQO[:, 0:784])\n",
        "y_test = test_datasetQO[:, -1]\n",
        "y_proba = AdaBoo.predict_proba(test_datasetQO[:, 0:784])[:, 1]\n",
        "print(\"Accuracy:\", accuracy_score(y_test, y_pred))\n",
        "print(\"ROC AUC:\", roc_auc_score(y_test, y_proba))"
      ],
      "execution_count": 298,
      "outputs": [
        {
          "output_type": "stream",
          "text": [
            "Accuracy: 0.975\n",
            "ROC AUC: 0.995817\n"
          ],
          "name": "stdout"
        }
      ]
    },
    {
      "cell_type": "code",
      "metadata": {
        "id": "RxCGf05kipdn",
        "colab_type": "code",
        "colab": {
          "base_uri": "https://localhost:8080/",
          "height": 34
        },
        "outputId": "25072772-fcfc-40c0-80de-571cfdbb0c96"
      },
      "source": [
        "AdaBoo = AdaBoostClassifier(DecisionTreeClassifier(max_depth=1), n_estimators=100)\n",
        "RanFor.fit(train_datasetQO[:, 0:784], train_datasetQO[:, -1])\n",
        "y_pred = RanFor.predict(test_dataQ[:, 0:784])\n",
        "y_test = test_dataQ[:, -1]\n",
        "print(\"Accuracy:\", accuracy_score(y_test, y_pred))"
      ],
      "execution_count": 202,
      "outputs": [
        {
          "output_type": "stream",
          "text": [
            "Accuracy: 0.906\n"
          ],
          "name": "stdout"
        }
      ]
    },
    {
      "cell_type": "code",
      "metadata": {
        "id": "0BLLIetwirJ1",
        "colab_type": "code",
        "colab": {
          "base_uri": "https://localhost:8080/",
          "height": 34
        },
        "outputId": "17932d51-f036-4bd9-f8ee-035bb475aacd"
      },
      "source": [
        "AdaBoo = AdaBoostClassifier(DecisionTreeClassifier(max_depth=1), n_estimators=100)\n",
        "RanFor.fit(train_datasetQO[:, 0:784], train_datasetQO[:, -1])\n",
        "y_pred = RanFor.predict(test_dataO[:, 0:784])\n",
        "y_test = test_dataO[:, -1]\n",
        "print(\"Accuracy:\", accuracy_score(y_test, y_pred))"
      ],
      "execution_count": 203,
      "outputs": [
        {
          "output_type": "stream",
          "text": [
            "Accuracy: 0.936\n"
          ],
          "name": "stdout"
        }
      ]
    },
    {
      "cell_type": "markdown",
      "metadata": {
        "id": "Dl6WeHZ7lsIs",
        "colab_type": "text"
      },
      "source": [
        "###**Подбор параметров**"
      ]
    },
    {
      "cell_type": "code",
      "metadata": {
        "id": "HWvlUhsylr15",
        "colab_type": "code",
        "colab": {
          "base_uri": "https://localhost:8080/",
          "height": 357
        },
        "outputId": "fd579295-f2d4-4e28-c2b8-8ae123b01c30"
      },
      "source": [
        "for i in range(50,100,10):\n",
        "  for j in range(2, 10,2):\n",
        "    AdaBoo = AdaBoostClassifier(DecisionTreeClassifier(max_depth=9), n_estimators=i)\n",
        "    AdaB = cross_val_score(AdaBoo, train_datasetQO[:, 0:784], train_datasetQO[:, -1], cv=j)\n",
        "    print(\"Cross-Validation with {} n_estimators Mean_score with {}-fold cv =====>>>> {} \".format(i, j, str(AdaB.mean())))"
      ],
      "execution_count": 317,
      "outputs": [
        {
          "output_type": "stream",
          "text": [
            "Cross-Validation with 50 n_estimators Mean_score with 2-fold cv =====>>>> 0.9405 \n",
            "Cross-Validation with 50 n_estimators Mean_score with 4-fold cv =====>>>> 0.981 \n",
            "Cross-Validation with 50 n_estimators Mean_score with 6-fold cv =====>>>> 0.9790208739148211 \n",
            "Cross-Validation with 50 n_estimators Mean_score with 8-fold cv =====>>>> 0.9804999999999999 \n",
            "Cross-Validation with 60 n_estimators Mean_score with 2-fold cv =====>>>> 0.9455 \n",
            "Cross-Validation with 60 n_estimators Mean_score with 4-fold cv =====>>>> 0.9804999999999999 \n",
            "Cross-Validation with 60 n_estimators Mean_score with 6-fold cv =====>>>> 0.9800008416901137 \n",
            "Cross-Validation with 60 n_estimators Mean_score with 8-fold cv =====>>>> 0.982 \n",
            "Cross-Validation with 70 n_estimators Mean_score with 2-fold cv =====>>>> 0.9455 \n",
            "Cross-Validation with 70 n_estimators Mean_score with 4-fold cv =====>>>> 0.978 \n",
            "Cross-Validation with 70 n_estimators Mean_score with 6-fold cv =====>>>> 0.9810198879349734 \n",
            "Cross-Validation with 70 n_estimators Mean_score with 8-fold cv =====>>>> 0.984 \n",
            "Cross-Validation with 80 n_estimators Mean_score with 2-fold cv =====>>>> 0.9385 \n",
            "Cross-Validation with 80 n_estimators Mean_score with 4-fold cv =====>>>> 0.98 \n",
            "Cross-Validation with 80 n_estimators Mean_score with 6-fold cv =====>>>> 0.9845159079431499 \n",
            "Cross-Validation with 80 n_estimators Mean_score with 8-fold cv =====>>>> 0.9815 \n",
            "Cross-Validation with 90 n_estimators Mean_score with 2-fold cv =====>>>> 0.9455 \n",
            "Cross-Validation with 90 n_estimators Mean_score with 4-fold cv =====>>>> 0.98 \n",
            "Cross-Validation with 90 n_estimators Mean_score with 6-fold cv =====>>>> 0.981521895967102 \n",
            "Cross-Validation with 90 n_estimators Mean_score with 8-fold cv =====>>>> 0.9804999999999999 \n"
          ],
          "name": "stdout"
        }
      ]
    },
    {
      "cell_type": "markdown",
      "metadata": {
        "id": "87IbH3Nex8Ty",
        "colab_type": "text"
      },
      "source": [
        "**Лучшая точность у 80 n_estimators**"
      ]
    },
    {
      "cell_type": "code",
      "metadata": {
        "id": "rm7Wq_bstvYY",
        "colab_type": "code",
        "colab": {
          "base_uri": "https://localhost:8080/",
          "height": 51
        },
        "outputId": "53f5b9e1-1784-4c53-c5d9-78116a31e994"
      },
      "source": [
        "AdaBoo = AdaBoostClassifier(DecisionTreeClassifier(max_depth=9), n_estimators=80)\n",
        "AdaBoo.fit(train_datasetQO[:, 0:784], train_datasetQO[:, -1])\n",
        "y_pred = AdaBoo.predict(test_datasetQO[:, 0:784])\n",
        "y_test = test_datasetQO[:, -1]\n",
        "y_proba = AdaBoo.predict_proba(test_datasetQO[:, 0:784])[:, 1]\n",
        "print(\"Accuracy:\", accuracy_score(y_test, y_pred))\n",
        "print(\"ROC AUC:\", roc_auc_score(y_test, y_proba))"
      ],
      "execution_count": 318,
      "outputs": [
        {
          "output_type": "stream",
          "text": [
            "Accuracy: 0.9735\n",
            "ROC AUC: 0.995654\n"
          ],
          "name": "stdout"
        }
      ]
    },
    {
      "cell_type": "markdown",
      "metadata": {
        "id": "9jxK5d1XxZwC",
        "colab_type": "text"
      },
      "source": [
        "###**Дополнительно**"
      ]
    },
    {
      "cell_type": "markdown",
      "metadata": {
        "id": "txW8SbLu753x",
        "colab_type": "text"
      },
      "source": [
        "взять XGBoost, CatBoost или LightGBM библиотеку, сравнить результаты с SkLearn"
      ]
    },
    {
      "cell_type": "code",
      "metadata": {
        "id": "GThcqWqJLS3U",
        "colab_type": "code",
        "colab": {}
      },
      "source": [
        "!pip install catboost"
      ],
      "execution_count": 0,
      "outputs": []
    },
    {
      "cell_type": "code",
      "metadata": {
        "id": "7hxUkCPTxbAu",
        "colab_type": "code",
        "colab": {}
      },
      "source": [
        "from catboost import CatBoostClassifier #КОТИКИ!!!!"
      ],
      "execution_count": 0,
      "outputs": []
    },
    {
      "cell_type": "code",
      "metadata": {
        "id": "H9ddn2OaL2Qt",
        "colab_type": "code",
        "colab": {}
      },
      "source": [
        "model = CatBoostClassifier(iterations=100,depth=21, learning_rate=1, loss_function='Logloss', verbose=True)"
      ],
      "execution_count": 0,
      "outputs": []
    },
    {
      "cell_type": "code",
      "metadata": {
        "id": "JpXuAYWVz-t6",
        "colab_type": "code",
        "colab": {}
      },
      "source": [
        "model = CatBoostClassifier(iterations=500,depth=9, learning_rate=1, loss_function='Logloss', verbose=True)"
      ],
      "execution_count": 0,
      "outputs": []
    },
    {
      "cell_type": "code",
      "metadata": {
        "id": "KxF3jcLZ2Shq",
        "colab_type": "code",
        "colab": {
          "base_uri": "https://localhost:8080/",
          "height": 1000
        },
        "outputId": "3fe60ac5-b485-4731-e31f-8c40377a0a0a"
      },
      "source": [
        "model.fit(train_datasetQO[:, 0:784], train_datasetQO[:, -1])"
      ],
      "execution_count": 23,
      "outputs": [
        {
          "output_type": "stream",
          "text": [
            "0:\tlearn: 0.1536983\ttotal: 1.18s\tremaining: 9m 48s\n",
            "1:\tlearn: 0.0774813\ttotal: 2.09s\tremaining: 8m 40s\n",
            "2:\tlearn: 0.0439826\ttotal: 3.02s\tremaining: 8m 20s\n",
            "3:\tlearn: 0.0280266\ttotal: 3.95s\tremaining: 8m 10s\n",
            "4:\tlearn: 0.0187360\ttotal: 4.87s\tremaining: 8m 1s\n",
            "5:\tlearn: 0.0136132\ttotal: 5.78s\tremaining: 7m 56s\n",
            "6:\tlearn: 0.0105994\ttotal: 6.73s\tremaining: 7m 54s\n",
            "7:\tlearn: 0.0091486\ttotal: 7.65s\tremaining: 7m 50s\n",
            "8:\tlearn: 0.0072486\ttotal: 8.57s\tremaining: 7m 47s\n",
            "9:\tlearn: 0.0060236\ttotal: 9.49s\tremaining: 7m 45s\n",
            "10:\tlearn: 0.0056833\ttotal: 10.4s\tremaining: 7m 43s\n",
            "11:\tlearn: 0.0048955\ttotal: 11.3s\tremaining: 7m 40s\n",
            "12:\tlearn: 0.0047580\ttotal: 12.2s\tremaining: 7m 38s\n",
            "13:\tlearn: 0.0043890\ttotal: 13.1s\tremaining: 7m 36s\n",
            "14:\tlearn: 0.0037541\ttotal: 14.1s\tremaining: 7m 34s\n",
            "15:\tlearn: 0.0032845\ttotal: 15s\tremaining: 7m 32s\n",
            "16:\tlearn: 0.0030175\ttotal: 15.9s\tremaining: 7m 30s\n",
            "17:\tlearn: 0.0027479\ttotal: 16.8s\tremaining: 7m 30s\n",
            "18:\tlearn: 0.0025542\ttotal: 17.7s\tremaining: 7m 28s\n",
            "19:\tlearn: 0.0022982\ttotal: 18.6s\tremaining: 7m 26s\n",
            "20:\tlearn: 0.0020605\ttotal: 19.5s\tremaining: 7m 25s\n",
            "21:\tlearn: 0.0018920\ttotal: 20.4s\tremaining: 7m 23s\n",
            "22:\tlearn: 0.0017357\ttotal: 21.3s\tremaining: 7m 22s\n",
            "23:\tlearn: 0.0016225\ttotal: 22.2s\tremaining: 7m 21s\n",
            "24:\tlearn: 0.0015413\ttotal: 23.2s\tremaining: 7m 20s\n",
            "25:\tlearn: 0.0014622\ttotal: 24.1s\tremaining: 7m 19s\n",
            "26:\tlearn: 0.0013642\ttotal: 25s\tremaining: 7m 17s\n",
            "27:\tlearn: 0.0012959\ttotal: 25.9s\tremaining: 7m 16s\n",
            "28:\tlearn: 0.0012282\ttotal: 26.8s\tremaining: 7m 15s\n",
            "29:\tlearn: 0.0011954\ttotal: 27.7s\tremaining: 7m 14s\n",
            "30:\tlearn: 0.0011446\ttotal: 28.6s\tremaining: 7m 13s\n",
            "31:\tlearn: 0.0011248\ttotal: 29.5s\tremaining: 7m 11s\n",
            "32:\tlearn: 0.0010749\ttotal: 30.4s\tremaining: 7m 10s\n",
            "33:\tlearn: 0.0010437\ttotal: 31.3s\tremaining: 7m 9s\n",
            "34:\tlearn: 0.0010271\ttotal: 32.2s\tremaining: 7m 8s\n",
            "35:\tlearn: 0.0009993\ttotal: 33.1s\tremaining: 7m 7s\n",
            "36:\tlearn: 0.0009515\ttotal: 34.1s\tremaining: 7m 6s\n",
            "37:\tlearn: 0.0009072\ttotal: 34.9s\tremaining: 7m 4s\n",
            "38:\tlearn: 0.0008971\ttotal: 35.9s\tremaining: 7m 3s\n",
            "39:\tlearn: 0.0008809\ttotal: 36.8s\tremaining: 7m 2s\n",
            "40:\tlearn: 0.0008544\ttotal: 37.7s\tremaining: 7m 1s\n",
            "41:\tlearn: 0.0008257\ttotal: 38.6s\tremaining: 7m\n",
            "42:\tlearn: 0.0008020\ttotal: 39.5s\tremaining: 6m 59s\n",
            "43:\tlearn: 0.0007805\ttotal: 40.4s\tremaining: 6m 58s\n",
            "44:\tlearn: 0.0007618\ttotal: 41.3s\tremaining: 6m 57s\n",
            "45:\tlearn: 0.0007492\ttotal: 42.2s\tremaining: 6m 56s\n",
            "46:\tlearn: 0.0007192\ttotal: 43.1s\tremaining: 6m 55s\n",
            "47:\tlearn: 0.0007065\ttotal: 44s\tremaining: 6m 54s\n",
            "48:\tlearn: 0.0006952\ttotal: 44.9s\tremaining: 6m 53s\n",
            "49:\tlearn: 0.0006798\ttotal: 45.8s\tremaining: 6m 52s\n",
            "50:\tlearn: 0.0006729\ttotal: 46.7s\tremaining: 6m 51s\n",
            "51:\tlearn: 0.0006505\ttotal: 47.7s\tremaining: 6m 50s\n",
            "52:\tlearn: 0.0006397\ttotal: 48.6s\tremaining: 6m 49s\n",
            "53:\tlearn: 0.0006263\ttotal: 49.5s\tremaining: 6m 48s\n",
            "54:\tlearn: 0.0006169\ttotal: 50.4s\tremaining: 6m 47s\n",
            "55:\tlearn: 0.0006006\ttotal: 51.3s\tremaining: 6m 46s\n",
            "56:\tlearn: 0.0005854\ttotal: 52.2s\tremaining: 6m 45s\n",
            "57:\tlearn: 0.0005771\ttotal: 53.1s\tremaining: 6m 44s\n",
            "58:\tlearn: 0.0005476\ttotal: 54s\tremaining: 6m 43s\n",
            "59:\tlearn: 0.0005411\ttotal: 54.9s\tremaining: 6m 42s\n",
            "60:\tlearn: 0.0005339\ttotal: 55.8s\tremaining: 6m 41s\n",
            "61:\tlearn: 0.0005288\ttotal: 56.7s\tremaining: 6m 40s\n",
            "62:\tlearn: 0.0005179\ttotal: 57.6s\tremaining: 6m 39s\n",
            "63:\tlearn: 0.0005029\ttotal: 58.6s\tremaining: 6m 39s\n",
            "64:\tlearn: 0.0004903\ttotal: 59.5s\tremaining: 6m 37s\n",
            "65:\tlearn: 0.0004875\ttotal: 1m\tremaining: 6m 36s\n",
            "66:\tlearn: 0.0004797\ttotal: 1m 1s\tremaining: 6m 36s\n",
            "67:\tlearn: 0.0004642\ttotal: 1m 2s\tremaining: 6m 35s\n",
            "68:\tlearn: 0.0004566\ttotal: 1m 3s\tremaining: 6m 34s\n",
            "69:\tlearn: 0.0004477\ttotal: 1m 4s\tremaining: 6m 33s\n",
            "70:\tlearn: 0.0004358\ttotal: 1m 4s\tremaining: 6m 32s\n",
            "71:\tlearn: 0.0004294\ttotal: 1m 5s\tremaining: 6m 31s\n",
            "72:\tlearn: 0.0004160\ttotal: 1m 6s\tremaining: 6m 30s\n",
            "73:\tlearn: 0.0004095\ttotal: 1m 7s\tremaining: 6m 29s\n",
            "74:\tlearn: 0.0004054\ttotal: 1m 8s\tremaining: 6m 28s\n",
            "75:\tlearn: 0.0004012\ttotal: 1m 9s\tremaining: 6m 27s\n",
            "76:\tlearn: 0.0003983\ttotal: 1m 10s\tremaining: 6m 26s\n",
            "77:\tlearn: 0.0003903\ttotal: 1m 11s\tremaining: 6m 25s\n",
            "78:\tlearn: 0.0003824\ttotal: 1m 12s\tremaining: 6m 24s\n",
            "79:\tlearn: 0.0003751\ttotal: 1m 13s\tremaining: 6m 23s\n",
            "80:\tlearn: 0.0003714\ttotal: 1m 14s\tremaining: 6m 22s\n",
            "81:\tlearn: 0.0003685\ttotal: 1m 14s\tremaining: 6m 21s\n",
            "82:\tlearn: 0.0003620\ttotal: 1m 15s\tremaining: 6m 20s\n",
            "83:\tlearn: 0.0003562\ttotal: 1m 16s\tremaining: 6m 19s\n",
            "84:\tlearn: 0.0003528\ttotal: 1m 17s\tremaining: 6m 19s\n",
            "85:\tlearn: 0.0003511\ttotal: 1m 18s\tremaining: 6m 18s\n",
            "86:\tlearn: 0.0003487\ttotal: 1m 19s\tremaining: 6m 17s\n",
            "87:\tlearn: 0.0003463\ttotal: 1m 20s\tremaining: 6m 16s\n",
            "88:\tlearn: 0.0003381\ttotal: 1m 21s\tremaining: 6m 15s\n",
            "89:\tlearn: 0.0003364\ttotal: 1m 22s\tremaining: 6m 14s\n",
            "90:\tlearn: 0.0003317\ttotal: 1m 23s\tremaining: 6m 13s\n",
            "91:\tlearn: 0.0003254\ttotal: 1m 24s\tremaining: 6m 12s\n",
            "92:\tlearn: 0.0003151\ttotal: 1m 24s\tremaining: 6m 11s\n",
            "93:\tlearn: 0.0003125\ttotal: 1m 25s\tremaining: 6m 10s\n",
            "94:\tlearn: 0.0003103\ttotal: 1m 26s\tremaining: 6m 9s\n",
            "95:\tlearn: 0.0003080\ttotal: 1m 27s\tremaining: 6m 8s\n",
            "96:\tlearn: 0.0003051\ttotal: 1m 28s\tremaining: 6m 8s\n",
            "97:\tlearn: 0.0003039\ttotal: 1m 29s\tremaining: 6m 7s\n",
            "98:\tlearn: 0.0003017\ttotal: 1m 30s\tremaining: 6m 6s\n",
            "99:\tlearn: 0.0002983\ttotal: 1m 31s\tremaining: 6m 6s\n",
            "100:\tlearn: 0.0002941\ttotal: 1m 32s\tremaining: 6m 5s\n",
            "101:\tlearn: 0.0002925\ttotal: 1m 33s\tremaining: 6m 4s\n",
            "102:\tlearn: 0.0002906\ttotal: 1m 34s\tremaining: 6m 3s\n",
            "103:\tlearn: 0.0002891\ttotal: 1m 35s\tremaining: 6m 2s\n",
            "104:\tlearn: 0.0002877\ttotal: 1m 36s\tremaining: 6m 1s\n",
            "105:\tlearn: 0.0002851\ttotal: 1m 36s\tremaining: 6m\n",
            "106:\tlearn: 0.0002812\ttotal: 1m 37s\tremaining: 5m 59s\n",
            "107:\tlearn: 0.0002757\ttotal: 1m 38s\tremaining: 5m 58s\n",
            "108:\tlearn: 0.0002732\ttotal: 1m 39s\tremaining: 5m 57s\n",
            "109:\tlearn: 0.0002723\ttotal: 1m 40s\tremaining: 5m 56s\n",
            "110:\tlearn: 0.0002695\ttotal: 1m 41s\tremaining: 5m 55s\n",
            "111:\tlearn: 0.0002674\ttotal: 1m 42s\tremaining: 5m 54s\n",
            "112:\tlearn: 0.0002631\ttotal: 1m 43s\tremaining: 5m 53s\n",
            "113:\tlearn: 0.0002602\ttotal: 1m 44s\tremaining: 5m 52s\n",
            "114:\tlearn: 0.0002574\ttotal: 1m 45s\tremaining: 5m 51s\n",
            "115:\tlearn: 0.0002558\ttotal: 1m 46s\tremaining: 5m 50s\n",
            "116:\tlearn: 0.0002524\ttotal: 1m 46s\tremaining: 5m 49s\n",
            "117:\tlearn: 0.0002514\ttotal: 1m 47s\tremaining: 5m 49s\n",
            "118:\tlearn: 0.0002505\ttotal: 1m 48s\tremaining: 5m 48s\n",
            "119:\tlearn: 0.0002491\ttotal: 1m 49s\tremaining: 5m 47s\n",
            "120:\tlearn: 0.0002481\ttotal: 1m 50s\tremaining: 5m 46s\n",
            "121:\tlearn: 0.0002462\ttotal: 1m 51s\tremaining: 5m 45s\n",
            "122:\tlearn: 0.0002453\ttotal: 1m 52s\tremaining: 5m 44s\n",
            "123:\tlearn: 0.0002428\ttotal: 1m 53s\tremaining: 5m 43s\n",
            "124:\tlearn: 0.0002422\ttotal: 1m 54s\tremaining: 5m 42s\n",
            "125:\tlearn: 0.0002394\ttotal: 1m 55s\tremaining: 5m 41s\n",
            "126:\tlearn: 0.0002331\ttotal: 1m 56s\tremaining: 5m 40s\n",
            "127:\tlearn: 0.0002326\ttotal: 1m 56s\tremaining: 5m 39s\n",
            "128:\tlearn: 0.0002309\ttotal: 1m 57s\tremaining: 5m 38s\n",
            "129:\tlearn: 0.0002291\ttotal: 1m 58s\tremaining: 5m 38s\n",
            "130:\tlearn: 0.0002279\ttotal: 1m 59s\tremaining: 5m 37s\n",
            "131:\tlearn: 0.0002262\ttotal: 2m\tremaining: 5m 36s\n",
            "132:\tlearn: 0.0002226\ttotal: 2m 1s\tremaining: 5m 35s\n",
            "133:\tlearn: 0.0002187\ttotal: 2m 2s\tremaining: 5m 34s\n",
            "134:\tlearn: 0.0002166\ttotal: 2m 3s\tremaining: 5m 33s\n",
            "135:\tlearn: 0.0002148\ttotal: 2m 4s\tremaining: 5m 32s\n",
            "136:\tlearn: 0.0002131\ttotal: 2m 5s\tremaining: 5m 31s\n",
            "137:\tlearn: 0.0002117\ttotal: 2m 6s\tremaining: 5m 30s\n",
            "138:\tlearn: 0.0002105\ttotal: 2m 6s\tremaining: 5m 29s\n",
            "139:\tlearn: 0.0002085\ttotal: 2m 7s\tremaining: 5m 28s\n",
            "140:\tlearn: 0.0002076\ttotal: 2m 8s\tremaining: 5m 27s\n",
            "141:\tlearn: 0.0002063\ttotal: 2m 9s\tremaining: 5m 26s\n",
            "142:\tlearn: 0.0002050\ttotal: 2m 10s\tremaining: 5m 26s\n",
            "143:\tlearn: 0.0002035\ttotal: 2m 11s\tremaining: 5m 25s\n",
            "144:\tlearn: 0.0002019\ttotal: 2m 12s\tremaining: 5m 24s\n",
            "145:\tlearn: 0.0002001\ttotal: 2m 13s\tremaining: 5m 23s\n",
            "146:\tlearn: 0.0001980\ttotal: 2m 14s\tremaining: 5m 22s\n",
            "147:\tlearn: 0.0001972\ttotal: 2m 15s\tremaining: 5m 21s\n",
            "148:\tlearn: 0.0001955\ttotal: 2m 16s\tremaining: 5m 20s\n",
            "149:\tlearn: 0.0001944\ttotal: 2m 16s\tremaining: 5m 19s\n",
            "150:\tlearn: 0.0001930\ttotal: 2m 17s\tremaining: 5m 18s\n",
            "151:\tlearn: 0.0001908\ttotal: 2m 18s\tremaining: 5m 17s\n",
            "152:\tlearn: 0.0001898\ttotal: 2m 19s\tremaining: 5m 16s\n",
            "153:\tlearn: 0.0001895\ttotal: 2m 20s\tremaining: 5m 15s\n",
            "154:\tlearn: 0.0001887\ttotal: 2m 21s\tremaining: 5m 15s\n",
            "155:\tlearn: 0.0001870\ttotal: 2m 22s\tremaining: 5m 14s\n",
            "156:\tlearn: 0.0001862\ttotal: 2m 23s\tremaining: 5m 13s\n",
            "157:\tlearn: 0.0001859\ttotal: 2m 24s\tremaining: 5m 12s\n",
            "158:\tlearn: 0.0001847\ttotal: 2m 25s\tremaining: 5m 11s\n",
            "159:\tlearn: 0.0001834\ttotal: 2m 26s\tremaining: 5m 10s\n",
            "160:\tlearn: 0.0001824\ttotal: 2m 27s\tremaining: 5m 9s\n",
            "161:\tlearn: 0.0001810\ttotal: 2m 27s\tremaining: 5m 8s\n",
            "162:\tlearn: 0.0001797\ttotal: 2m 28s\tremaining: 5m 7s\n",
            "163:\tlearn: 0.0001786\ttotal: 2m 29s\tremaining: 5m 6s\n",
            "164:\tlearn: 0.0001767\ttotal: 2m 30s\tremaining: 5m 6s\n",
            "165:\tlearn: 0.0001754\ttotal: 2m 31s\tremaining: 5m 5s\n",
            "166:\tlearn: 0.0001726\ttotal: 2m 32s\tremaining: 5m 4s\n",
            "167:\tlearn: 0.0001714\ttotal: 2m 33s\tremaining: 5m 3s\n",
            "168:\tlearn: 0.0001706\ttotal: 2m 34s\tremaining: 5m 2s\n",
            "169:\tlearn: 0.0001690\ttotal: 2m 35s\tremaining: 5m 1s\n",
            "170:\tlearn: 0.0001684\ttotal: 2m 36s\tremaining: 5m\n",
            "171:\tlearn: 0.0001673\ttotal: 2m 37s\tremaining: 4m 59s\n",
            "172:\tlearn: 0.0001669\ttotal: 2m 38s\tremaining: 4m 58s\n",
            "173:\tlearn: 0.0001669\ttotal: 2m 39s\tremaining: 4m 57s\n",
            "174:\tlearn: 0.0001653\ttotal: 2m 39s\tremaining: 4m 57s\n",
            "175:\tlearn: 0.0001642\ttotal: 2m 40s\tremaining: 4m 56s\n",
            "176:\tlearn: 0.0001637\ttotal: 2m 41s\tremaining: 4m 55s\n",
            "177:\tlearn: 0.0001627\ttotal: 2m 42s\tremaining: 4m 54s\n",
            "178:\tlearn: 0.0001612\ttotal: 2m 43s\tremaining: 4m 53s\n",
            "179:\tlearn: 0.0001602\ttotal: 2m 44s\tremaining: 4m 52s\n",
            "180:\tlearn: 0.0001594\ttotal: 2m 45s\tremaining: 4m 52s\n",
            "181:\tlearn: 0.0001585\ttotal: 2m 46s\tremaining: 4m 51s\n",
            "182:\tlearn: 0.0001579\ttotal: 2m 47s\tremaining: 4m 50s\n",
            "183:\tlearn: 0.0001570\ttotal: 2m 48s\tremaining: 4m 49s\n",
            "184:\tlearn: 0.0001565\ttotal: 2m 49s\tremaining: 4m 48s\n",
            "185:\tlearn: 0.0001557\ttotal: 2m 50s\tremaining: 4m 47s\n",
            "186:\tlearn: 0.0001551\ttotal: 2m 51s\tremaining: 4m 46s\n",
            "187:\tlearn: 0.0001545\ttotal: 2m 52s\tremaining: 4m 45s\n",
            "188:\tlearn: 0.0001533\ttotal: 2m 53s\tremaining: 4m 44s\n",
            "189:\tlearn: 0.0001525\ttotal: 2m 54s\tremaining: 4m 43s\n",
            "190:\tlearn: 0.0001525\ttotal: 2m 54s\tremaining: 4m 42s\n",
            "191:\tlearn: 0.0001518\ttotal: 2m 55s\tremaining: 4m 42s\n",
            "192:\tlearn: 0.0001513\ttotal: 2m 56s\tremaining: 4m 41s\n",
            "193:\tlearn: 0.0001504\ttotal: 2m 57s\tremaining: 4m 40s\n",
            "194:\tlearn: 0.0001497\ttotal: 2m 58s\tremaining: 4m 39s\n",
            "195:\tlearn: 0.0001489\ttotal: 2m 59s\tremaining: 4m 38s\n",
            "196:\tlearn: 0.0001479\ttotal: 3m\tremaining: 4m 37s\n",
            "197:\tlearn: 0.0001469\ttotal: 3m 1s\tremaining: 4m 36s\n",
            "198:\tlearn: 0.0001465\ttotal: 3m 2s\tremaining: 4m 35s\n",
            "199:\tlearn: 0.0001451\ttotal: 3m 3s\tremaining: 4m 34s\n",
            "200:\tlearn: 0.0001450\ttotal: 3m 4s\tremaining: 4m 33s\n",
            "201:\tlearn: 0.0001450\ttotal: 3m 4s\tremaining: 4m 32s\n",
            "202:\tlearn: 0.0001443\ttotal: 3m 5s\tremaining: 4m 31s\n",
            "203:\tlearn: 0.0001441\ttotal: 3m 6s\tremaining: 4m 31s\n",
            "204:\tlearn: 0.0001441\ttotal: 3m 7s\tremaining: 4m 30s\n",
            "205:\tlearn: 0.0001436\ttotal: 3m 8s\tremaining: 4m 29s\n",
            "206:\tlearn: 0.0001431\ttotal: 3m 9s\tremaining: 4m 28s\n",
            "207:\tlearn: 0.0001423\ttotal: 3m 10s\tremaining: 4m 27s\n",
            "208:\tlearn: 0.0001420\ttotal: 3m 11s\tremaining: 4m 26s\n",
            "209:\tlearn: 0.0001409\ttotal: 3m 12s\tremaining: 4m 25s\n",
            "210:\tlearn: 0.0001409\ttotal: 3m 13s\tremaining: 4m 24s\n",
            "211:\tlearn: 0.0001407\ttotal: 3m 14s\tremaining: 4m 23s\n",
            "212:\tlearn: 0.0001405\ttotal: 3m 14s\tremaining: 4m 22s\n",
            "213:\tlearn: 0.0001405\ttotal: 3m 15s\tremaining: 4m 21s\n",
            "214:\tlearn: 0.0001401\ttotal: 3m 16s\tremaining: 4m 20s\n",
            "215:\tlearn: 0.0001391\ttotal: 3m 17s\tremaining: 4m 20s\n",
            "216:\tlearn: 0.0001388\ttotal: 3m 18s\tremaining: 4m 19s\n",
            "217:\tlearn: 0.0001378\ttotal: 3m 19s\tremaining: 4m 18s\n",
            "218:\tlearn: 0.0001375\ttotal: 3m 20s\tremaining: 4m 17s\n",
            "219:\tlearn: 0.0001375\ttotal: 3m 21s\tremaining: 4m 16s\n",
            "220:\tlearn: 0.0001375\ttotal: 3m 22s\tremaining: 4m 15s\n",
            "221:\tlearn: 0.0001374\ttotal: 3m 23s\tremaining: 4m 14s\n",
            "222:\tlearn: 0.0001369\ttotal: 3m 24s\tremaining: 4m 13s\n",
            "223:\tlearn: 0.0001365\ttotal: 3m 25s\tremaining: 4m 12s\n",
            "224:\tlearn: 0.0001365\ttotal: 3m 26s\tremaining: 4m 11s\n",
            "225:\tlearn: 0.0001365\ttotal: 3m 27s\tremaining: 4m 10s\n",
            "226:\tlearn: 0.0001358\ttotal: 3m 27s\tremaining: 4m 10s\n",
            "227:\tlearn: 0.0001351\ttotal: 3m 28s\tremaining: 4m 9s\n",
            "228:\tlearn: 0.0001350\ttotal: 3m 29s\tremaining: 4m 8s\n",
            "229:\tlearn: 0.0001350\ttotal: 3m 30s\tremaining: 4m 7s\n",
            "230:\tlearn: 0.0001350\ttotal: 3m 31s\tremaining: 4m 6s\n",
            "231:\tlearn: 0.0001344\ttotal: 3m 32s\tremaining: 4m 5s\n",
            "232:\tlearn: 0.0001341\ttotal: 3m 33s\tremaining: 4m 4s\n",
            "233:\tlearn: 0.0001338\ttotal: 3m 34s\tremaining: 4m 3s\n",
            "234:\tlearn: 0.0001335\ttotal: 3m 35s\tremaining: 4m 2s\n",
            "235:\tlearn: 0.0001328\ttotal: 3m 36s\tremaining: 4m 1s\n",
            "236:\tlearn: 0.0001328\ttotal: 3m 37s\tremaining: 4m 1s\n",
            "237:\tlearn: 0.0001314\ttotal: 3m 38s\tremaining: 4m\n",
            "238:\tlearn: 0.0001313\ttotal: 3m 39s\tremaining: 3m 59s\n",
            "239:\tlearn: 0.0001311\ttotal: 3m 39s\tremaining: 3m 58s\n",
            "240:\tlearn: 0.0001298\ttotal: 3m 40s\tremaining: 3m 57s\n",
            "241:\tlearn: 0.0001298\ttotal: 3m 41s\tremaining: 3m 56s\n",
            "242:\tlearn: 0.0001296\ttotal: 3m 42s\tremaining: 3m 55s\n",
            "243:\tlearn: 0.0001296\ttotal: 3m 43s\tremaining: 3m 54s\n",
            "244:\tlearn: 0.0001296\ttotal: 3m 44s\tremaining: 3m 53s\n",
            "245:\tlearn: 0.0001296\ttotal: 3m 45s\tremaining: 3m 52s\n",
            "246:\tlearn: 0.0001296\ttotal: 3m 46s\tremaining: 3m 51s\n",
            "247:\tlearn: 0.0001296\ttotal: 3m 47s\tremaining: 3m 50s\n",
            "248:\tlearn: 0.0001296\ttotal: 3m 48s\tremaining: 3m 50s\n",
            "249:\tlearn: 0.0001296\ttotal: 3m 49s\tremaining: 3m 49s\n",
            "250:\tlearn: 0.0001296\ttotal: 3m 50s\tremaining: 3m 48s\n",
            "251:\tlearn: 0.0001296\ttotal: 3m 50s\tremaining: 3m 47s\n",
            "252:\tlearn: 0.0001296\ttotal: 3m 51s\tremaining: 3m 46s\n",
            "253:\tlearn: 0.0001296\ttotal: 3m 52s\tremaining: 3m 45s\n",
            "254:\tlearn: 0.0001296\ttotal: 3m 53s\tremaining: 3m 44s\n",
            "255:\tlearn: 0.0001296\ttotal: 3m 54s\tremaining: 3m 43s\n",
            "256:\tlearn: 0.0001296\ttotal: 3m 55s\tremaining: 3m 42s\n",
            "257:\tlearn: 0.0001294\ttotal: 3m 56s\tremaining: 3m 41s\n",
            "258:\tlearn: 0.0001286\ttotal: 3m 57s\tremaining: 3m 40s\n",
            "259:\tlearn: 0.0001283\ttotal: 3m 58s\tremaining: 3m 39s\n",
            "260:\tlearn: 0.0001274\ttotal: 3m 59s\tremaining: 3m 39s\n",
            "261:\tlearn: 0.0001274\ttotal: 4m\tremaining: 3m 38s\n",
            "262:\tlearn: 0.0001260\ttotal: 4m\tremaining: 3m 37s\n",
            "263:\tlearn: 0.0001259\ttotal: 4m 1s\tremaining: 3m 36s\n",
            "264:\tlearn: 0.0001252\ttotal: 4m 2s\tremaining: 3m 35s\n",
            "265:\tlearn: 0.0001243\ttotal: 4m 3s\tremaining: 3m 34s\n",
            "266:\tlearn: 0.0001241\ttotal: 4m 4s\tremaining: 3m 33s\n",
            "267:\tlearn: 0.0001241\ttotal: 4m 5s\tremaining: 3m 32s\n",
            "268:\tlearn: 0.0001232\ttotal: 4m 6s\tremaining: 3m 31s\n",
            "269:\tlearn: 0.0001229\ttotal: 4m 7s\tremaining: 3m 30s\n",
            "270:\tlearn: 0.0001229\ttotal: 4m 8s\tremaining: 3m 29s\n",
            "271:\tlearn: 0.0001229\ttotal: 4m 9s\tremaining: 3m 28s\n",
            "272:\tlearn: 0.0001224\ttotal: 4m 10s\tremaining: 3m 27s\n",
            "273:\tlearn: 0.0001223\ttotal: 4m 10s\tremaining: 3m 27s\n",
            "274:\tlearn: 0.0001222\ttotal: 4m 11s\tremaining: 3m 26s\n",
            "275:\tlearn: 0.0001220\ttotal: 4m 12s\tremaining: 3m 25s\n",
            "276:\tlearn: 0.0001217\ttotal: 4m 13s\tremaining: 3m 24s\n",
            "277:\tlearn: 0.0001217\ttotal: 4m 14s\tremaining: 3m 23s\n",
            "278:\tlearn: 0.0001217\ttotal: 4m 15s\tremaining: 3m 22s\n",
            "279:\tlearn: 0.0001217\ttotal: 4m 16s\tremaining: 3m 21s\n",
            "280:\tlearn: 0.0001217\ttotal: 4m 17s\tremaining: 3m 20s\n",
            "281:\tlearn: 0.0001217\ttotal: 4m 18s\tremaining: 3m 19s\n",
            "282:\tlearn: 0.0001208\ttotal: 4m 19s\tremaining: 3m 18s\n",
            "283:\tlearn: 0.0001207\ttotal: 4m 20s\tremaining: 3m 17s\n",
            "284:\tlearn: 0.0001207\ttotal: 4m 20s\tremaining: 3m 16s\n",
            "285:\tlearn: 0.0001207\ttotal: 4m 21s\tremaining: 3m 15s\n",
            "286:\tlearn: 0.0001207\ttotal: 4m 22s\tremaining: 3m 15s\n",
            "287:\tlearn: 0.0001207\ttotal: 4m 23s\tremaining: 3m 14s\n",
            "288:\tlearn: 0.0001207\ttotal: 4m 24s\tremaining: 3m 13s\n",
            "289:\tlearn: 0.0001207\ttotal: 4m 25s\tremaining: 3m 12s\n",
            "290:\tlearn: 0.0001197\ttotal: 4m 26s\tremaining: 3m 11s\n",
            "291:\tlearn: 0.0001195\ttotal: 4m 27s\tremaining: 3m 10s\n",
            "292:\tlearn: 0.0001193\ttotal: 4m 28s\tremaining: 3m 9s\n",
            "293:\tlearn: 0.0001193\ttotal: 4m 29s\tremaining: 3m 8s\n",
            "294:\tlearn: 0.0001193\ttotal: 4m 30s\tremaining: 3m 7s\n",
            "295:\tlearn: 0.0001193\ttotal: 4m 30s\tremaining: 3m 6s\n",
            "296:\tlearn: 0.0001193\ttotal: 4m 31s\tremaining: 3m 5s\n",
            "297:\tlearn: 0.0001193\ttotal: 4m 32s\tremaining: 3m 4s\n",
            "298:\tlearn: 0.0001193\ttotal: 4m 33s\tremaining: 3m 3s\n",
            "299:\tlearn: 0.0001193\ttotal: 4m 34s\tremaining: 3m 3s\n",
            "300:\tlearn: 0.0001193\ttotal: 4m 35s\tremaining: 3m 2s\n",
            "301:\tlearn: 0.0001193\ttotal: 4m 36s\tremaining: 3m 1s\n",
            "302:\tlearn: 0.0001193\ttotal: 4m 37s\tremaining: 3m\n",
            "303:\tlearn: 0.0001193\ttotal: 4m 38s\tremaining: 2m 59s\n",
            "304:\tlearn: 0.0001193\ttotal: 4m 39s\tremaining: 2m 58s\n",
            "305:\tlearn: 0.0001193\ttotal: 4m 40s\tremaining: 2m 57s\n",
            "306:\tlearn: 0.0001193\ttotal: 4m 40s\tremaining: 2m 56s\n",
            "307:\tlearn: 0.0001193\ttotal: 4m 41s\tremaining: 2m 55s\n",
            "308:\tlearn: 0.0001193\ttotal: 4m 42s\tremaining: 2m 54s\n",
            "309:\tlearn: 0.0001193\ttotal: 4m 43s\tremaining: 2m 53s\n",
            "310:\tlearn: 0.0001193\ttotal: 4m 44s\tremaining: 2m 52s\n",
            "311:\tlearn: 0.0001193\ttotal: 4m 45s\tremaining: 2m 52s\n",
            "312:\tlearn: 0.0001193\ttotal: 4m 46s\tremaining: 2m 51s\n",
            "313:\tlearn: 0.0001193\ttotal: 4m 47s\tremaining: 2m 50s\n",
            "314:\tlearn: 0.0001193\ttotal: 4m 48s\tremaining: 2m 49s\n",
            "315:\tlearn: 0.0001193\ttotal: 4m 49s\tremaining: 2m 48s\n",
            "316:\tlearn: 0.0001193\ttotal: 4m 50s\tremaining: 2m 47s\n",
            "317:\tlearn: 0.0001193\ttotal: 4m 50s\tremaining: 2m 46s\n",
            "318:\tlearn: 0.0001193\ttotal: 4m 51s\tremaining: 2m 45s\n",
            "319:\tlearn: 0.0001193\ttotal: 4m 52s\tremaining: 2m 44s\n",
            "320:\tlearn: 0.0001193\ttotal: 4m 53s\tremaining: 2m 43s\n",
            "321:\tlearn: 0.0001193\ttotal: 4m 54s\tremaining: 2m 42s\n",
            "322:\tlearn: 0.0001193\ttotal: 4m 55s\tremaining: 2m 41s\n",
            "323:\tlearn: 0.0001193\ttotal: 4m 56s\tremaining: 2m 41s\n",
            "324:\tlearn: 0.0001193\ttotal: 4m 57s\tremaining: 2m 40s\n",
            "325:\tlearn: 0.0001193\ttotal: 4m 58s\tremaining: 2m 39s\n",
            "326:\tlearn: 0.0001193\ttotal: 4m 59s\tremaining: 2m 38s\n",
            "327:\tlearn: 0.0001193\ttotal: 5m\tremaining: 2m 37s\n",
            "328:\tlearn: 0.0001193\ttotal: 5m\tremaining: 2m 36s\n",
            "329:\tlearn: 0.0001193\ttotal: 5m 1s\tremaining: 2m 35s\n",
            "330:\tlearn: 0.0001193\ttotal: 5m 2s\tremaining: 2m 34s\n",
            "331:\tlearn: 0.0001193\ttotal: 5m 3s\tremaining: 2m 33s\n",
            "332:\tlearn: 0.0001193\ttotal: 5m 4s\tremaining: 2m 32s\n",
            "333:\tlearn: 0.0001193\ttotal: 5m 5s\tremaining: 2m 31s\n",
            "334:\tlearn: 0.0001193\ttotal: 5m 6s\tremaining: 2m 30s\n",
            "335:\tlearn: 0.0001193\ttotal: 5m 7s\tremaining: 2m 30s\n",
            "336:\tlearn: 0.0001193\ttotal: 5m 8s\tremaining: 2m 29s\n",
            "337:\tlearn: 0.0001193\ttotal: 5m 9s\tremaining: 2m 28s\n",
            "338:\tlearn: 0.0001193\ttotal: 5m 10s\tremaining: 2m 27s\n",
            "339:\tlearn: 0.0001193\ttotal: 5m 11s\tremaining: 2m 26s\n",
            "340:\tlearn: 0.0001193\ttotal: 5m 11s\tremaining: 2m 25s\n",
            "341:\tlearn: 0.0001193\ttotal: 5m 12s\tremaining: 2m 24s\n",
            "342:\tlearn: 0.0001193\ttotal: 5m 13s\tremaining: 2m 23s\n",
            "343:\tlearn: 0.0001193\ttotal: 5m 14s\tremaining: 2m 22s\n",
            "344:\tlearn: 0.0001193\ttotal: 5m 15s\tremaining: 2m 21s\n",
            "345:\tlearn: 0.0001193\ttotal: 5m 16s\tremaining: 2m 20s\n",
            "346:\tlearn: 0.0001193\ttotal: 5m 17s\tremaining: 2m 19s\n",
            "347:\tlearn: 0.0001192\ttotal: 5m 18s\tremaining: 2m 19s\n",
            "348:\tlearn: 0.0001192\ttotal: 5m 19s\tremaining: 2m 18s\n",
            "349:\tlearn: 0.0001192\ttotal: 5m 20s\tremaining: 2m 17s\n",
            "350:\tlearn: 0.0001192\ttotal: 5m 21s\tremaining: 2m 16s\n",
            "351:\tlearn: 0.0001192\ttotal: 5m 22s\tremaining: 2m 15s\n",
            "352:\tlearn: 0.0001192\ttotal: 5m 22s\tremaining: 2m 14s\n",
            "353:\tlearn: 0.0001192\ttotal: 5m 23s\tremaining: 2m 13s\n",
            "354:\tlearn: 0.0001192\ttotal: 5m 24s\tremaining: 2m 12s\n",
            "355:\tlearn: 0.0001192\ttotal: 5m 25s\tremaining: 2m 11s\n",
            "356:\tlearn: 0.0001192\ttotal: 5m 26s\tremaining: 2m 10s\n",
            "357:\tlearn: 0.0001184\ttotal: 5m 27s\tremaining: 2m 9s\n",
            "358:\tlearn: 0.0001180\ttotal: 5m 28s\tremaining: 2m 9s\n",
            "359:\tlearn: 0.0001180\ttotal: 5m 29s\tremaining: 2m 8s\n",
            "360:\tlearn: 0.0001180\ttotal: 5m 30s\tremaining: 2m 7s\n",
            "361:\tlearn: 0.0001180\ttotal: 5m 31s\tremaining: 2m 6s\n",
            "362:\tlearn: 0.0001180\ttotal: 5m 32s\tremaining: 2m 5s\n",
            "363:\tlearn: 0.0001180\ttotal: 5m 33s\tremaining: 2m 4s\n",
            "364:\tlearn: 0.0001180\ttotal: 5m 33s\tremaining: 2m 3s\n",
            "365:\tlearn: 0.0001180\ttotal: 5m 34s\tremaining: 2m 2s\n",
            "366:\tlearn: 0.0001180\ttotal: 5m 35s\tremaining: 2m 1s\n",
            "367:\tlearn: 0.0001180\ttotal: 5m 36s\tremaining: 2m\n",
            "368:\tlearn: 0.0001180\ttotal: 5m 37s\tremaining: 1m 59s\n",
            "369:\tlearn: 0.0001180\ttotal: 5m 38s\tremaining: 1m 58s\n",
            "370:\tlearn: 0.0001180\ttotal: 5m 39s\tremaining: 1m 58s\n",
            "371:\tlearn: 0.0001180\ttotal: 5m 40s\tremaining: 1m 57s\n",
            "372:\tlearn: 0.0001179\ttotal: 5m 41s\tremaining: 1m 56s\n",
            "373:\tlearn: 0.0001179\ttotal: 5m 42s\tremaining: 1m 55s\n",
            "374:\tlearn: 0.0001178\ttotal: 5m 43s\tremaining: 1m 54s\n",
            "375:\tlearn: 0.0001178\ttotal: 5m 43s\tremaining: 1m 53s\n",
            "376:\tlearn: 0.0001176\ttotal: 5m 44s\tremaining: 1m 52s\n",
            "377:\tlearn: 0.0001176\ttotal: 5m 45s\tremaining: 1m 51s\n",
            "378:\tlearn: 0.0001176\ttotal: 5m 46s\tremaining: 1m 50s\n",
            "379:\tlearn: 0.0001176\ttotal: 5m 47s\tremaining: 1m 49s\n",
            "380:\tlearn: 0.0001176\ttotal: 5m 48s\tremaining: 1m 48s\n",
            "381:\tlearn: 0.0001175\ttotal: 5m 49s\tremaining: 1m 47s\n",
            "382:\tlearn: 0.0001173\ttotal: 5m 50s\tremaining: 1m 47s\n",
            "383:\tlearn: 0.0001173\ttotal: 5m 51s\tremaining: 1m 46s\n",
            "384:\tlearn: 0.0001173\ttotal: 5m 52s\tremaining: 1m 45s\n",
            "385:\tlearn: 0.0001171\ttotal: 5m 53s\tremaining: 1m 44s\n",
            "386:\tlearn: 0.0001168\ttotal: 5m 53s\tremaining: 1m 43s\n",
            "387:\tlearn: 0.0001167\ttotal: 5m 54s\tremaining: 1m 42s\n",
            "388:\tlearn: 0.0001167\ttotal: 5m 55s\tremaining: 1m 41s\n",
            "389:\tlearn: 0.0001167\ttotal: 5m 56s\tremaining: 1m 40s\n",
            "390:\tlearn: 0.0001167\ttotal: 5m 57s\tremaining: 1m 39s\n",
            "391:\tlearn: 0.0001167\ttotal: 5m 58s\tremaining: 1m 38s\n",
            "392:\tlearn: 0.0001167\ttotal: 5m 59s\tremaining: 1m 37s\n",
            "393:\tlearn: 0.0001163\ttotal: 6m\tremaining: 1m 36s\n",
            "394:\tlearn: 0.0001162\ttotal: 6m 1s\tremaining: 1m 36s\n",
            "395:\tlearn: 0.0001162\ttotal: 6m 2s\tremaining: 1m 35s\n",
            "396:\tlearn: 0.0001162\ttotal: 6m 3s\tremaining: 1m 34s\n",
            "397:\tlearn: 0.0001162\ttotal: 6m 4s\tremaining: 1m 33s\n",
            "398:\tlearn: 0.0001162\ttotal: 6m 4s\tremaining: 1m 32s\n",
            "399:\tlearn: 0.0001161\ttotal: 6m 5s\tremaining: 1m 31s\n",
            "400:\tlearn: 0.0001159\ttotal: 6m 6s\tremaining: 1m 30s\n",
            "401:\tlearn: 0.0001159\ttotal: 6m 7s\tremaining: 1m 29s\n",
            "402:\tlearn: 0.0001159\ttotal: 6m 8s\tremaining: 1m 28s\n",
            "403:\tlearn: 0.0001155\ttotal: 6m 9s\tremaining: 1m 27s\n",
            "404:\tlearn: 0.0001155\ttotal: 6m 10s\tremaining: 1m 26s\n",
            "405:\tlearn: 0.0001155\ttotal: 6m 11s\tremaining: 1m 25s\n",
            "406:\tlearn: 0.0001154\ttotal: 6m 12s\tremaining: 1m 25s\n",
            "407:\tlearn: 0.0001154\ttotal: 6m 13s\tremaining: 1m 24s\n",
            "408:\tlearn: 0.0001154\ttotal: 6m 14s\tremaining: 1m 23s\n",
            "409:\tlearn: 0.0001154\ttotal: 6m 14s\tremaining: 1m 22s\n",
            "410:\tlearn: 0.0001154\ttotal: 6m 15s\tremaining: 1m 21s\n",
            "411:\tlearn: 0.0001154\ttotal: 6m 16s\tremaining: 1m 20s\n",
            "412:\tlearn: 0.0001154\ttotal: 6m 17s\tremaining: 1m 19s\n",
            "413:\tlearn: 0.0001154\ttotal: 6m 18s\tremaining: 1m 18s\n",
            "414:\tlearn: 0.0001154\ttotal: 6m 19s\tremaining: 1m 17s\n",
            "415:\tlearn: 0.0001154\ttotal: 6m 20s\tremaining: 1m 16s\n",
            "416:\tlearn: 0.0001154\ttotal: 6m 21s\tremaining: 1m 15s\n",
            "417:\tlearn: 0.0001154\ttotal: 6m 22s\tremaining: 1m 14s\n",
            "418:\tlearn: 0.0001154\ttotal: 6m 23s\tremaining: 1m 14s\n",
            "419:\tlearn: 0.0001154\ttotal: 6m 24s\tremaining: 1m 13s\n",
            "420:\tlearn: 0.0001154\ttotal: 6m 24s\tremaining: 1m 12s\n",
            "421:\tlearn: 0.0001150\ttotal: 6m 25s\tremaining: 1m 11s\n",
            "422:\tlearn: 0.0001150\ttotal: 6m 26s\tremaining: 1m 10s\n",
            "423:\tlearn: 0.0001150\ttotal: 6m 27s\tremaining: 1m 9s\n",
            "424:\tlearn: 0.0001149\ttotal: 6m 28s\tremaining: 1m 8s\n",
            "425:\tlearn: 0.0001149\ttotal: 6m 29s\tremaining: 1m 7s\n",
            "426:\tlearn: 0.0001141\ttotal: 6m 30s\tremaining: 1m 6s\n",
            "427:\tlearn: 0.0001140\ttotal: 6m 31s\tremaining: 1m 5s\n",
            "428:\tlearn: 0.0001140\ttotal: 6m 32s\tremaining: 1m 4s\n",
            "429:\tlearn: 0.0001140\ttotal: 6m 33s\tremaining: 1m 4s\n",
            "430:\tlearn: 0.0001139\ttotal: 6m 34s\tremaining: 1m 3s\n",
            "431:\tlearn: 0.0001133\ttotal: 6m 35s\tremaining: 1m 2s\n",
            "432:\tlearn: 0.0001131\ttotal: 6m 35s\tremaining: 1m 1s\n",
            "433:\tlearn: 0.0001130\ttotal: 6m 36s\tremaining: 1m\n",
            "434:\tlearn: 0.0001130\ttotal: 6m 37s\tremaining: 59.4s\n",
            "435:\tlearn: 0.0001128\ttotal: 6m 38s\tremaining: 58.5s\n",
            "436:\tlearn: 0.0001127\ttotal: 6m 39s\tremaining: 57.6s\n",
            "437:\tlearn: 0.0001127\ttotal: 6m 40s\tremaining: 56.7s\n",
            "438:\tlearn: 0.0001126\ttotal: 6m 41s\tremaining: 55.8s\n",
            "439:\tlearn: 0.0001126\ttotal: 6m 42s\tremaining: 54.9s\n",
            "440:\tlearn: 0.0001126\ttotal: 6m 43s\tremaining: 54s\n",
            "441:\tlearn: 0.0001126\ttotal: 6m 44s\tremaining: 53s\n",
            "442:\tlearn: 0.0001124\ttotal: 6m 45s\tremaining: 52.1s\n",
            "443:\tlearn: 0.0001124\ttotal: 6m 46s\tremaining: 51.2s\n",
            "444:\tlearn: 0.0001124\ttotal: 6m 46s\tremaining: 50.3s\n",
            "445:\tlearn: 0.0001124\ttotal: 6m 47s\tremaining: 49.4s\n",
            "446:\tlearn: 0.0001124\ttotal: 6m 48s\tremaining: 48.5s\n",
            "447:\tlearn: 0.0001124\ttotal: 6m 49s\tremaining: 47.6s\n",
            "448:\tlearn: 0.0001124\ttotal: 6m 50s\tremaining: 46.6s\n",
            "449:\tlearn: 0.0001124\ttotal: 6m 51s\tremaining: 45.7s\n",
            "450:\tlearn: 0.0001124\ttotal: 6m 52s\tremaining: 44.8s\n",
            "451:\tlearn: 0.0001124\ttotal: 6m 53s\tremaining: 43.9s\n",
            "452:\tlearn: 0.0001124\ttotal: 6m 54s\tremaining: 43s\n",
            "453:\tlearn: 0.0001124\ttotal: 6m 55s\tremaining: 42.1s\n",
            "454:\tlearn: 0.0001124\ttotal: 6m 56s\tremaining: 41.1s\n",
            "455:\tlearn: 0.0001124\ttotal: 6m 56s\tremaining: 40.2s\n",
            "456:\tlearn: 0.0001124\ttotal: 6m 57s\tremaining: 39.3s\n",
            "457:\tlearn: 0.0001123\ttotal: 6m 58s\tremaining: 38.4s\n",
            "458:\tlearn: 0.0001123\ttotal: 6m 59s\tremaining: 37.5s\n",
            "459:\tlearn: 0.0001123\ttotal: 7m\tremaining: 36.6s\n",
            "460:\tlearn: 0.0001121\ttotal: 7m 1s\tremaining: 35.7s\n",
            "461:\tlearn: 0.0001120\ttotal: 7m 2s\tremaining: 34.7s\n",
            "462:\tlearn: 0.0001119\ttotal: 7m 3s\tremaining: 33.8s\n",
            "463:\tlearn: 0.0001119\ttotal: 7m 4s\tremaining: 32.9s\n",
            "464:\tlearn: 0.0001119\ttotal: 7m 5s\tremaining: 32s\n",
            "465:\tlearn: 0.0001119\ttotal: 7m 6s\tremaining: 31.1s\n",
            "466:\tlearn: 0.0001118\ttotal: 7m 6s\tremaining: 30.2s\n",
            "467:\tlearn: 0.0001112\ttotal: 7m 7s\tremaining: 29.3s\n",
            "468:\tlearn: 0.0001110\ttotal: 7m 8s\tremaining: 28.3s\n",
            "469:\tlearn: 0.0001109\ttotal: 7m 9s\tremaining: 27.4s\n",
            "470:\tlearn: 0.0001105\ttotal: 7m 10s\tremaining: 26.5s\n",
            "471:\tlearn: 0.0001104\ttotal: 7m 11s\tremaining: 25.6s\n",
            "472:\tlearn: 0.0001104\ttotal: 7m 12s\tremaining: 24.7s\n",
            "473:\tlearn: 0.0001104\ttotal: 7m 13s\tremaining: 23.8s\n",
            "474:\tlearn: 0.0001104\ttotal: 7m 14s\tremaining: 22.9s\n",
            "475:\tlearn: 0.0001104\ttotal: 7m 15s\tremaining: 21.9s\n",
            "476:\tlearn: 0.0001104\ttotal: 7m 16s\tremaining: 21s\n",
            "477:\tlearn: 0.0001104\ttotal: 7m 17s\tremaining: 20.1s\n",
            "478:\tlearn: 0.0001104\ttotal: 7m 18s\tremaining: 19.2s\n",
            "479:\tlearn: 0.0001104\ttotal: 7m 18s\tremaining: 18.3s\n",
            "480:\tlearn: 0.0001104\ttotal: 7m 19s\tremaining: 17.4s\n",
            "481:\tlearn: 0.0001095\ttotal: 7m 20s\tremaining: 16.5s\n",
            "482:\tlearn: 0.0001095\ttotal: 7m 21s\tremaining: 15.5s\n",
            "483:\tlearn: 0.0001095\ttotal: 7m 22s\tremaining: 14.6s\n",
            "484:\tlearn: 0.0001095\ttotal: 7m 23s\tremaining: 13.7s\n",
            "485:\tlearn: 0.0001095\ttotal: 7m 24s\tremaining: 12.8s\n",
            "486:\tlearn: 0.0001095\ttotal: 7m 25s\tremaining: 11.9s\n",
            "487:\tlearn: 0.0001095\ttotal: 7m 26s\tremaining: 11s\n",
            "488:\tlearn: 0.0001095\ttotal: 7m 27s\tremaining: 10.1s\n",
            "489:\tlearn: 0.0001095\ttotal: 7m 28s\tremaining: 9.14s\n",
            "490:\tlearn: 0.0001095\ttotal: 7m 28s\tremaining: 8.23s\n",
            "491:\tlearn: 0.0001095\ttotal: 7m 29s\tremaining: 7.31s\n",
            "492:\tlearn: 0.0001095\ttotal: 7m 30s\tremaining: 6.4s\n",
            "493:\tlearn: 0.0001095\ttotal: 7m 31s\tremaining: 5.49s\n",
            "494:\tlearn: 0.0001095\ttotal: 7m 32s\tremaining: 4.57s\n",
            "495:\tlearn: 0.0001095\ttotal: 7m 33s\tremaining: 3.66s\n",
            "496:\tlearn: 0.0001089\ttotal: 7m 34s\tremaining: 2.74s\n",
            "497:\tlearn: 0.0001089\ttotal: 7m 35s\tremaining: 1.83s\n",
            "498:\tlearn: 0.0001085\ttotal: 7m 36s\tremaining: 914ms\n",
            "499:\tlearn: 0.0001085\ttotal: 7m 37s\tremaining: 0us\n"
          ],
          "name": "stdout"
        },
        {
          "output_type": "execute_result",
          "data": {
            "text/plain": [
              "<catboost.core.CatBoostClassifier at 0x7ff594d50be0>"
            ]
          },
          "metadata": {
            "tags": []
          },
          "execution_count": 23
        }
      ]
    },
    {
      "cell_type": "markdown",
      "metadata": {
        "id": "styc7msT1MI6",
        "colab_type": "text"
      },
      "source": [
        "**Оптимальная глубина такая же как и AdaBoost Sklearn, обучение довольно быстрое но даже при 500 итерациях не догоняет sklearn, хотя очень близко**"
      ]
    },
    {
      "cell_type": "code",
      "metadata": {
        "id": "WuExn6ixMOeO",
        "colab_type": "code",
        "colab": {
          "base_uri": "https://localhost:8080/",
          "height": 51
        },
        "outputId": "57a90ed1-0d27-4e63-809d-2852bb39d1d5"
      },
      "source": [
        "y_pred = model.predict(test_datasetQO[:, 0:784])\n",
        "y_proba = model.predict_proba(test_datasetQO[:, 0:784])[:, 1]\n",
        "y_test = test_datasetQO[:, -1]\n",
        "print(\"Accuracy:\", accuracy_score(y_test, y_pred))\n",
        "print(\"ROC AUC:\", roc_auc_score(y_test, y_proba))"
      ],
      "execution_count": 24,
      "outputs": [
        {
          "output_type": "stream",
          "text": [
            "Accuracy: 0.9685\n",
            "ROC AUC: 0.9946330000000001\n"
          ],
          "name": "stdout"
        }
      ]
    },
    {
      "cell_type": "markdown",
      "metadata": {
        "id": "prqcj-gVzTGV",
        "colab_type": "text"
      },
      "source": [
        "AdaBoost Accuracy: 0.9735"
      ]
    }
  ]
}