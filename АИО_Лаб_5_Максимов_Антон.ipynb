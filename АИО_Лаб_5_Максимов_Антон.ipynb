{
  "nbformat": 4,
  "nbformat_minor": 0,
  "metadata": {
    "colab": {
      "name": "АИО Лаб. 5 Максимов Антон.ipynb",
      "provenance": []
    },
    "kernelspec": {
      "name": "python3",
      "display_name": "Python 3"
    }
  },
  "cells": [
    {
      "cell_type": "markdown",
      "metadata": {
        "id": "UL6WhBd5WPHk",
        "colab_type": "text"
      },
      "source": [
        "#**АИС. Лабораторная работа №5**"
      ]
    },
    {
      "cell_type": "markdown",
      "metadata": {
        "id": "_JqdBnpzWTRl",
        "colab_type": "text"
      },
      "source": [
        "**Максимов Антон, 17ПМИ**"
      ]
    },
    {
      "cell_type": "code",
      "metadata": {
        "id": "glBa_oACWGdP",
        "colab_type": "code",
        "colab": {}
      },
      "source": [
        "import numpy as np\n",
        "import networkx as nx \n",
        "import pandas as pd\n",
        "import matplotlib.pyplot as plt\n",
        "from numpy import loadtxt\n",
        "from scipy.optimize import linprog as simplex\n",
        "from collections import deque\n",
        "import random\n",
        "import timeit\n",
        "import sys\n",
        "import re\n",
        "import time"
      ],
      "execution_count": 0,
      "outputs": []
    },
    {
      "cell_type": "code",
      "metadata": {
        "id": "ixwe7Vm0WVcd",
        "colab_type": "code",
        "colab": {}
      },
      "source": [
        "from google.colab import drive\n",
        "drive.mount('/content/gdrive')"
      ],
      "execution_count": 0,
      "outputs": []
    },
    {
      "cell_type": "code",
      "metadata": {
        "id": "-B48-7TLWXwf",
        "colab_type": "code",
        "colab": {
          "base_uri": "https://localhost:8080/",
          "height": 34
        },
        "outputId": "ec5b6e00-0ba5-4ee0-a8df-40d4c6f60a6b"
      },
      "source": [
        "cd /content/gdrive/'My Drive'/АИО/vrp/A/"
      ],
      "execution_count": 5,
      "outputs": [
        {
          "output_type": "stream",
          "text": [
            "/content/gdrive/My Drive/АИО/vrp/A\n"
          ],
          "name": "stdout"
        }
      ]
    },
    {
      "cell_type": "code",
      "metadata": {
        "id": "q4q__utOAzd_",
        "colab_type": "code",
        "colab": {}
      },
      "source": [
        "a=!ls -1  *.*"
      ],
      "execution_count": 0,
      "outputs": []
    },
    {
      "cell_type": "code",
      "metadata": {
        "id": "nxvAu9XxA8cb",
        "colab_type": "code",
        "colab": {
          "base_uri": "https://localhost:8080/",
          "height": 34
        },
        "outputId": "45904d6b-308e-415d-ec10-c3af7f2ce4e1"
      },
      "source": [
        "a[0]"
      ],
      "execution_count": 7,
      "outputs": [
        {
          "output_type": "execute_result",
          "data": {
            "text/plain": [
              "'A-n32-k5.vrp'"
            ]
          },
          "metadata": {
            "tags": []
          },
          "execution_count": 7
        }
      ]
    },
    {
      "cell_type": "code",
      "metadata": {
        "id": "lG-7a2oHDBrL",
        "colab_type": "code",
        "colab": {}
      },
      "source": [
        "class Reader:\n",
        "    def __init__(self, filename):\n",
        "\n",
        "        self.problem = filename\n",
        "        self.capacity = None\n",
        "        self.number_of_trucks = None\n",
        "        self.depot = None\n",
        "        self.coords = []\n",
        "        self.demands = []\n",
        "        self.read_file(self.problem)\n",
        "        self.distance_matrix = self.calculate_distance_matrix()\n",
        "\n",
        "    def read_file(self, problem):\n",
        "        reading_coords = False\n",
        "        reading_demand = False\n",
        "        reading_depot = False\n",
        "        content = open(problem).read().replace('\\r', ' ').replace('\\n', ' ')\n",
        "        self.number_of_trucks = int(re.search('No of trucks: ([0-9]+)', content).group(1))\n",
        "        self.capacity = int(re.search('CAPACITY : ([0-9]+)', content).group(1))\n",
        "        with open(problem, 'r') as f:\n",
        "\n",
        "            for line in f.readlines():\n",
        "                contents = line.split(' ')\n",
        "\n",
        "                if 'NODE_COORD_SECTION' in contents[0]:\n",
        "                    reading_coords = True\n",
        "                    continue\n",
        "                if 'DEMAND_SECTION' in contents[0]:\n",
        "                    reading_demand = True\n",
        "                    reading_coords = False\n",
        "                    continue\n",
        "                if 'DEPOT_SECTION' in contents[0]:\n",
        "                    reading_depot = True\n",
        "                    reading_demand = False\n",
        "                    reading_coords = False\n",
        "                    continue\n",
        "\n",
        "                if reading_coords:\n",
        "                    self.coords.append([int(contents[2]), int(contents[3])])\n",
        "\n",
        "                if reading_demand:\n",
        "                    self.demands.append(int(contents[1]))\n",
        "\n",
        "                if reading_depot:\n",
        "                    self.depot = int(contents[1]) - 1\n",
        "                    break\n",
        "\n",
        "    def calculate_distance_matrix(self):\n",
        "        distances_matrix = []\n",
        "        for i_coord in self.coords:\n",
        "            distances = []\n",
        "            for j_coord in self.coords:\n",
        "                distance = int(round(np.linalg.norm(np.subtract(i_coord, j_coord))))\n",
        "                distances.append(distance)\n",
        "            distances_matrix.append(distances)\n",
        "        return distances_matrix"
      ],
      "execution_count": 0,
      "outputs": []
    },
    {
      "cell_type": "code",
      "metadata": {
        "id": "bUD0Ba-4WwKB",
        "colab_type": "code",
        "colab": {}
      },
      "source": [
        "test = Reader(a[0])"
      ],
      "execution_count": 0,
      "outputs": []
    },
    {
      "cell_type": "code",
      "metadata": {
        "id": "evDoHNwnM-Jd",
        "colab_type": "code",
        "colab": {
          "base_uri": "https://localhost:8080/",
          "height": 138
        },
        "outputId": "37816213-b727-463d-d47e-c4d3635fa4cc"
      },
      "source": [
        "print(test.problem)\n",
        "print(test.capacity)\n",
        "print(test.number_of_trucks)\n",
        "print(test.depot)\n",
        "print(test.coords)\n",
        "print(test.demands)"
      ],
      "execution_count": 74,
      "outputs": [
        {
          "output_type": "stream",
          "text": [
            "A-n32-k5.vrp\n",
            "100\n",
            "5\n",
            "0\n",
            "[[82, 76], [96, 44], [50, 5], [49, 8], [13, 7], [29, 89], [58, 30], [84, 39], [14, 24], [2, 39], [3, 82], [5, 10], [98, 52], [84, 25], [61, 59], [1, 65], [88, 51], [91, 2], [19, 32], [93, 3], [50, 93], [98, 14], [5, 42], [42, 9], [61, 62], [9, 97], [80, 55], [57, 69], [23, 15], [20, 70], [85, 60], [98, 5]]\n",
            "[0, 19, 21, 6, 19, 7, 12, 16, 6, 16, 8, 14, 21, 16, 3, 22, 18, 19, 1, 24, 8, 12, 4, 8, 24, 24, 2, 20, 15, 2, 14, 9]\n"
          ],
          "name": "stdout"
        }
      ]
    },
    {
      "cell_type": "code",
      "metadata": {
        "id": "qEWpuRwQOqRn",
        "colab_type": "code",
        "colab": {}
      },
      "source": [
        "def save(filename, cost, routes):\n",
        "    name, ext = filename.split('.')\n",
        "    solution = '{}.{}'.format(name, 'sol')\n",
        "    with open(solution, 'w')as f:\n",
        "        f.write(routes)\n",
        "        f.write(\"cost: \" + str(cost) + '\\n')"
      ],
      "execution_count": 0,
      "outputs": []
    },
    {
      "cell_type": "code",
      "metadata": {
        "id": "LzpPnYbrT3CA",
        "colab_type": "code",
        "colab": {}
      },
      "source": [
        "def to_solution_file(trips):\n",
        "    s = ''\n",
        "    for index, trip in enumerate(trips):\n",
        "        line = 'Route #' + str(index + 1) + \": \"\n",
        "        for city, _ in trip:\n",
        "            if city == 0:\n",
        "                break\n",
        "            line += str(city) + \" \"\n",
        "\n",
        "        s += line + '\\n'\n",
        "    return s"
      ],
      "execution_count": 0,
      "outputs": []
    },
    {
      "cell_type": "markdown",
      "metadata": {
        "id": "BOP5PPLjXxL3",
        "colab_type": "text"
      },
      "source": [
        "##**Ant Colony**"
      ]
    },
    {
      "cell_type": "markdown",
      "metadata": {
        "id": "YdzbdSYON7fz",
        "colab_type": "text"
      },
      "source": [
        "###**Ant Class**"
      ]
    },
    {
      "cell_type": "code",
      "metadata": {
        "id": "y3WvsXulXGeG",
        "colab_type": "code",
        "colab": {}
      },
      "source": [
        "class Ant:\n",
        "    def __init__(self, capacity, warehouse, demands, distance_matrix, pheromone, alpha, beta):\n",
        "        self.current_city = warehouse\n",
        "        self.warehouse = warehouse\n",
        "        self.distance_matrix = distance_matrix\n",
        "        self.not_visited = self.create_not_visited(distance_matrix)\n",
        "        self.capacity = capacity\n",
        "        self.load = capacity\n",
        "        self.demands = demands\n",
        "        self.trips = []\n",
        "        self.current_trip = []\n",
        "        self.pheromone = pheromone\n",
        "        self.trips_distance = None\n",
        "        self.alpha = alpha\n",
        "        self.beta = beta\n",
        "\n",
        "        self.start()\n",
        "\n",
        "    def create_not_visited(self, distance_matrix):\n",
        "        not_visited = set()\n",
        "        for i, tmp in enumerate(distance_matrix):\n",
        "            if i != self.warehouse:\n",
        "                not_visited.add(i)\n",
        "        return not_visited\n",
        "\n",
        "    def start(self):\n",
        "        from random import randint\n",
        "        start_city = randint(1, len(self.distance_matrix) - 1)\n",
        "        self.visit_city(start_city)\n",
        "\n",
        "    def visit_city(self, index):\n",
        "        self.not_visited.remove(index)\n",
        "        self.load -= self.demands[index]\n",
        "        distance = self.distance_matrix[self.current_city][index]\n",
        "        self.current_city = index\n",
        "        self.current_trip.append((index, distance))\n",
        "\n",
        "    def visit_warehouse(self):\n",
        "        self.load = self.capacity\n",
        "        distance = self.distance_matrix[self.current_city][self.warehouse]\n",
        "        self.current_city = self.warehouse\n",
        "        self.current_trip.append((self.warehouse, distance))\n",
        "        self.trips.append(self.current_trip)\n",
        "        self.current_trip = []\n",
        "\n",
        "    def get_pheremone_intensity(self, city):\n",
        "        return self.pheromone.get_pheromone_trail(self.current_city, city)\n",
        "\n",
        "    def get_attractiveness(self, city):\n",
        "        distance = self.distance_matrix[self.current_city][city]\n",
        "        if distance == 0:\n",
        "            return 1\n",
        "        return 1 / distance\n",
        "\n",
        "    def calc_val(self, city):\n",
        "        pheremone_intensity = self.get_pheremone_intensity(city)\n",
        "        attractiveness = self.get_attractiveness(city)\n",
        "        return pow(pheremone_intensity, self.alpha) * pow(attractiveness, self.beta)\n",
        "\n",
        "    def get_neighbours_with_probab(self):\n",
        "        not_visited = list(self.not_visited)\n",
        "\n",
        "        l = [self.calc_val(city) for city in not_visited]\n",
        "        prob = np.divide(l, sum(l))\n",
        "\n",
        "        for i in range(1, len(prob)):\n",
        "            prob[i] += prob[i - 1]\n",
        "        return not_visited, prob\n",
        "\n",
        "    def create_path(self):\n",
        "        while len(self.not_visited) > 0:\n",
        "            neighbours, probabilities = self.get_neighbours_with_probab()\n",
        "            r = random.random()\n",
        "            next_to_visit = neighbours[-1]\n",
        "            for i in range(len(probabilities)):\n",
        "                if r < probabilities[i]:\n",
        "                    next_to_visit = neighbours[i]\n",
        "                    break\n",
        "\n",
        "            if self.demands[next_to_visit] > self.load:\n",
        "                self.visit_warehouse()\n",
        "            else:\n",
        "                self.visit_city(next_to_visit)\n",
        "\n",
        "        self.visit_warehouse()\n",
        "\n",
        "    def calculate_paths_quality(self):\n",
        "        overall_distance = 0\n",
        "        for trip in self.trips:\n",
        "            for _, dist in trip:\n",
        "                overall_distance += dist\n",
        "        self.trips_distance = overall_distance\n",
        "\n",
        "    def global_update(self):\n",
        "        for trip in self.trips:\n",
        "            prev_city = self.warehouse\n",
        "            for i, (city, _) in enumerate(trip):\n",
        "                self.pheromone.update(prev_city, city, self.trips_distance)\n",
        "                prev_city = city\n",
        "            self.pheromone.update(prev_city, self.warehouse, self.trips_distance)\n",
        "\n",
        "    def local_update(self):\n",
        "        for trip in self.trips:\n",
        "            prev_city = self.warehouse    \n",
        "            for i, (city, _) in enumerate(trip):\n",
        "                self.pheromone.local_update_pheremone(prev_city, city)\n",
        "                prev_city = city\n",
        "            self.pheromone.local_update_pheremone(prev_city, self.warehouse)\n",
        "\n",
        "    def reset(self):\n",
        "        self.current_city = 0\n",
        "        self.not_visited = self.create_not_visited(self.distance_matrix)\n",
        "        self.current_trip = []\n",
        "        self.trips = []\n",
        "        self.load = self.capacity\n",
        "        self.start()"
      ],
      "execution_count": 0,
      "outputs": []
    },
    {
      "cell_type": "markdown",
      "metadata": {
        "id": "ntoInihyN_bz",
        "colab_type": "text"
      },
      "source": [
        "###**Pheromone Class**"
      ]
    },
    {
      "cell_type": "code",
      "metadata": {
        "id": "-RsriO5TXSQh",
        "colab_type": "code",
        "colab": {}
      },
      "source": [
        "class Pheromone:\n",
        "    def __init__(self, number_of_cities):\n",
        "        from random import uniform\n",
        "        self.pheromones_matrix = []\n",
        "        self.Q = 1\n",
        "        self.RHO = 0.2\n",
        "        self.tau0 = 0.001\n",
        "        for distances in range(number_of_cities):\n",
        "            pheromones = [self.tau0 for _ in range(number_of_cities)]\n",
        "            self.pheromones_matrix.append(pheromones)\n",
        "\n",
        "    def get_pheromone_trail(self, city_i, city_j):\n",
        "        return self.pheromones_matrix[city_i][city_j]\n",
        "\n",
        "    def evaporate(self):\n",
        "        self.pheromones_matrix = np.multiply(self.pheromones_matrix, (1 - self.RHO)) #функция для подсчета испарений\n",
        "\n",
        "    def local_update_pheremone(self, city_i, city_j):\n",
        "        self.pheromones_matrix[city_i][city_j] += self.RHO*self.tau0 \n",
        "        self.pheromones_matrix[city_j][city_i] += self.RHO*self.tau0 \n",
        "\n",
        "    def update(self, city_i, city_j, overall_trip_distance): \n",
        "        delta_tau = self.Q / overall_trip_distance\n",
        "        self.pheromones_matrix[city_i][city_j] += delta_tau\n",
        "        self.pheromones_matrix[city_j][city_i] += delta_tau"
      ],
      "execution_count": 0,
      "outputs": []
    },
    {
      "cell_type": "markdown",
      "metadata": {
        "id": "xmF_uMIdOE83",
        "colab_type": "text"
      },
      "source": [
        "###**Algorithm**"
      ]
    },
    {
      "cell_type": "code",
      "metadata": {
        "id": "T19oTPY4Xz_Q",
        "colab_type": "code",
        "colab": {}
      },
      "source": [
        "def Ant_Colony_Algorithm(filename):\n",
        "  random.seed(3)\n",
        "  ALPHA = 1  #наиболее оптимальные параметры в статье\n",
        "  BETA = 5\n",
        "  data = Reader(filename)\n",
        "  capacity = data.capacity\n",
        "  depot = data.depot\n",
        "  demands = data.demands\n",
        "  distance_matrix = data.distance_matrix\n",
        "  number_of_cities = len(distance_matrix)\n",
        "  number_of_ants = number_of_cities\n",
        "  iterations = 1000\n",
        "  pheromone = Pheromone(number_of_cities)\n",
        "  ants = [Ant(capacity, depot, demands, distance_matrix, pheromone, ALPHA, BETA) for i in range(number_of_ants)]\n",
        "  best_cost = np.inf\n",
        "  routes = ''\n",
        "  no_change = 0\n",
        "  best_ant = None\n",
        "  avg_cost = []\n",
        "  last = np.inf\n",
        "  \n",
        "  for iteration in range(iterations):\n",
        "    best_ants = []\n",
        "    for ant in ants:\n",
        "\n",
        "      ant.create_path()\n",
        "      ant.calculate_paths_quality()\n",
        "\n",
        "      if ant.trips_distance < best_cost:\n",
        "        best_ants.append(ant)\n",
        "        best_cost = ant.trips_distance\n",
        "        best_ant = ant\n",
        "        \n",
        "        routes = trips_to_str(ant.trips)\n",
        "      avg_cost.append(ant.trips_distance)  \n",
        "\n",
        "    for ant in ants:\n",
        "\n",
        "      pheromone.evaporate()\n",
        "      ant.local_update()\n",
        "\n",
        "      if ant in best_ants:\n",
        "        ant.global_update()  \n",
        "      ant.reset()\n",
        "      \n",
        "    fitness = (best_cost - np.mean(avg_cost)) / best_cost\n",
        "    if iteration % 100 == 0:\n",
        "        if abs(last - fitness) < 0.00001:\n",
        "                        break\n",
        "    last = fitness\n",
        "\n",
        "  #save(filename, best_cost, routes)\n",
        "  return routes, best_cost\n",
        "     "
      ],
      "execution_count": 0,
      "outputs": []
    },
    {
      "cell_type": "code",
      "metadata": {
        "id": "KUkD6bS6aGpA",
        "colab_type": "code",
        "colab": {
          "base_uri": "https://localhost:8080/",
          "height": 34
        },
        "outputId": "5d34dc56-4370-40cb-e9f0-3173b1bd7f32"
      },
      "source": [
        "routes, best_cost = Ant_Colony_Algorithm(a[1])"
      ],
      "execution_count": 159,
      "outputs": [
        {
          "output_type": "stream",
          "text": [
            "/usr/local/lib/python3.6/dist-packages/ipykernel_launcher.py:64: RuntimeWarning: invalid value encountered in true_divide\n"
          ],
          "name": "stderr"
        }
      ]
    },
    {
      "cell_type": "markdown",
      "metadata": {
        "id": "mFaMCBLpgEIs",
        "colab_type": "text"
      },
      "source": [
        "###**Visualization**"
      ]
    },
    {
      "cell_type": "code",
      "metadata": {
        "id": "ZUcX_zt3n74f",
        "colab_type": "code",
        "colab": {
          "base_uri": "https://localhost:8080/",
          "height": 34
        },
        "outputId": "50506ae9-27e6-4a70-f942-4dcd1596f555"
      },
      "source": [
        "c = Reader(a[1])\n",
        "routes, best_cost = Ant_Colony_Algorithm(a[1])"
      ],
      "execution_count": 261,
      "outputs": [
        {
          "output_type": "stream",
          "text": [
            "/usr/local/lib/python3.6/dist-packages/ipykernel_launcher.py:64: RuntimeWarning: invalid value encountered in true_divide\n"
          ],
          "name": "stderr"
        }
      ]
    },
    {
      "cell_type": "code",
      "metadata": {
        "id": "OYYhJ2zSp71d",
        "colab_type": "code",
        "colab": {}
      },
      "source": [
        "def to_new_routes(routes):\n",
        "    new_routes = []\n",
        "    routes = routes.split(' ')\n",
        "    collect = False\n",
        "    for i in range(len(routes)):\n",
        "      #print(routes[i][0])\n",
        "      \n",
        "      if routes[i][0]=='#':\n",
        "        collect = True\n",
        "        new_route = []\n",
        "        continue\n",
        "\n",
        "      if routes[i][0]=='\\n':\n",
        "        collect = False\n",
        "        new_routes.append(new_route)\n",
        "\n",
        "      if collect==True:\n",
        "        new_route.append(int(routes[i]))   \n",
        "      \n",
        "    return new_routes    \n"
      ],
      "execution_count": 0,
      "outputs": []
    },
    {
      "cell_type": "code",
      "metadata": {
        "id": "Ypno-P-ot4fo",
        "colab_type": "code",
        "colab": {
          "base_uri": "https://localhost:8080/",
          "height": 101
        },
        "outputId": "f0e6f1fd-bdf5-4248-9476-110010e94045"
      },
      "source": [
        "new_routes = to_new_routes(routes)\n",
        "new_routes"
      ],
      "execution_count": 183,
      "outputs": [
        {
          "output_type": "execute_result",
          "data": {
            "text/plain": [
              "[[17, 19, 31, 21, 13, 7],\n",
              " [27, 24, 14, 30, 26, 16],\n",
              " [20, 5, 25, 10, 29, 15, 22, 9, 18, 8],\n",
              " [11, 4, 28, 23, 2, 3, 6],\n",
              " [12, 1]]"
            ]
          },
          "metadata": {
            "tags": []
          },
          "execution_count": 183
        }
      ]
    },
    {
      "cell_type": "code",
      "metadata": {
        "id": "P9KG2wbggKW2",
        "colab_type": "code",
        "colab": {}
      },
      "source": [
        "def draw_graph(routes, best_cost, coords, distance_matrix, filename):\n",
        "    G = nx.Graph()\n",
        "    crs = ['g','r','b', 'y', 'm'] #можно добавить цвета\n",
        "    n = 0\n",
        "    for route in routes:\n",
        "        i = 0\n",
        "        for city in route:\n",
        "            G.add_edge(i, city, color=crs[n], weight=distance_matrix[i][city])\n",
        "            i = city\n",
        "        G.add_edge(i, 0, color=crs[n], weight=distance_matrix[i][0])\n",
        "        n = n + 1\n",
        "        \n",
        "    edgelist = [(u, v) for (u, v, d) in G.edges(data=True)]\n",
        "\n",
        "    for i, pos in enumerate(coords):\n",
        "        G.add_node(i, pos=pos)\n",
        "    pos = nx.get_node_attributes(G, 'pos')\n",
        "    edges = G.edges()\n",
        "    colors = [G[u][v]['color'] for u,v in edges]\n",
        "    print(\"FILENAME: \", filename)\n",
        "    print(\"BEST COST: \", best_cost)\n",
        "    \n",
        "    plt.figure(figsize=(12, 12))\n",
        "    labels = nx.get_edge_attributes(G,'weight')\n",
        "    nx.draw_networkx_edge_labels(G,pos,edge_labels=labels, label_pos=0.5) \n",
        "    nx.draw_networkx_nodes(G, pos)\n",
        "    nx.draw_networkx_edges(G, pos, edgelist=edgelist,edge_color=colors)\n",
        "    nx.draw_networkx_labels(G, pos)\n",
        "    plt.axis('off')\n",
        "    plt.show()"
      ],
      "execution_count": 0,
      "outputs": []
    },
    {
      "cell_type": "code",
      "metadata": {
        "id": "v4wOghj3o6nO",
        "colab_type": "code",
        "colab": {
          "base_uri": "https://localhost:8080/",
          "height": 717
        },
        "outputId": "57478b3c-46cc-4401-d937-72b289db315f"
      },
      "source": [
        "draw_graph(new_routes, best_cost, c.coords, c.distance_matrix, c.problem)"
      ],
      "execution_count": 258,
      "outputs": [
        {
          "output_type": "stream",
          "text": [
            "FILENAME:  A-n32-k5.vrp\n",
            "BEST COST:  842\n"
          ],
          "name": "stdout"
        },
        {
          "output_type": "display_data",
          "data": {
            "image/png": "[encoded data removed]",
            "text/plain": [
              "<Figure size 864x864 with 1 Axes>"
            ]
          },
          "metadata": {
            "tags": []
          }
        }
      ]
    },
    {
      "cell_type": "code",
      "metadata": {
        "id": "Cfpyisq96lAE",
        "colab_type": "code",
        "colab": {
          "base_uri": "https://localhost:8080/",
          "height": 734
        },
        "outputId": "fb0b331d-e805-4e1b-c794-de8952bbcc8c"
      },
      "source": [
        "c = Reader(a[3])\n",
        "routes, best_cost = Ant_Colony_Algorithm(a[3])\n",
        "new_routes = to_new_routes(routes)\n",
        "draw_graph(new_routes, best_cost, c.coords, c.distance_matrix, c.problem)"
      ],
      "execution_count": 259,
      "outputs": [
        {
          "output_type": "stream",
          "text": [
            "/usr/local/lib/python3.6/dist-packages/ipykernel_launcher.py:64: RuntimeWarning: invalid value encountered in true_divide\n"
          ],
          "name": "stderr"
        },
        {
          "output_type": "stream",
          "text": [
            "FILENAME:  A-n33-k5.vrp\n",
            "BEST COST:  698\n"
          ],
          "name": "stdout"
        },
        {
          "output_type": "display_data",
          "data": {
            "image/png": "[encoded data removed]",
            "text/plain": [
              "<Figure size 864x864 with 1 Axes>"
            ]
          },
          "metadata": {
            "tags": []
          }
        }
      ]
    },
    {
      "cell_type": "markdown",
      "metadata": {
        "id": "cHqrJQ0PN-rj",
        "colab_type": "text"
      },
      "source": [
        "###**Testing**"
      ]
    },
    {
      "cell_type": "code",
      "metadata": {
        "id": "y1woEa9ZbhrO",
        "colab_type": "code",
        "colab": {}
      },
      "source": [
        "a=!ls -1  *.*"
      ],
      "execution_count": 0,
      "outputs": []
    },
    {
      "cell_type": "code",
      "metadata": {
        "id": "8f46D-HGodXJ",
        "colab_type": "code",
        "colab": {}
      },
      "source": [
        "a"
      ],
      "execution_count": 0,
      "outputs": []
    },
    {
      "cell_type": "code",
      "metadata": {
        "id": "grYv9-agbk78",
        "colab_type": "code",
        "colab": {
          "base_uri": "https://localhost:8080/",
          "height": 34
        },
        "outputId": "a3db56ef-86ce-43a8-b808-c9f4ca68f2ef"
      },
      "source": [
        "cd /content/gdrive/'My Drive'/АИО/vrp/A/"
      ],
      "execution_count": 150,
      "outputs": [
        {
          "output_type": "stream",
          "text": [
            "/content/gdrive/My Drive/АИО/vrp/A\n"
          ],
          "name": "stdout"
        }
      ]
    },
    {
      "cell_type": "code",
      "metadata": {
        "id": "G67JcZDdN7EM",
        "colab_type": "code",
        "colab": {
          "base_uri": "https://localhost:8080/",
          "height": 34
        },
        "outputId": "dbafd5ac-05d2-42b7-a2fd-f15fc7dcbce2"
      },
      "source": [
        "A_test = []\n",
        "costs = []\n",
        "for test in a:\n",
        "  start = time.time()\n",
        "  data = Reader(test)\n",
        "  routes, best_cost = Ant_Colony_Algorithm(test)\n",
        "  finish = time.time()\n",
        "  tm = finish - start\n",
        "  A_test.append(tm)\n",
        "  costs.append(best_cost)"
      ],
      "execution_count": 143,
      "outputs": [
        {
          "output_type": "stream",
          "text": [
            "/usr/local/lib/python3.6/dist-packages/ipykernel_launcher.py:64: RuntimeWarning: invalid value encountered in true_divide\n"
          ],
          "name": "stderr"
        }
      ]
    },
    {
      "cell_type": "markdown",
      "metadata": {
        "id": "MhotIkQCfsLM",
        "colab_type": "text"
      },
      "source": [
        "####**A-test**"
      ]
    },
    {
      "cell_type": "code",
      "metadata": {
        "id": "l1BiU5dWbali",
        "colab_type": "code",
        "colab": {
          "base_uri": "https://localhost:8080/",
          "height": 846
        },
        "outputId": "ebbda6a8-1b1e-4f3e-f8cc-9bda926524fa"
      },
      "source": [
        "df = pd.DataFrame({\n",
        "'Filename': a,\n",
        "'Time': A_test,\n",
        "'Cost': costs,\n",
        "})\n",
        "df"
      ],
      "execution_count": 144,
      "outputs": [
        {
          "output_type": "execute_result",
          "data": {
            "text/html": [
              "<div>\n",
              "<style scoped>\n",
              "    .dataframe tbody tr th:only-of-type {\n",
              "        vertical-align: middle;\n",
              "    }\n",
              "\n",
              "    .dataframe tbody tr th {\n",
              "        vertical-align: top;\n",
              "    }\n",
              "\n",
              "    .dataframe thead th {\n",
              "        text-align: right;\n",
              "    }\n",
              "</style>\n",
              "<table border=\"1\" class=\"dataframe\">\n",
              "  <thead>\n",
              "    <tr style=\"text-align: right;\">\n",
              "      <th></th>\n",
              "      <th>Filename</th>\n",
              "      <th>Time</th>\n",
              "      <th>Cost</th>\n",
              "    </tr>\n",
              "  </thead>\n",
              "  <tbody>\n",
              "    <tr>\n",
              "      <th>0</th>\n",
              "      <td>A-n32-k5.vrp</td>\n",
              "      <td>22.749238</td>\n",
              "      <td>842</td>\n",
              "    </tr>\n",
              "    <tr>\n",
              "      <th>1</th>\n",
              "      <td>A-n33-k5.vrp</td>\n",
              "      <td>37.526668</td>\n",
              "      <td>698</td>\n",
              "    </tr>\n",
              "    <tr>\n",
              "      <th>2</th>\n",
              "      <td>A-n33-k6.vrp</td>\n",
              "      <td>12.712222</td>\n",
              "      <td>799</td>\n",
              "    </tr>\n",
              "    <tr>\n",
              "      <th>3</th>\n",
              "      <td>A-n34-k5.vrp</td>\n",
              "      <td>40.178442</td>\n",
              "      <td>810</td>\n",
              "    </tr>\n",
              "    <tr>\n",
              "      <th>4</th>\n",
              "      <td>A-n36-k5.vrp</td>\n",
              "      <td>40.316879</td>\n",
              "      <td>875</td>\n",
              "    </tr>\n",
              "    <tr>\n",
              "      <th>5</th>\n",
              "      <td>A-n37-k5.vrp</td>\n",
              "      <td>17.181877</td>\n",
              "      <td>755</td>\n",
              "    </tr>\n",
              "    <tr>\n",
              "      <th>6</th>\n",
              "      <td>A-n37-k6.vrp</td>\n",
              "      <td>27.007061</td>\n",
              "      <td>981</td>\n",
              "    </tr>\n",
              "    <tr>\n",
              "      <th>7</th>\n",
              "      <td>A-n38-k5.vrp</td>\n",
              "      <td>95.423884</td>\n",
              "      <td>791</td>\n",
              "    </tr>\n",
              "    <tr>\n",
              "      <th>8</th>\n",
              "      <td>A-n39-k5.vrp</td>\n",
              "      <td>51.003719</td>\n",
              "      <td>899</td>\n",
              "    </tr>\n",
              "    <tr>\n",
              "      <th>9</th>\n",
              "      <td>A-n39-k6.vrp</td>\n",
              "      <td>73.201331</td>\n",
              "      <td>893</td>\n",
              "    </tr>\n",
              "    <tr>\n",
              "      <th>10</th>\n",
              "      <td>A-n44-k6.vrp</td>\n",
              "      <td>146.583142</td>\n",
              "      <td>974</td>\n",
              "    </tr>\n",
              "    <tr>\n",
              "      <th>11</th>\n",
              "      <td>A-n45-k6.vrp</td>\n",
              "      <td>31.016345</td>\n",
              "      <td>1028</td>\n",
              "    </tr>\n",
              "    <tr>\n",
              "      <th>12</th>\n",
              "      <td>A-n45-k7.vrp</td>\n",
              "      <td>77.443373</td>\n",
              "      <td>1222</td>\n",
              "    </tr>\n",
              "    <tr>\n",
              "      <th>13</th>\n",
              "      <td>A-n46-k7.vrp</td>\n",
              "      <td>66.029337</td>\n",
              "      <td>1032</td>\n",
              "    </tr>\n",
              "    <tr>\n",
              "      <th>14</th>\n",
              "      <td>A-n48-k7.vrp</td>\n",
              "      <td>74.671901</td>\n",
              "      <td>1193</td>\n",
              "    </tr>\n",
              "    <tr>\n",
              "      <th>15</th>\n",
              "      <td>A-n53-k7.vrp</td>\n",
              "      <td>125.620885</td>\n",
              "      <td>1122</td>\n",
              "    </tr>\n",
              "    <tr>\n",
              "      <th>16</th>\n",
              "      <td>A-n54-k7.vrp</td>\n",
              "      <td>132.385053</td>\n",
              "      <td>1296</td>\n",
              "    </tr>\n",
              "    <tr>\n",
              "      <th>17</th>\n",
              "      <td>A-n55-k9.vrp</td>\n",
              "      <td>85.949661</td>\n",
              "      <td>1159</td>\n",
              "    </tr>\n",
              "    <tr>\n",
              "      <th>18</th>\n",
              "      <td>A-n60-k9.vrp</td>\n",
              "      <td>220.688238</td>\n",
              "      <td>1467</td>\n",
              "    </tr>\n",
              "    <tr>\n",
              "      <th>19</th>\n",
              "      <td>A-n61-k9.vrp</td>\n",
              "      <td>115.842758</td>\n",
              "      <td>1138</td>\n",
              "    </tr>\n",
              "    <tr>\n",
              "      <th>20</th>\n",
              "      <td>A-n62-k8.vrp</td>\n",
              "      <td>119.692556</td>\n",
              "      <td>1407</td>\n",
              "    </tr>\n",
              "    <tr>\n",
              "      <th>21</th>\n",
              "      <td>A-n63-k10.vrp</td>\n",
              "      <td>128.503075</td>\n",
              "      <td>1428</td>\n",
              "    </tr>\n",
              "    <tr>\n",
              "      <th>22</th>\n",
              "      <td>A-n63-k9.vrp</td>\n",
              "      <td>343.363358</td>\n",
              "      <td>1728</td>\n",
              "    </tr>\n",
              "    <tr>\n",
              "      <th>23</th>\n",
              "      <td>A-n64-k9.vrp</td>\n",
              "      <td>43.764009</td>\n",
              "      <td>1530</td>\n",
              "    </tr>\n",
              "    <tr>\n",
              "      <th>24</th>\n",
              "      <td>A-n65-k9.vrp</td>\n",
              "      <td>422.225035</td>\n",
              "      <td>1323</td>\n",
              "    </tr>\n",
              "    <tr>\n",
              "      <th>25</th>\n",
              "      <td>A-n69-k9.vrp</td>\n",
              "      <td>223.524120</td>\n",
              "      <td>1293</td>\n",
              "    </tr>\n",
              "    <tr>\n",
              "      <th>26</th>\n",
              "      <td>A-n80-k10.vrp</td>\n",
              "      <td>338.338528</td>\n",
              "      <td>1973</td>\n",
              "    </tr>\n",
              "  </tbody>\n",
              "</table>\n",
              "</div>"
            ],
            "text/plain": [
              "         Filename        Time  Cost\n",
              "0    A-n32-k5.vrp   22.749238   842\n",
              "1    A-n33-k5.vrp   37.526668   698\n",
              "2    A-n33-k6.vrp   12.712222   799\n",
              "3    A-n34-k5.vrp   40.178442   810\n",
              "4    A-n36-k5.vrp   40.316879   875\n",
              "5    A-n37-k5.vrp   17.181877   755\n",
              "6    A-n37-k6.vrp   27.007061   981\n",
              "7    A-n38-k5.vrp   95.423884   791\n",
              "8    A-n39-k5.vrp   51.003719   899\n",
              "9    A-n39-k6.vrp   73.201331   893\n",
              "10   A-n44-k6.vrp  146.583142   974\n",
              "11   A-n45-k6.vrp   31.016345  1028\n",
              "12   A-n45-k7.vrp   77.443373  1222\n",
              "13   A-n46-k7.vrp   66.029337  1032\n",
              "14   A-n48-k7.vrp   74.671901  1193\n",
              "15   A-n53-k7.vrp  125.620885  1122\n",
              "16   A-n54-k7.vrp  132.385053  1296\n",
              "17   A-n55-k9.vrp   85.949661  1159\n",
              "18   A-n60-k9.vrp  220.688238  1467\n",
              "19   A-n61-k9.vrp  115.842758  1138\n",
              "20   A-n62-k8.vrp  119.692556  1407\n",
              "21  A-n63-k10.vrp  128.503075  1428\n",
              "22   A-n63-k9.vrp  343.363358  1728\n",
              "23   A-n64-k9.vrp   43.764009  1530\n",
              "24   A-n65-k9.vrp  422.225035  1323\n",
              "25   A-n69-k9.vrp  223.524120  1293\n",
              "26  A-n80-k10.vrp  338.338528  1973"
            ]
          },
          "metadata": {
            "tags": []
          },
          "execution_count": 144
        }
      ]
    },
    {
      "cell_type": "code",
      "metadata": {
        "id": "AQHGQ7qF4nM2",
        "colab_type": "code",
        "colab": {
          "base_uri": "https://localhost:8080/",
          "height": 34
        },
        "outputId": "8e7be555-45e9-4dae-8b20-4e02e1ccf34e"
      },
      "source": [
        "cd /content/gdrive/'My Drive'/АИО/vrp/B/"
      ],
      "execution_count": 145,
      "outputs": [
        {
          "output_type": "stream",
          "text": [
            "/content/gdrive/My Drive/АИО/vrp/B\n"
          ],
          "name": "stdout"
        }
      ]
    },
    {
      "cell_type": "code",
      "metadata": {
        "id": "30xCuxTH4sxy",
        "colab_type": "code",
        "colab": {}
      },
      "source": [
        "b=!ls -1  *.*"
      ],
      "execution_count": 0,
      "outputs": []
    },
    {
      "cell_type": "code",
      "metadata": {
        "id": "TNgg26ds4qgU",
        "colab_type": "code",
        "colab": {
          "base_uri": "https://localhost:8080/",
          "height": 34
        },
        "outputId": "1a5a7242-8a17-414c-fe67-f58b19165854"
      },
      "source": [
        "B_test = []\n",
        "b_costs = []\n",
        "for test in b:\n",
        "  start = time.time()\n",
        "  data = Reader(test)\n",
        "  routes, best_cost = Ant_Colony_Algorithm(test)\n",
        "  finish = time.time()\n",
        "  tm = finish - start\n",
        "  B_test.append(tm)\n",
        "  b_costs.append(best_cost)"
      ],
      "execution_count": 147,
      "outputs": [
        {
          "output_type": "stream",
          "text": [
            "/usr/local/lib/python3.6/dist-packages/ipykernel_launcher.py:64: RuntimeWarning: invalid value encountered in true_divide\n"
          ],
          "name": "stderr"
        }
      ]
    },
    {
      "cell_type": "markdown",
      "metadata": {
        "id": "-yWS6_91f21L",
        "colab_type": "text"
      },
      "source": [
        "####**B-test**"
      ]
    },
    {
      "cell_type": "code",
      "metadata": {
        "id": "FHanQulN4zaX",
        "colab_type": "code",
        "colab": {
          "base_uri": "https://localhost:8080/",
          "height": 728
        },
        "outputId": "ebfe0b7b-22f7-48b1-9b34-b76da46c19a8"
      },
      "source": [
        "df = pd.DataFrame({\n",
        "'Filename': b,\n",
        "'Time': B_test,\n",
        "'Cost': b_costs,\n",
        "})\n",
        "df"
      ],
      "execution_count": 148,
      "outputs": [
        {
          "output_type": "execute_result",
          "data": {
            "text/html": [
              "<div>\n",
              "<style scoped>\n",
              "    .dataframe tbody tr th:only-of-type {\n",
              "        vertical-align: middle;\n",
              "    }\n",
              "\n",
              "    .dataframe tbody tr th {\n",
              "        vertical-align: top;\n",
              "    }\n",
              "\n",
              "    .dataframe thead th {\n",
              "        text-align: right;\n",
              "    }\n",
              "</style>\n",
              "<table border=\"1\" class=\"dataframe\">\n",
              "  <thead>\n",
              "    <tr style=\"text-align: right;\">\n",
              "      <th></th>\n",
              "      <th>Filename</th>\n",
              "      <th>Time</th>\n",
              "      <th>Cost</th>\n",
              "    </tr>\n",
              "  </thead>\n",
              "  <tbody>\n",
              "    <tr>\n",
              "      <th>0</th>\n",
              "      <td>B-n31-k5.vrp</td>\n",
              "      <td>31.890083</td>\n",
              "      <td>672</td>\n",
              "    </tr>\n",
              "    <tr>\n",
              "      <th>1</th>\n",
              "      <td>B-n34-k5.vrp</td>\n",
              "      <td>34.612769</td>\n",
              "      <td>803</td>\n",
              "    </tr>\n",
              "    <tr>\n",
              "      <th>2</th>\n",
              "      <td>B-n35-k5.vrp</td>\n",
              "      <td>22.071735</td>\n",
              "      <td>985</td>\n",
              "    </tr>\n",
              "    <tr>\n",
              "      <th>3</th>\n",
              "      <td>B-n38-k6.vrp</td>\n",
              "      <td>77.227595</td>\n",
              "      <td>826</td>\n",
              "    </tr>\n",
              "    <tr>\n",
              "      <th>4</th>\n",
              "      <td>B-n39-k5.vrp</td>\n",
              "      <td>40.832875</td>\n",
              "      <td>583</td>\n",
              "    </tr>\n",
              "    <tr>\n",
              "      <th>5</th>\n",
              "      <td>B-n41-k6.vrp</td>\n",
              "      <td>35.935623</td>\n",
              "      <td>874</td>\n",
              "    </tr>\n",
              "    <tr>\n",
              "      <th>6</th>\n",
              "      <td>B-n43-k6.vrp</td>\n",
              "      <td>54.001265</td>\n",
              "      <td>782</td>\n",
              "    </tr>\n",
              "    <tr>\n",
              "      <th>7</th>\n",
              "      <td>B-n44-k7.vrp</td>\n",
              "      <td>149.580765</td>\n",
              "      <td>961</td>\n",
              "    </tr>\n",
              "    <tr>\n",
              "      <th>8</th>\n",
              "      <td>B-n45-k5.vrp</td>\n",
              "      <td>77.138081</td>\n",
              "      <td>824</td>\n",
              "    </tr>\n",
              "    <tr>\n",
              "      <th>9</th>\n",
              "      <td>B-n45-k6.vrp</td>\n",
              "      <td>110.055633</td>\n",
              "      <td>741</td>\n",
              "    </tr>\n",
              "    <tr>\n",
              "      <th>10</th>\n",
              "      <td>B-n50-k7.vrp</td>\n",
              "      <td>214.490045</td>\n",
              "      <td>787</td>\n",
              "    </tr>\n",
              "    <tr>\n",
              "      <th>11</th>\n",
              "      <td>B-n50-k8.vrp</td>\n",
              "      <td>108.392045</td>\n",
              "      <td>1355</td>\n",
              "    </tr>\n",
              "    <tr>\n",
              "      <th>12</th>\n",
              "      <td>B-n51-k7.vrp</td>\n",
              "      <td>68.034138</td>\n",
              "      <td>1044</td>\n",
              "    </tr>\n",
              "    <tr>\n",
              "      <th>13</th>\n",
              "      <td>B-n52-k7.vrp</td>\n",
              "      <td>70.847562</td>\n",
              "      <td>781</td>\n",
              "    </tr>\n",
              "    <tr>\n",
              "      <th>14</th>\n",
              "      <td>B-n56-k7.vrp</td>\n",
              "      <td>117.969288</td>\n",
              "      <td>770</td>\n",
              "    </tr>\n",
              "    <tr>\n",
              "      <th>15</th>\n",
              "      <td>B-n57-k7.vrp</td>\n",
              "      <td>187.268267</td>\n",
              "      <td>1171</td>\n",
              "    </tr>\n",
              "    <tr>\n",
              "      <th>16</th>\n",
              "      <td>B-n57-k9.vrp</td>\n",
              "      <td>254.739955</td>\n",
              "      <td>1678</td>\n",
              "    </tr>\n",
              "    <tr>\n",
              "      <th>17</th>\n",
              "      <td>B-n63-k10.vrp</td>\n",
              "      <td>390.602585</td>\n",
              "      <td>1602</td>\n",
              "    </tr>\n",
              "    <tr>\n",
              "      <th>18</th>\n",
              "      <td>B-n64-k9.vrp</td>\n",
              "      <td>270.892210</td>\n",
              "      <td>950</td>\n",
              "    </tr>\n",
              "    <tr>\n",
              "      <th>19</th>\n",
              "      <td>B-n66-k9.vrp</td>\n",
              "      <td>194.935068</td>\n",
              "      <td>1351</td>\n",
              "    </tr>\n",
              "    <tr>\n",
              "      <th>20</th>\n",
              "      <td>B-n67-k10.vrp</td>\n",
              "      <td>154.079608</td>\n",
              "      <td>1133</td>\n",
              "    </tr>\n",
              "    <tr>\n",
              "      <th>21</th>\n",
              "      <td>B-n68-k9.vrp</td>\n",
              "      <td>372.764310</td>\n",
              "      <td>1347</td>\n",
              "    </tr>\n",
              "    <tr>\n",
              "      <th>22</th>\n",
              "      <td>B-n78-k10.vrp</td>\n",
              "      <td>159.161810</td>\n",
              "      <td>1322</td>\n",
              "    </tr>\n",
              "  </tbody>\n",
              "</table>\n",
              "</div>"
            ],
            "text/plain": [
              "         Filename        Time  Cost\n",
              "0    B-n31-k5.vrp   31.890083   672\n",
              "1    B-n34-k5.vrp   34.612769   803\n",
              "2    B-n35-k5.vrp   22.071735   985\n",
              "3    B-n38-k6.vrp   77.227595   826\n",
              "4    B-n39-k5.vrp   40.832875   583\n",
              "5    B-n41-k6.vrp   35.935623   874\n",
              "6    B-n43-k6.vrp   54.001265   782\n",
              "7    B-n44-k7.vrp  149.580765   961\n",
              "8    B-n45-k5.vrp   77.138081   824\n",
              "9    B-n45-k6.vrp  110.055633   741\n",
              "10   B-n50-k7.vrp  214.490045   787\n",
              "11   B-n50-k8.vrp  108.392045  1355\n",
              "12   B-n51-k7.vrp   68.034138  1044\n",
              "13   B-n52-k7.vrp   70.847562   781\n",
              "14   B-n56-k7.vrp  117.969288   770\n",
              "15   B-n57-k7.vrp  187.268267  1171\n",
              "16   B-n57-k9.vrp  254.739955  1678\n",
              "17  B-n63-k10.vrp  390.602585  1602\n",
              "18   B-n64-k9.vrp  270.892210   950\n",
              "19   B-n66-k9.vrp  194.935068  1351\n",
              "20  B-n67-k10.vrp  154.079608  1133\n",
              "21   B-n68-k9.vrp  372.764310  1347\n",
              "22  B-n78-k10.vrp  159.161810  1322"
            ]
          },
          "metadata": {
            "tags": []
          },
          "execution_count": 148
        }
      ]
    }
  ]
}