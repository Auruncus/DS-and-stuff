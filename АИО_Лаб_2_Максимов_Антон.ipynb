{
  "nbformat": 4,
  "nbformat_minor": 0,
  "metadata": {
    "colab": {
      "name": "АИО Лаб. 2 Максимов Антон.ipynb",
      "provenance": [],
      "collapsed_sections": [
        "86qblKwyPIBY",
        "BkOm21SJPQE6",
        "K_psZCNLPUUU",
        "e8ZIo6vtPeaU"
      ]
    },
    "kernelspec": {
      "name": "python3",
      "display_name": "Python 3"
    }
  },
  "cells": [
    {
      "cell_type": "markdown",
      "metadata": {
        "id": "SmcUvqPsO2Y3",
        "colab_type": "text"
      },
      "source": [
        "#**АИО. Лабораторная работа №2**"
      ]
    },
    {
      "cell_type": "markdown",
      "metadata": {
        "id": "zOELm-gNO6J9",
        "colab_type": "text"
      },
      "source": [
        "**Максимов Антон, 17ПМИ**"
      ]
    },
    {
      "cell_type": "code",
      "metadata": {
        "id": "WBPg9Hc9MxLl",
        "colab_type": "code",
        "colab": {}
      },
      "source": [
        "import numpy as np \n",
        "import pandas as pd\n",
        "import matplotlib.pyplot as plt\n",
        "from numpy import loadtxt\n",
        "from scipy.optimize import linprog as simplex\n",
        "from collections import deque\n",
        "#from random import *\n",
        "import random\n",
        "import timeit"
      ],
      "execution_count": 0,
      "outputs": []
    },
    {
      "cell_type": "code",
      "metadata": {
        "id": "aKefFKfMO7-c",
        "colab_type": "code",
        "colab": {
          "base_uri": "https://localhost:8080/",
          "height": 35
        },
        "outputId": "1ddb004f-5dd4-4335-d059-97081114a0d9"
      },
      "source": [
        "from google.colab import drive\n",
        "drive.mount('/content/gdrive')"
      ],
      "execution_count": 3,
      "outputs": [
        {
          "output_type": "stream",
          "text": [
            "Drive already mounted at /content/gdrive; to attempt to forcibly remount, call drive.mount(\"/content/gdrive\", force_remount=True).\n"
          ],
          "name": "stdout"
        }
      ]
    },
    {
      "cell_type": "code",
      "metadata": {
        "id": "T3kuu8SFO-XY",
        "colab_type": "code",
        "outputId": "6bc4e1ad-5a6d-414c-e9aa-674d5b56a56a",
        "colab": {
          "base_uri": "https://localhost:8080/",
          "height": 35
        }
      },
      "source": [
        "cd /content/gdrive/'My Drive'/АИО/benchmarks_knapsack/"
      ],
      "execution_count": 4,
      "outputs": [
        {
          "output_type": "stream",
          "text": [
            "/content/gdrive/My Drive/АИО/benchmarks_knapsack\n"
          ],
          "name": "stdout"
        }
      ]
    },
    {
      "cell_type": "code",
      "metadata": {
        "id": "Im7GDzfxPBhh",
        "colab_type": "code",
        "colab": {}
      },
      "source": [
        "a=!ls -1  *.*\n",
        "capacity = []\n",
        "weights= []\n",
        "costs = []\n",
        "answers = []\n",
        "\n",
        "for i in range(0,27,4):\n",
        "    capacity.append(int(loadtxt(a[i], comments=\"#\", delimiter=\"\\n\", unpack=False)))\n",
        "for i in range(1,27,4):\n",
        "    costs.append(np.array((loadtxt(a[i], comments=\"#\", delimiter=\"\\n\", unpack=False))).astype(int))\n",
        "for i in range(2,27,4):\n",
        "    answers.append(list(np.array((loadtxt(a[i], comments=\"#\", delimiter=\"\\n\", unpack=False))).astype(int)))  \n",
        "for i in range(3,28,4):\n",
        "    weights.append(np.array((loadtxt(a[i], comments=\"#\", delimiter=\"\\n\", unpack=False))).astype(int))        "
      ],
      "execution_count": 0,
      "outputs": []
    },
    {
      "cell_type": "code",
      "metadata": {
        "id": "RHZ8xIEb-GsH",
        "colab_type": "code",
        "outputId": "2ef2be72-1089-4c92-fc0a-42fa1afa891c",
        "colab": {
          "base_uri": "https://localhost:8080/",
          "height": 35
        }
      },
      "source": [
        "capacity"
      ],
      "execution_count": 347,
      "outputs": [
        {
          "output_type": "execute_result",
          "data": {
            "text/plain": [
              "[165, 26, 190, 50, 104, 170, 750]"
            ]
          },
          "metadata": {
            "tags": []
          },
          "execution_count": 347
        }
      ]
    },
    {
      "cell_type": "code",
      "metadata": {
        "id": "VM5d3tDB_CXU",
        "colab_type": "code",
        "outputId": "55238f3a-1200-4379-dd63-1f883937ec48",
        "colab": {
          "base_uri": "https://localhost:8080/",
          "height": 163
        }
      },
      "source": [
        "weights"
      ],
      "execution_count": 8,
      "outputs": [
        {
          "output_type": "execute_result",
          "data": {
            "text/plain": [
              "[array([23, 31, 29, 44, 53, 38, 63, 85, 89, 82]),\n",
              " array([12,  7, 11,  8,  9]),\n",
              " array([56, 59, 80, 64, 75, 17]),\n",
              " array([31, 10, 20, 19,  4,  3,  6]),\n",
              " array([25, 35, 45,  5, 25,  3,  2,  2]),\n",
              " array([41, 50, 49, 59, 55, 57, 60]),\n",
              " array([ 70,  73,  77,  80,  82,  87,  90,  94,  98, 106, 110, 113, 115,\n",
              "        118, 120])]"
            ]
          },
          "metadata": {
            "tags": []
          },
          "execution_count": 8
        }
      ]
    },
    {
      "cell_type": "code",
      "metadata": {
        "id": "wVyEGFp1ADDG",
        "colab_type": "code",
        "outputId": "48ba37c6-19f6-4a42-b5b8-2c0560bd3945",
        "colab": {
          "base_uri": "https://localhost:8080/",
          "height": 163
        }
      },
      "source": [
        "costs"
      ],
      "execution_count": 9,
      "outputs": [
        {
          "output_type": "execute_result",
          "data": {
            "text/plain": [
              "[array([92, 57, 49, 68, 60, 43, 67, 84, 87, 72]),\n",
              " array([24, 13, 23, 15, 16]),\n",
              " array([50, 50, 64, 46, 50,  5]),\n",
              " array([70, 20, 39, 37,  7,  5, 10]),\n",
              " array([350, 400, 450,  20,  70,   8,   5,   5]),\n",
              " array([442, 525, 511, 593, 546, 564, 617]),\n",
              " array([135, 139, 149, 150, 156, 163, 173, 184, 192, 201, 210, 214, 221,\n",
              "        229, 240])]"
            ]
          },
          "metadata": {
            "tags": []
          },
          "execution_count": 9
        }
      ]
    },
    {
      "cell_type": "code",
      "metadata": {
        "id": "bnaRsTVRAF9O",
        "colab_type": "code",
        "outputId": "5b120932-33c9-4d16-e506-805d9119a48a",
        "colab": {
          "base_uri": "https://localhost:8080/",
          "height": 145
        }
      },
      "source": [
        "answers"
      ],
      "execution_count": 10,
      "outputs": [
        {
          "output_type": "execute_result",
          "data": {
            "text/plain": [
              "[[1, 1, 1, 1, 0, 1, 0, 0, 0, 0],\n",
              " [0, 1, 1, 1, 0],\n",
              " [1, 1, 0, 0, 1, 0],\n",
              " [1, 0, 0, 1, 0, 0, 0],\n",
              " [1, 0, 1, 1, 1, 0, 1, 1],\n",
              " [0, 1, 0, 1, 0, 0, 1],\n",
              " [1, 0, 1, 0, 1, 0, 1, 1, 1, 0, 0, 0, 0, 1, 1]]"
            ]
          },
          "metadata": {
            "tags": []
          },
          "execution_count": 10
        }
      ]
    },
    {
      "cell_type": "markdown",
      "metadata": {
        "id": "86qblKwyPIBY",
        "colab_type": "text"
      },
      "source": [
        "##**Простая эвристика**"
      ]
    },
    {
      "cell_type": "code",
      "metadata": {
        "id": "9vw587J8PHv7",
        "colab_type": "code",
        "colab": {}
      },
      "source": [
        "def Simple_Heuristic(capacity, weights, costs):\n",
        "    quality = [cost / weight for cost, weight in zip(costs, weights)]\n",
        "    n = len(weights)\n",
        "    knapsack = [0]*n \n",
        "    old_index = [i for i in enumerate(quality)]\n",
        "    index = sorted(old_index, key = lambda x:x[1], reverse=True)\n",
        "    weight = 0\n",
        "    for i in index:\n",
        "        if weight + weights[i[0]] <= capacity:\n",
        "          knapsack[i[0]] = 1\n",
        "          weight += weights[i[0]]\n",
        "        if weight == capacity:\n",
        "          break  \n",
        "    return knapsack      "
      ],
      "execution_count": 0,
      "outputs": []
    },
    {
      "cell_type": "code",
      "metadata": {
        "id": "K2_MwR5E_e-e",
        "colab_type": "code",
        "outputId": "4f227b4d-05b6-4f9e-9c48-6a3c8b13d97d",
        "colab": {
          "base_uri": "https://localhost:8080/",
          "height": 35
        }
      },
      "source": [
        "Simple_Heuristic(capacity[0], weights[0], costs[0])"
      ],
      "execution_count": 27,
      "outputs": [
        {
          "output_type": "execute_result",
          "data": {
            "text/plain": [
              "[0, 1, 1, 1, 1, 1, 1, 1, 0, 0, 1, 0, 0, 0, 0, 0, 1, 1, 0, 0, 0, 0, 1, 0]"
            ]
          },
          "metadata": {
            "tags": []
          },
          "execution_count": 27
        }
      ]
    },
    {
      "cell_type": "code",
      "metadata": {
        "id": "h6-pwuMa42Zm",
        "colab_type": "code",
        "outputId": "bd84d720-a225-48d1-9393-6899bcfb6cae",
        "colab": {
          "base_uri": "https://localhost:8080/",
          "height": 34
        }
      },
      "source": [
        "answers[0]"
      ],
      "execution_count": 0,
      "outputs": [
        {
          "output_type": "execute_result",
          "data": {
            "text/plain": [
              "[1, 1, 1, 1, 0, 1, 0, 0, 0, 0]"
            ]
          },
          "metadata": {
            "tags": []
          },
          "execution_count": 125
        }
      ]
    },
    {
      "cell_type": "markdown",
      "metadata": {
        "id": "BkOm21SJPQE6",
        "colab_type": "text"
      },
      "source": [
        "##**Методом динамического программирования**"
      ]
    },
    {
      "cell_type": "code",
      "metadata": {
        "id": "nWQ885QBPL-N",
        "colab_type": "code",
        "colab": {}
      },
      "source": [
        "def Dynamic(capacity, weights, costs):\n",
        "    n = len(weights)\n",
        "    knapsack = [0]*n \n",
        "    table = [[0] * (capacity+1) for i in range(n+1)]\n",
        "\n",
        "    for i in range(1, n+1): \n",
        "        for w in range(1, capacity+1): \n",
        "            if weights[i-1] <= w:\n",
        "                table[i][w] = max(costs[i-1] + table[i-1][w - weights[i-1]], table[i-1][w])\n",
        "            else:\n",
        "                table[i][w] = table[i-1][w] \n",
        "    optimal_cost = table[n][capacity]\n",
        "    i = n\n",
        "    j = capacity\n",
        "    while optimal_cost > 0:\n",
        "        if table[i][j] == table[i - 1][j]:\n",
        "            i -= 1\n",
        "        else:\n",
        "            knapsack[i - 1] = 1  \n",
        "            optimal_cost -= costs[i - 1] \n",
        "            j = table[i - 1].index(optimal_cost)\n",
        "            i -= 1\n",
        "\n",
        "    return knapsack"
      ],
      "execution_count": 0,
      "outputs": []
    },
    {
      "cell_type": "code",
      "metadata": {
        "id": "FbFgGSPPLrvU",
        "colab_type": "code",
        "outputId": "78acb469-293b-41fe-a57e-63ecd129190b",
        "colab": {
          "base_uri": "https://localhost:8080/",
          "height": 34
        }
      },
      "source": [
        "Dynamic(capacity[1], weights[1], costs[1])"
      ],
      "execution_count": 0,
      "outputs": [
        {
          "output_type": "execute_result",
          "data": {
            "text/plain": [
              "[0, 1, 1, 1, 0]"
            ]
          },
          "metadata": {
            "tags": []
          },
          "execution_count": 145
        }
      ]
    },
    {
      "cell_type": "code",
      "metadata": {
        "id": "bkenbK48PJ2_",
        "colab_type": "code",
        "outputId": "1b1123e4-3dab-494d-a52f-b62f0022cdb7",
        "colab": {
          "base_uri": "https://localhost:8080/",
          "height": 34
        }
      },
      "source": [
        "answers[1]"
      ],
      "execution_count": 0,
      "outputs": [
        {
          "output_type": "execute_result",
          "data": {
            "text/plain": [
              "[0, 1, 1, 1, 0]"
            ]
          },
          "metadata": {
            "tags": []
          },
          "execution_count": 9
        }
      ]
    },
    {
      "cell_type": "markdown",
      "metadata": {
        "id": "K_psZCNLPUUU",
        "colab_type": "text"
      },
      "source": [
        "##**Методом ветвей и границ**"
      ]
    },
    {
      "cell_type": "code",
      "metadata": {
        "id": "O5-WGwh8VikB",
        "colab_type": "code",
        "colab": {}
      },
      "source": [
        "class Branch_and_Bound:\n",
        "    def __init__(self, capacity, weights, costs):\n",
        "        self.n = len(weights)   \n",
        "        self.capacity = np.asarray(capacity).reshape(1, 1)\n",
        "        self.weights = np.asarray(weights).reshape(1, self.n)\n",
        "        self.costs = np.asarray(costs)\n",
        "        self.nodes = []\n",
        "        self.knapsack = [0]*self.n \n",
        "        self.current_best = 0\n",
        "        self.best_solution = None\n",
        "        self.best_value = -np.inf   \n",
        "        self.root = None       \n",
        "        self.subproblems = deque([(np.zeros((1, self.n)), np.zeros((1, 1)))])\n",
        "\n",
        "    def run(self):\n",
        "        while self.subproblems:\n",
        "\n",
        "            A_parent, B_parent = self.subproblems.popleft()\n",
        "            res = simplex(-self.costs, self.weights, self.capacity, A_parent, B_parent, method='revised simplex', bounds=(0,1))\n",
        "\n",
        "            if not res.success:\n",
        "              if res.status == 1:\n",
        "                print(\"ERRORE\")\n",
        "              elif res.status == 2:\n",
        "                continue  \n",
        "              else:\n",
        "                print(\"What`s wrong with you?\")\n",
        "\n",
        "            res.x[np.isclose(res.x, 0)] = 0\n",
        "            #print(-res.fun)\n",
        "        \n",
        "            if -res.fun <= self.best_value:\n",
        "                continue  \n",
        "            \n",
        "        \n",
        "            fracts = []\n",
        "            for i in range(len(res.x)):\n",
        "                if not res.x[i].is_integer():\n",
        "                    fracts.append(i)\n",
        "        \n",
        "            if not fracts:\n",
        "                self.best_solution = res.x.astype('int')\n",
        "                self.best_value = int(-res.fun)\n",
        "                continue\n",
        "\n",
        "            perem = max(fracts, key=abs)\n",
        "            branch_i = perem\n",
        "\n",
        "            left = np.floor(res.x[branch_i]) #0\n",
        "            constrain_1 = np.zeros((1, self.n))\n",
        "            constrain_1[0, branch_i] = 1 #добавляем по какой переменной идем\n",
        "\n",
        "            A_child_1 = np.concatenate([A_parent, constrain_1]) \n",
        "            B_child_1 = np.concatenate([B_parent, np.array([[left]])])\n",
        "            self.subproblems.append((A_child_1, B_child_1))\n",
        "\n",
        "            right = np.ceil(res.x[branch_i])  #1\n",
        "            constrain_2 = np.zeros((1, self.n))\n",
        "            constrain_2[0, branch_i] = 1 #добавляем по какой переменной идем\n",
        "            A_child_2 = np.concatenate([A_parent, constrain_2])\n",
        "            b_child_2 = np.concatenate([B_parent, np.array([[right]])])\n",
        "            self.subproblems.append((A_child_2, b_child_2))\n",
        "\n",
        "        return self.best_solution\n",
        "        "
      ],
      "execution_count": 0,
      "outputs": []
    },
    {
      "cell_type": "code",
      "metadata": {
        "id": "wp-J4jlRtS_w",
        "colab_type": "code",
        "colab": {}
      },
      "source": [
        "c = [6, 10, 10]\n",
        "w = [1, 2, 3]\n",
        "cap = 5"
      ],
      "execution_count": 0,
      "outputs": []
    },
    {
      "cell_type": "code",
      "metadata": {
        "id": "7Q43F5nK7Dwl",
        "colab_type": "code",
        "colab": {
          "base_uri": "https://localhost:8080/",
          "height": 35
        },
        "outputId": "530879f3-d89d-4b8f-f958-b211351b3b48"
      },
      "source": [
        "Branch_and_Bound(capacity[6], weights[6], costs[6]).run()"
      ],
      "execution_count": 404,
      "outputs": [
        {
          "output_type": "execute_result",
          "data": {
            "text/plain": [
              "array([1, 0, 1, 0, 1, 0, 1, 1, 1, 0, 0, 0, 0, 1, 1])"
            ]
          },
          "metadata": {
            "tags": []
          },
          "execution_count": 404
        }
      ]
    },
    {
      "cell_type": "code",
      "metadata": {
        "id": "IIiTPthT7NhE",
        "colab_type": "code",
        "colab": {
          "base_uri": "https://localhost:8080/",
          "height": 35
        },
        "outputId": "481b8d6d-239a-4be3-eb7d-47b6920e59c1"
      },
      "source": [
        "answers[6]"
      ],
      "execution_count": 405,
      "outputs": [
        {
          "output_type": "execute_result",
          "data": {
            "text/plain": [
              "[1, 0, 1, 0, 1, 0, 1, 1, 1, 0, 0, 0, 0, 1, 1]"
            ]
          },
          "metadata": {
            "tags": []
          },
          "execution_count": 405
        }
      ]
    },
    {
      "cell_type": "code",
      "metadata": {
        "id": "iNdyxcECtViG",
        "colab_type": "code",
        "outputId": "7f8491e3-7ee8-450a-bad4-78d687c6775c",
        "colab": {
          "base_uri": "https://localhost:8080/",
          "height": 126
        }
      },
      "source": [
        "Branch_and_Bound(cap, w, c).run()"
      ],
      "execution_count": 402,
      "outputs": [
        {
          "output_type": "stream",
          "text": [
            "22.666666666666668\n",
            "16.0\n",
            "21.0\n",
            "16.0\n",
            "20.0\n"
          ],
          "name": "stdout"
        },
        {
          "output_type": "execute_result",
          "data": {
            "text/plain": [
              "array([0, 1, 1])"
            ]
          },
          "metadata": {
            "tags": []
          },
          "execution_count": 402
        }
      ]
    },
    {
      "cell_type": "markdown",
      "metadata": {
        "id": "ThC8UIlTwsxQ",
        "colab_type": "text"
      },
      "source": [
        "**Вроде, сходится с тем, что было в презентации**"
      ]
    },
    {
      "cell_type": "markdown",
      "metadata": {
        "id": "e8ZIo6vtPeaU",
        "colab_type": "text"
      },
      "source": [
        "##**Генетическим алгоритмом**"
      ]
    },
    {
      "cell_type": "code",
      "metadata": {
        "id": "kKVBQsZGPn24",
        "colab_type": "code",
        "colab": {
          "base_uri": "https://localhost:8080/",
          "height": 35
        },
        "outputId": "f39a2280-9c59-4885-f2ef-68b3526d3746"
      },
      "source": [
        "answers[6]"
      ],
      "execution_count": 373,
      "outputs": [
        {
          "output_type": "execute_result",
          "data": {
            "text/plain": [
              "[1, 0, 1, 0, 1, 0, 1, 1, 1, 0, 0, 0, 0, 1, 1]"
            ]
          },
          "metadata": {
            "tags": []
          },
          "execution_count": 373
        }
      ]
    },
    {
      "cell_type": "code",
      "metadata": {
        "id": "FWhCqvGPJP7a",
        "colab_type": "code",
        "colab": {
          "base_uri": "https://localhost:8080/",
          "height": 35
        },
        "outputId": "cdebf425-d5d5-4bcc-dd04-a2589643a19d"
      },
      "source": [
        "Genetic_Algorithm(capacity[6], weights[6], costs[6])"
      ],
      "execution_count": 385,
      "outputs": [
        {
          "output_type": "execute_result",
          "data": {
            "text/plain": [
              "[1, 0, 1, 0, 1, 0, 1, 1, 1, 0, 0, 0, 0, 1, 1]"
            ]
          },
          "metadata": {
            "tags": []
          },
          "execution_count": 385
        }
      ]
    },
    {
      "cell_type": "code",
      "metadata": {
        "id": "GHyWgtCpPMRY",
        "colab_type": "code",
        "colab": {}
      },
      "source": [
        "def Genetic_Algorithm(capacity, weights, costs):\n",
        "  n_items = len(costs)\n",
        "  population_size = n_items*10\n",
        "  generations = n_items*10\n",
        "  knapsack = evolution(costs, weights, capacity, population_size, 100, generations, 0.6)\n",
        "  return knapsack"
      ],
      "execution_count": 0,
      "outputs": []
    },
    {
      "cell_type": "code",
      "metadata": {
        "id": "fb3xd-oOsYdp",
        "colab_type": "code",
        "colab": {}
      },
      "source": [
        "def evolution(costs, weights, capacity, population_size, chance_of_mutate, generations, acceptance):\n",
        "    generation = 0\n",
        "    population = intialize_population(population_size, len(costs))\n",
        "\n",
        "    fitness = fitness_function(population, costs, weights, len(costs), capacity)\n",
        "\n",
        "    while(not is_converged(fitness,acceptance) and generation < generations):\n",
        "        generation += 1\n",
        "        population = generate_next_generation(population, fitness, len(costs), chance_of_mutate)\n",
        "        fitness = fitness_function(population, costs, weights, len(costs), capacity)\n",
        "\n",
        "    return get_solution(population,fitness)"
      ],
      "execution_count": 0,
      "outputs": []
    },
    {
      "cell_type": "code",
      "metadata": {
        "id": "5aGYxh5BuIkp",
        "colab_type": "code",
        "colab": {}
      },
      "source": [
        "def get_solution(population,fitness):\n",
        "    best = 0\n",
        "    for i,cur_fitness in enumerate(fitness):\n",
        "        if cur_fitness > fitness[best]:\n",
        "            best = i\n",
        "    return population[best]"
      ],
      "execution_count": 0,
      "outputs": []
    },
    {
      "cell_type": "code",
      "metadata": {
        "id": "myH2GEb3sH-u",
        "colab_type": "code",
        "colab": {}
      },
      "source": [
        "def intialize_population(population_size, n_items):\n",
        "    population = []\n",
        "    for i in range(population_size):\n",
        "        population.append([])\n",
        "        for j in range(n_items):\n",
        "            if random.random() < 0.5:\n",
        "                population[i].append(1)\n",
        "            else:\n",
        "                population[i].append(0)\n",
        "    return population   "
      ],
      "execution_count": 0,
      "outputs": []
    },
    {
      "cell_type": "code",
      "metadata": {
        "id": "Y-PxUuk7sM_j",
        "colab_type": "code",
        "colab": {}
      },
      "source": [
        "def selection(population,fitness):\n",
        "    target_fitness = random.randint(0,sum(fitness))\n",
        "    temp_sum = 0\n",
        "    parent1 = []\n",
        "    fitness1 = 0\n",
        "    selected = ([],[])\n",
        "    for i in range(0,len(population)):\n",
        "        temp_sum += fitness[i]\n",
        "\n",
        "        if temp_sum >= target_fitness:\n",
        "            parent1 = population.pop(i)\n",
        "            fitness1 = fitness.pop(i)\n",
        "            break\n",
        "    temp_sum = 0\n",
        "    target_fitness = random.randint(0,sum(fitness))\n",
        "\n",
        "    for i in range(0,len(population)):\n",
        "        temp_sum += fitness[i]\n",
        "        if temp_sum >= target_fitness:\n",
        "            parent2 = population[i]\n",
        "            population.append(parent1)\n",
        "            fitness.append(fitness1)\n",
        "            selected = (parent1,parent2)\n",
        "            break\n",
        "\n",
        "    return selected"
      ],
      "execution_count": 0,
      "outputs": []
    },
    {
      "cell_type": "code",
      "metadata": {
        "id": "9KKUHKI8PBtJ",
        "colab_type": "code",
        "colab": {}
      },
      "source": [
        "def fitness_function(population, costs, weights, n_items, capacity):\n",
        "    fitness = []\n",
        "    for j,chromosome in enumerate(population):\n",
        "        while True:\n",
        "            cur_weight = 0\n",
        "            cur_value = 0\n",
        "            for i in range(0,n_items):\n",
        "                if chromosome[i] != 0:\n",
        "                    cur_weight += weights[i]\n",
        "                    cur_value  += costs[i]\n",
        "            if cur_weight <= capacity:\n",
        "                fitness.append(cur_value)\n",
        "                break\n",
        "            else:\n",
        "                remove = random.randint(0,n_items-1)\n",
        "                chromosome[remove] = 0\n",
        "        population[j] = chromosome\n",
        "    return fitness"
      ],
      "execution_count": 0,
      "outputs": []
    },
    {
      "cell_type": "code",
      "metadata": {
        "id": "-1i4v33cuuOU",
        "colab_type": "code",
        "colab": {}
      },
      "source": [
        "def is_converged(fitness, acceptance):\n",
        "    mode_fitness = max(set(fitness),key=fitness.count)\n",
        "    if float(fitness.count(mode_fitness)) / float(len(fitness)) >= acceptance:\n",
        "        return True\n",
        "    return False"
      ],
      "execution_count": 0,
      "outputs": []
    },
    {
      "cell_type": "code",
      "metadata": {
        "id": "cjHL6vHgsP3Y",
        "colab_type": "code",
        "colab": {}
      },
      "source": [
        "def crossover(parent1,parent2,n_items):\n",
        "    pivot = random.randint(0,n_items-1)\n",
        "    child = (parent1[:pivot]) + (parent2[pivot:])\n",
        "    return child\n",
        "\n",
        "def mutate(chromosome,n_items,chance_of_mutate):\n",
        "    for i in range(0,n_items - 1):\n",
        "        mutation_cofficient = random.randint(1,chance_of_mutate)\n",
        "        if mutation_cofficient == 1:\n",
        "            chromosome[i] ^= 1\n",
        "    return chromosome"
      ],
      "execution_count": 0,
      "outputs": []
    },
    {
      "cell_type": "code",
      "metadata": {
        "id": "BD4fwkQKsEHR",
        "colab_type": "code",
        "colab": {}
      },
      "source": [
        "def generate_next_generation(population, fitness, n_items, chance_of_mutate):\n",
        "    population_size = len(fitness)\n",
        "    new_population = [ get_solution(population,fitness) ]\n",
        "    while(len(new_population) < population_size):\n",
        "        (parent1, parent2) = selection(population,fitness)\n",
        "        new_population.append(mutate(crossover(parent1,parent2,n_items),n_items,chance_of_mutate))\n",
        "    return new_population"
      ],
      "execution_count": 0,
      "outputs": []
    },
    {
      "cell_type": "code",
      "metadata": {
        "id": "I9_h5UXzwJ3V",
        "colab_type": "code",
        "colab": {}
      },
      "source": [
        ""
      ],
      "execution_count": 0,
      "outputs": []
    },
    {
      "cell_type": "markdown",
      "metadata": {
        "id": "HxA5vd9mxJTW",
        "colab_type": "text"
      },
      "source": [
        "##**Тестирование**"
      ]
    },
    {
      "cell_type": "markdown",
      "metadata": {
        "id": "JXRp0aVZzLAg",
        "colab_type": "text"
      },
      "source": [
        "**На первом датасете:**"
      ]
    },
    {
      "cell_type": "code",
      "metadata": {
        "id": "Yq2IAt0vxugY",
        "colab_type": "code",
        "colab": {}
      },
      "source": [
        "Simple = []\n",
        "for test in range(0, 7):\n",
        "  Simple.append(np.mean(timeit.repeat(\"Simple_Heuristic(capacity[{0}], weights[{0}], costs[{0}])\".format(test), setup=\"from __main__ import Simple_Heuristic, capacity, weights, costs\", repeat = 100, number = 1)))"
      ],
      "execution_count": 0,
      "outputs": []
    },
    {
      "cell_type": "code",
      "metadata": {
        "id": "gma3TGKZ0K-S",
        "colab_type": "code",
        "colab": {}
      },
      "source": [
        "Dyn = []\n",
        "for test in range(0, 7):\n",
        "  Dyn.append(np.mean(timeit.repeat(\"Dynamic(capacity[{0}], weights[{0}], costs[{0}])\".format(test), setup=\"from __main__ import Dynamic, capacity, weights, costs\", repeat = 100, number = 1)))"
      ],
      "execution_count": 0,
      "outputs": []
    },
    {
      "cell_type": "code",
      "metadata": {
        "id": "2FU-ddPv0b-d",
        "colab_type": "code",
        "colab": {}
      },
      "source": [
        "Bnb = []\n",
        "for test in range(0, 7):\n",
        "  Bnb.append(np.mean(timeit.repeat(\"Branch_and_Bound(capacity[{0}], weights[{0}], costs[{0}]).run()\".format(test), setup=\"from __main__ import Branch_and_Bound, capacity, weights, costs\", repeat = 100, number = 1)))"
      ],
      "execution_count": 0,
      "outputs": []
    },
    {
      "cell_type": "code",
      "metadata": {
        "id": "KNb0dOBL2CKX",
        "colab_type": "code",
        "colab": {}
      },
      "source": [
        "Gen = []\n",
        "for test in range(0, 7):\n",
        "  Gen.append(np.mean(timeit.repeat(\"Genetic_Algorithm(capacity[{0}], weights[{0}], costs[{0}])\".format(test), setup=\"from __main__ import Genetic_Algorithm, capacity, weights, costs\", repeat = 100, number = 1)))"
      ],
      "execution_count": 0,
      "outputs": []
    },
    {
      "cell_type": "code",
      "metadata": {
        "id": "9DibH8p8xLya",
        "colab_type": "code",
        "colab": {
          "base_uri": "https://localhost:8080/",
          "height": 168
        },
        "outputId": "e4664bfd-5621-439a-d80d-1bca994efede"
      },
      "source": [
        "df = pd.DataFrame({\n",
        "'Алгоритм': ['Простая эвристика', 'Методом динамического программирования', 'Методом ветвей и границ', 'Генетическим алгоритмом'],\n",
        "'p01': [Simple[0], Dyn[0], Bnb[0], Gen[0]],\n",
        "'p02': [Simple[1], Dyn[1], Bnb[1], Gen[1]],\n",
        "'p03': [Simple[2], Dyn[2], Bnb[2], Gen[2]],\n",
        "'p04': [Simple[3], Dyn[3], Bnb[3], Gen[3]],\n",
        "'p05': [Simple[4], Dyn[4], Bnb[4], Gen[4]],\n",
        "'p06': [Simple[5], Dyn[5], Bnb[5], Gen[5]],\n",
        "'p07': [Simple[6], Dyn[6], Bnb[6], Gen[6]],\n",
        "'Среднее время по всему датасету': [np.mean(Simple), np.mean(Dyn),np.mean(Bnb), np.mean(Gen)]\n",
        "})\n",
        "df"
      ],
      "execution_count": 422,
      "outputs": [
        {
          "output_type": "execute_result",
          "data": {
            "text/html": [
              "<div>\n",
              "<style scoped>\n",
              "    .dataframe tbody tr th:only-of-type {\n",
              "        vertical-align: middle;\n",
              "    }\n",
              "\n",
              "    .dataframe tbody tr th {\n",
              "        vertical-align: top;\n",
              "    }\n",
              "\n",
              "    .dataframe thead th {\n",
              "        text-align: right;\n",
              "    }\n",
              "</style>\n",
              "<table border=\"1\" class=\"dataframe\">\n",
              "  <thead>\n",
              "    <tr style=\"text-align: right;\">\n",
              "      <th></th>\n",
              "      <th>Алгоритм</th>\n",
              "      <th>p01</th>\n",
              "      <th>p02</th>\n",
              "      <th>p03</th>\n",
              "      <th>p04</th>\n",
              "      <th>p05</th>\n",
              "      <th>p06</th>\n",
              "      <th>p07</th>\n",
              "      <th>Среднее время по всему датасету</th>\n",
              "    </tr>\n",
              "  </thead>\n",
              "  <tbody>\n",
              "    <tr>\n",
              "      <th>0</th>\n",
              "      <td>Простая эвристика</td>\n",
              "      <td>0.000025</td>\n",
              "      <td>0.000012</td>\n",
              "      <td>0.000012</td>\n",
              "      <td>0.000014</td>\n",
              "      <td>0.000016</td>\n",
              "      <td>0.000013</td>\n",
              "      <td>0.000025</td>\n",
              "      <td>0.000016</td>\n",
              "    </tr>\n",
              "    <tr>\n",
              "      <th>1</th>\n",
              "      <td>Методом динамического программирования</td>\n",
              "      <td>0.001814</td>\n",
              "      <td>0.000149</td>\n",
              "      <td>0.001310</td>\n",
              "      <td>0.000401</td>\n",
              "      <td>0.001002</td>\n",
              "      <td>0.001341</td>\n",
              "      <td>0.013956</td>\n",
              "      <td>0.002853</td>\n",
              "    </tr>\n",
              "    <tr>\n",
              "      <th>2</th>\n",
              "      <td>Методом ветвей и границ</td>\n",
              "      <td>0.036755</td>\n",
              "      <td>0.049931</td>\n",
              "      <td>0.040780</td>\n",
              "      <td>0.023326</td>\n",
              "      <td>0.057631</td>\n",
              "      <td>0.262671</td>\n",
              "      <td>4.292766</td>\n",
              "      <td>0.680551</td>\n",
              "    </tr>\n",
              "    <tr>\n",
              "      <th>3</th>\n",
              "      <td>Генетическим алгоритмом</td>\n",
              "      <td>0.467620</td>\n",
              "      <td>0.039761</td>\n",
              "      <td>0.054071</td>\n",
              "      <td>0.080719</td>\n",
              "      <td>0.392123</td>\n",
              "      <td>0.204887</td>\n",
              "      <td>2.460195</td>\n",
              "      <td>0.528482</td>\n",
              "    </tr>\n",
              "  </tbody>\n",
              "</table>\n",
              "</div>"
            ],
            "text/plain": [
              "                                 Алгоритм  ...  Среднее время по всему датасету\n",
              "0                       Простая эвристика  ...                         0.000016\n",
              "1  Методом динамического программирования  ...                         0.002853\n",
              "2                 Методом ветвей и границ  ...                         0.680551\n",
              "3                 Генетическим алгоритмом  ...                         0.528482\n",
              "\n",
              "[4 rows x 9 columns]"
            ]
          },
          "metadata": {
            "tags": []
          },
          "execution_count": 422
        }
      ]
    },
    {
      "cell_type": "markdown",
      "metadata": {
        "id": "T1gpiD9bAewA",
        "colab_type": "text"
      },
      "source": [
        "**Замечание 1: генетический может быстрее, но нужно уменьшить кол-во поколений или популяцию, что сильно сказывается на точности (или вручную настраивать)**\\\n",
        "**Замечание 2: простая эвристика быстрая, но туповатая, мало правильных ответов**"
      ]
    },
    {
      "cell_type": "markdown",
      "metadata": {
        "id": "kTaEL6W2Puk9",
        "colab_type": "text"
      },
      "source": [
        "![image.png](data:image/png;base64,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)"
      ]
    },
    {
      "cell_type": "markdown",
      "metadata": {
        "id": "oiT85P7d8sf-",
        "colab_type": "text"
      },
      "source": [
        "**На втором датасете**"
      ]
    },
    {
      "cell_type": "markdown",
      "metadata": {
        "id": "vOwe5PnzPJ6Y",
        "colab_type": "text"
      },
      "source": [
        "**low-dimensional**"
      ]
    },
    {
      "cell_type": "code",
      "metadata": {
        "id": "QaEdTGzcAvHy",
        "colab_type": "code",
        "colab": {
          "base_uri": "https://localhost:8080/",
          "height": 35
        },
        "outputId": "f5a58243-1adf-4ef5-afac-7758339059b2"
      },
      "source": [
        "cd /content/gdrive/'My Drive'/АИО/low-dimensional/"
      ],
      "execution_count": 17,
      "outputs": [
        {
          "output_type": "stream",
          "text": [
            "/content/gdrive/My Drive/АИО/low-dimensional\n"
          ],
          "name": "stdout"
        }
      ]
    },
    {
      "cell_type": "code",
      "metadata": {
        "id": "GsR8Ft42F6rI",
        "colab_type": "code",
        "colab": {}
      },
      "source": [
        "a=!ls -1 *.*\n",
        "new = []\n",
        "for i in range(0,10):\n",
        "  new.append(a[i][(a[i].find('kp_')+3):a[i].find('.')])\n",
        "capacity = []\n",
        "n_items = []\n",
        "for i in range(0,10):\n",
        "  n_items.append(int(new[i][0:new[i].find('_')]))\n",
        "  capacity.append(int(new[i][new[i].find('_')+1:len(new)]))\n",
        "costs = []\n",
        "weights = []\n",
        "for i in range(0,10):\n",
        "  costs.append(np.array(list(zip(*loadtxt(a[i], comments=\"#\", delimiter=\" \", unpack=False)))[0]).astype(int))\n",
        "  weights.append(np.array(list(zip(*loadtxt(a[i], comments=\"#\", delimiter=\" \", unpack=False)))[1]).astype(int))\n"
      ],
      "execution_count": 0,
      "outputs": []
    },
    {
      "cell_type": "code",
      "metadata": {
        "id": "twVTmTirKenz",
        "colab_type": "code",
        "colab": {
          "base_uri": "https://localhost:8080/",
          "height": 35
        },
        "outputId": "ef96e1fe-d1f8-4bc8-a4f5-54b84d2fe9d7"
      },
      "source": [
        "capacity"
      ],
      "execution_count": 17,
      "outputs": [
        {
          "output_type": "execute_result",
          "data": {
            "text/plain": [
              "[879, 269, 878, 20, 11, 375, 60, 50, 10000, 80]"
            ]
          },
          "metadata": {
            "tags": []
          },
          "execution_count": 17
        }
      ]
    },
    {
      "cell_type": "code",
      "metadata": {
        "id": "AxqYeiCZKZnV",
        "colab_type": "code",
        "colab": {
          "base_uri": "https://localhost:8080/",
          "height": 254
        },
        "outputId": "947e62b7-e0e4-405b-cf1a-9d0354d2e2ec"
      },
      "source": [
        "costs"
      ],
      "execution_count": 18,
      "outputs": [
        {
          "output_type": "execute_result",
          "data": {
            "text/plain": [
              "[array([20, 91, 72, 90, 46, 55,  8, 35, 75, 61, 15, 77, 40, 63, 75, 29, 75,\n",
              "        17, 78, 40, 44]),\n",
              " array([10, 55, 10, 47,  5,  4, 50,  8, 61, 85, 87]),\n",
              " array([20, 44, 46, 90, 72, 91, 40, 75, 35,  8, 54, 78, 40, 77, 15, 61, 17,\n",
              "        75, 29, 75, 63]),\n",
              " array([ 4,  9, 11, 13, 15]),\n",
              " array([ 4,  6, 10, 12, 13]),\n",
              " array([15,  0, 19, 58, 35, 82, 17, 71, 30,  9, 14, 98, 11,  0, 53, 60]),\n",
              " array([10, 20, 18, 17, 15, 15, 10,  5,  3,  1,  1]),\n",
              " array([ 7, 70, 20, 39, 37,  7,  5, 10]),\n",
              " array([ 23, 981, 980, 979, 978, 977, 976, 487, 974, 970, 485, 485, 970,\n",
              "        970, 484, 484, 976, 974, 482, 962, 961, 959, 958, 857]),\n",
              " array([ 5, 33, 24, 36, 37, 12])]"
            ]
          },
          "metadata": {
            "tags": []
          },
          "execution_count": 18
        }
      ]
    },
    {
      "cell_type": "code",
      "metadata": {
        "id": "OV-qIE-xKbdi",
        "colab_type": "code",
        "colab": {
          "base_uri": "https://localhost:8080/",
          "height": 290
        },
        "outputId": "c4872cac-fdaf-4b26-bd42-2282d38b0157"
      },
      "source": [
        "weights"
      ],
      "execution_count": 19,
      "outputs": [
        {
          "output_type": "execute_result",
          "data": {
            "text/plain": [
              "[array([879,  84,  83,  43,   4,  44,   6,  82,  92,  25,  83,  56,  18,\n",
              "         58,  14,  48,  70,  96,  32,  68,  92]),\n",
              " array([269,  95,   4,  60,  32,  23,  72,  80,  62,  65,  46]),\n",
              " array([878,  92,   4,  43,  83,  84,  68,  92,  82,   6,  44,  32,  18,\n",
              "         56,  83,  25,  96,  70,  48,  14,  58]),\n",
              " array([20,  6,  5,  9,  7]),\n",
              " array([11,  2,  4,  6,  7]),\n",
              " array([375,  56,  80,  47,  89,  74,  85,  51,   1,  36,  16,  44,   0,\n",
              "         37,  57,  60]),\n",
              " array([60, 30, 25, 20, 18, 17, 11,  5,  2,  1,  1]),\n",
              " array([50, 31, 10, 20, 19,  4,  3,  6]),\n",
              " array([10000,   983,   982,   981,   980,   979,   978,   488,   976,\n",
              "          972,   486,   486,   972,   972,   485,   485,   969,   966,\n",
              "          483,   964,   963,   961,   958,   959]),\n",
              " array([80, 15, 20, 17,  8, 31])]"
            ]
          },
          "metadata": {
            "tags": []
          },
          "execution_count": 19
        }
      ]
    },
    {
      "cell_type": "code",
      "metadata": {
        "colab_type": "code",
        "id": "msPlpeZ4KtUc",
        "colab": {}
      },
      "source": [
        "Simple = []\n",
        "for test in range(0, 10):\n",
        "  Simple.append(np.mean(timeit.repeat(\"Simple_Heuristic(capacity[{0}], weights[{0}], costs[{0}])\".format(test), setup=\"from __main__ import Simple_Heuristic, capacity, weights, costs\", repeat = 100, number = 1)))"
      ],
      "execution_count": 0,
      "outputs": []
    },
    {
      "cell_type": "code",
      "metadata": {
        "colab_type": "code",
        "id": "5rme2XoQKxAr",
        "colab": {}
      },
      "source": [
        "Dyn = []\n",
        "for test in range(0, 10):\n",
        "  Dyn.append(np.mean(timeit.repeat(\"Dynamic(capacity[{0}], weights[{0}], costs[{0}])\".format(test), setup=\"from __main__ import Dynamic, capacity, weights, costs\", repeat = 100, number = 1)))"
      ],
      "execution_count": 0,
      "outputs": []
    },
    {
      "cell_type": "code",
      "metadata": {
        "colab_type": "code",
        "id": "LfKKLET9K4HU",
        "colab": {}
      },
      "source": [
        "Bnb = []\n",
        "for test in range(0, 10):\n",
        "  Bnb.append(np.mean(timeit.repeat(\"Branch_and_Bound(capacity[{0}], weights[{0}], costs[{0}]).run()\".format(test), setup=\"from __main__ import Branch_and_Bound, capacity, weights, costs\", repeat = 1, number = 1)))"
      ],
      "execution_count": 0,
      "outputs": []
    },
    {
      "cell_type": "code",
      "metadata": {
        "colab_type": "code",
        "id": "WojFTyQ9K6fG",
        "colab": {}
      },
      "source": [
        "Gen = []\n",
        "for test in range(0, 10):\n",
        "  Gen.append(np.mean(timeit.repeat(\"Genetic_Algorithm(capacity[{0}], weights[{0}], costs[{0}])\".format(test), setup=\"from __main__ import Genetic_Algorithm, capacity, weights, costs\", repeat = 1, number = 1)))"
      ],
      "execution_count": 0,
      "outputs": []
    },
    {
      "cell_type": "code",
      "metadata": {
        "id": "SMjiguyuK9mM",
        "colab_type": "code",
        "colab": {
          "base_uri": "https://localhost:8080/",
          "height": 168
        },
        "outputId": "ca873d3c-5f25-4458-d2e2-6c18fdd1784a"
      },
      "source": [
        "df = pd.DataFrame({\n",
        "'Алгоритм': ['Простая эвристика', 'Методом динамического программирования', 'Методом ветвей и границ', 'Генетическим алгоритмом'],\n",
        "'p01': [Simple[0], Dyn[0], Bnb[0], Gen[0]],\n",
        "'p02': [Simple[1], Dyn[1], Bnb[1], Gen[1]],\n",
        "'p03': [Simple[2], Dyn[2], Bnb[2], Gen[2]],\n",
        "'p04': [Simple[3], Dyn[3], Bnb[3], Gen[3]],\n",
        "'p05': [Simple[4], Dyn[4], Bnb[4], Gen[4]],\n",
        "'p06': [Simple[5], Dyn[5], Bnb[5], Gen[5]],\n",
        "'p07': [Simple[6], Dyn[6], Bnb[6], Gen[6]],\n",
        "'p08': [Simple[7], Dyn[7], Bnb[7], Gen[7]],\n",
        "'p09': [Simple[8], Dyn[8], Bnb[8], Gen[8]],\n",
        "'p10': [Simple[9], Dyn[9], Bnb[9], Gen[9]],\n",
        "'Среднее время по всему датасету': [np.mean(Simple), np.mean(Dyn),np.mean(Bnb), np.mean(Gen)]\n",
        "})\n",
        "df"
      ],
      "execution_count": 23,
      "outputs": [
        {
          "output_type": "execute_result",
          "data": {
            "text/html": [
              "<div>\n",
              "<style scoped>\n",
              "    .dataframe tbody tr th:only-of-type {\n",
              "        vertical-align: middle;\n",
              "    }\n",
              "\n",
              "    .dataframe tbody tr th {\n",
              "        vertical-align: top;\n",
              "    }\n",
              "\n",
              "    .dataframe thead th {\n",
              "        text-align: right;\n",
              "    }\n",
              "</style>\n",
              "<table border=\"1\" class=\"dataframe\">\n",
              "  <thead>\n",
              "    <tr style=\"text-align: right;\">\n",
              "      <th></th>\n",
              "      <th>Алгоритм</th>\n",
              "      <th>p01</th>\n",
              "      <th>p02</th>\n",
              "      <th>p03</th>\n",
              "      <th>p04</th>\n",
              "      <th>p05</th>\n",
              "      <th>p06</th>\n",
              "      <th>p07</th>\n",
              "      <th>p08</th>\n",
              "      <th>p09</th>\n",
              "      <th>p10</th>\n",
              "      <th>Среднее время по всему датасету</th>\n",
              "    </tr>\n",
              "  </thead>\n",
              "  <tbody>\n",
              "    <tr>\n",
              "      <th>0</th>\n",
              "      <td>Простая эвристика</td>\n",
              "      <td>0.000041</td>\n",
              "      <td>0.000019</td>\n",
              "      <td>0.000035</td>\n",
              "      <td>0.000010</td>\n",
              "      <td>0.000010</td>\n",
              "      <td>0.000073</td>\n",
              "      <td>0.000021</td>\n",
              "      <td>0.000024</td>\n",
              "      <td>0.000035</td>\n",
              "      <td>0.000012</td>\n",
              "      <td>0.000028</td>\n",
              "    </tr>\n",
              "    <tr>\n",
              "      <th>1</th>\n",
              "      <td>Методом динамического программирования</td>\n",
              "      <td>0.022833</td>\n",
              "      <td>0.003143</td>\n",
              "      <td>0.022638</td>\n",
              "      <td>0.000107</td>\n",
              "      <td>0.000058</td>\n",
              "      <td>0.006811</td>\n",
              "      <td>0.000722</td>\n",
              "      <td>0.000414</td>\n",
              "      <td>0.287111</td>\n",
              "      <td>0.000671</td>\n",
              "      <td>0.034451</td>\n",
              "    </tr>\n",
              "    <tr>\n",
              "      <th>2</th>\n",
              "      <td>Методом ветвей и границ</td>\n",
              "      <td>0.330503</td>\n",
              "      <td>0.468741</td>\n",
              "      <td>0.260767</td>\n",
              "      <td>0.018554</td>\n",
              "      <td>0.042479</td>\n",
              "      <td>0.204865</td>\n",
              "      <td>0.112770</td>\n",
              "      <td>0.023522</td>\n",
              "      <td>10342.575863</td>\n",
              "      <td>0.024115</td>\n",
              "      <td>1034.406218</td>\n",
              "    </tr>\n",
              "    <tr>\n",
              "      <th>3</th>\n",
              "      <td>Генетическим алгоритмом</td>\n",
              "      <td>6.548808</td>\n",
              "      <td>0.977367</td>\n",
              "      <td>6.574647</td>\n",
              "      <td>0.024760</td>\n",
              "      <td>0.022350</td>\n",
              "      <td>2.891363</td>\n",
              "      <td>0.950954</td>\n",
              "      <td>0.122627</td>\n",
              "      <td>9.670046</td>\n",
              "      <td>0.042312</td>\n",
              "      <td>2.782524</td>\n",
              "    </tr>\n",
              "  </tbody>\n",
              "</table>\n",
              "</div>"
            ],
            "text/plain": [
              "                                 Алгоритм  ...  Среднее время по всему датасету\n",
              "0                       Простая эвристика  ...                         0.000028\n",
              "1  Методом динамического программирования  ...                         0.034451\n",
              "2                 Методом ветвей и границ  ...                      1034.406218\n",
              "3                 Генетическим алгоритмом  ...                         2.782524\n",
              "\n",
              "[4 rows x 12 columns]"
            ]
          },
          "metadata": {
            "tags": []
          },
          "execution_count": 23
        }
      ]
    },
    {
      "cell_type": "markdown",
      "metadata": {
        "id": "GOcbSjVGPNxj",
        "colab_type": "text"
      },
      "source": [
        "**large-scale**"
      ]
    },
    {
      "cell_type": "code",
      "metadata": {
        "id": "rmw2MsCZx4k3",
        "colab_type": "code",
        "colab": {
          "base_uri": "https://localhost:8080/",
          "height": 35
        },
        "outputId": "ac890499-6ad4-4a40-81ff-8caab1067cf3"
      },
      "source": [
        "cd /content/gdrive/'My Drive'/АИО/large_scale/"
      ],
      "execution_count": 16,
      "outputs": [
        {
          "output_type": "stream",
          "text": [
            "/content/gdrive/My Drive/АИО/large_scale\n"
          ],
          "name": "stdout"
        }
      ]
    },
    {
      "cell_type": "code",
      "metadata": {
        "id": "wcTUX3CcUCF9",
        "colab_type": "code",
        "colab": {}
      },
      "source": [
        "from itertools import chain"
      ],
      "execution_count": 0,
      "outputs": []
    },
    {
      "cell_type": "code",
      "metadata": {
        "id": "r5NbZI4jr8L7",
        "colab_type": "code",
        "colab": {
          "base_uri": "https://localhost:8080/",
          "height": 55
        },
        "outputId": "1e5b963b-995d-46ca-df2c-afb0d5ba1123"
      },
      "source": [
        "a=!ls -1 *.*\n",
        "new1 = []\n",
        "new2 = []\n",
        "new3 = []\n",
        "for i in range(0,7):\n",
        "  new1.append(a[i][(a[i].find('_1_')+3):a[i].find('.')])\n",
        "for i in range(7,14):\n",
        "  new2.append(a[i][(a[i].find('_2_')+3):a[i].find('.')])\n",
        "for i in range(14,21):\n",
        "  new3.append(a[i][(a[i].find('_3_')+3):a[i].find('.')])    \n",
        "capacity = []\n",
        "n_items = []\n",
        "a_list = [new1,new2,new3]\n",
        "new = list(chain(*a_list))\n",
        "print(new)\n",
        "for i in range(0,21):\n",
        "  n_items.append(int(new[i][0:new[i].find('_')]))\n",
        "  capacity.append(int(new[i][new[i].find('_')+1:len(new)]))\n",
        "costs = []\n",
        "weights = []\n",
        "for i in range(0,21):\n",
        "  costs.append(np.array(list(zip(*loadtxt(a[i], comments=\"#\", delimiter=\" \", unpack=False)))[0]).astype(int))\n",
        "  weights.append(np.array(list(zip(*loadtxt(a[i], comments=\"#\", delimiter=\" \", unpack=False)))[1]).astype(int))"
      ],
      "execution_count": 18,
      "outputs": [
        {
          "output_type": "stream",
          "text": [
            "['10000_1000', '1000_1000', '100_1000', '2000_1000', '200_1000', '5000_1000', '500_1000', '10000_1000', '1000_1000', '100_1000', '2000_1000', '200_1000', '5000_1000', '500_1000', '10000_1000', '1000_1000', '100_1000', '2000_1000', '200_1000', '5000_1000', '500_1000']\n"
          ],
          "name": "stdout"
        }
      ]
    },
    {
      "cell_type": "code",
      "metadata": {
        "id": "ZYtfXjPWUlR7",
        "colab_type": "code",
        "colab": {
          "base_uri": "https://localhost:8080/",
          "height": 35
        },
        "outputId": "8213e948-d7d2-4dae-9a99-1044435a968a"
      },
      "source": [
        "len(new)"
      ],
      "execution_count": 30,
      "outputs": [
        {
          "output_type": "execute_result",
          "data": {
            "text/plain": [
              "21"
            ]
          },
          "metadata": {
            "tags": []
          },
          "execution_count": 30
        }
      ]
    },
    {
      "cell_type": "code",
      "metadata": {
        "id": "lx7tl5WJxecq",
        "colab_type": "code",
        "colab": {}
      },
      "source": [
        "Simple = []\n",
        "for test in range(0, 21):\n",
        "  Simple.append(np.mean(timeit.repeat(\"Simple_Heuristic(capacity[{0}], weights[{0}], costs[{0}])\".format(test), setup=\"from __main__ import Simple_Heuristic, capacity, weights, costs\", repeat = 100, number = 1)))"
      ],
      "execution_count": 0,
      "outputs": []
    },
    {
      "cell_type": "code",
      "metadata": {
        "id": "QZNqxEYExfjg",
        "colab_type": "code",
        "colab": {}
      },
      "source": [
        "Dyn = []\n",
        "for test in range(0, 21):\n",
        "  Dyn.append(np.mean(timeit.repeat(\"Dynamic(capacity[{0}], weights[{0}], costs[{0}])\".format(test), setup=\"from __main__ import Dynamic, capacity, weights, costs\", repeat = 1, number = 1)))"
      ],
      "execution_count": 0,
      "outputs": []
    },
    {
      "cell_type": "code",
      "metadata": {
        "id": "pWFb6Ob_xfyF",
        "colab_type": "code",
        "colab": {}
      },
      "source": [
        "Bnb = []\n",
        "for test in range(0, 21):\n",
        "  Bnb.append(np.mean(timeit.repeat(\"Branch_and_Bound(capacity[{0}], weights[{0}], costs[{0}]).run()\".format(test), setup=\"from __main__ import Branch_and_Bound, capacity, weights, costs\", repeat = 1, number = 1)))"
      ],
      "execution_count": 0,
      "outputs": []
    },
    {
      "cell_type": "markdown",
      "metadata": {
        "id": "4Rkw99QrPkjf",
        "colab_type": "text"
      },
      "source": [
        "**4 часа спустя не дождался ничего от Bnb и генетического**"
      ]
    },
    {
      "cell_type": "code",
      "metadata": {
        "id": "O8KaBjCIxgG1",
        "colab_type": "code",
        "colab": {
          "base_uri": "https://localhost:8080/",
          "height": 35
        },
        "outputId": "5978c01c-c4ed-4758-a4f7-f7212f7685df"
      },
      "source": [
        "Gen = []\n",
        "for test in range(0, 21):\n",
        "  print(test)\n",
        "  Gen.append(np.mean(timeit.repeat(\"Genetic_Algorithm(capacity[{0}], weights[{0}], costs[{0}])\".format(test), setup=\"from __main__ import Genetic_Algorithm, capacity, weights, costs\", repeat = 1, number = 1)))"
      ],
      "execution_count": 0,
      "outputs": [
        {
          "output_type": "stream",
          "text": [
            "0\n"
          ],
          "name": "stdout"
        }
      ]
    },
    {
      "cell_type": "code",
      "metadata": {
        "id": "iA2yA_CaQTB4",
        "colab_type": "code",
        "colab": {}
      },
      "source": [
        "Bnb = [0]*21\n",
        "Gen = [0]*21"
      ],
      "execution_count": 0,
      "outputs": []
    },
    {
      "cell_type": "code",
      "metadata": {
        "id": "fHfv_nTGxgcu",
        "colab_type": "code",
        "colab": {
          "base_uri": "https://localhost:8080/",
          "height": 309
        },
        "outputId": "372f0c39-749d-4822-bc93-666c8f669818"
      },
      "source": [
        "df = pd.DataFrame({\n",
        "'Алгоритм': ['Простая эвристика', 'Методом динамического программирования', 'Методом ветвей и границ', 'Генетическим алгоритмом'],\n",
        "'p01': [Simple[0], Dyn[0], Bnb[0], Gen[0]],\n",
        "'p02': [Simple[1], Dyn[1], Bnb[1], Gen[1]],\n",
        "'p03': [Simple[2], Dyn[2], Bnb[2], Gen[2]],\n",
        "'p04': [Simple[3], Dyn[3], Bnb[3], Gen[3]],\n",
        "'p05': [Simple[4], Dyn[4], Bnb[4], Gen[4]],\n",
        "'p06': [Simple[5], Dyn[5], Bnb[5], Gen[5]],\n",
        "'p07': [Simple[6], Dyn[6], Bnb[6], Gen[6]],\n",
        "'p08': [Simple[7], Dyn[7], Bnb[7], Gen[7]],\n",
        "'p09': [Simple[8], Dyn[8], Bnb[8], Gen[8]],\n",
        "'p10': [Simple[9], Dyn[9], Bnb[9], Gen[9]],\n",
        "'p11': [Simple[10], Dyn[10], Bnb[10], Gen[10]],\n",
        "'p12': [Simple[11], Dyn[11], Bnb[11], Gen[11]],\n",
        "'p13': [Simple[12], Dyn[12], Bnb[12], Gen[12]],\n",
        "'p14': [Simple[13], Dyn[13], Bnb[13], Gen[13]],\n",
        "'p15': [Simple[14], Dyn[14], Bnb[14], Gen[14]],\n",
        "'p16': [Simple[15], Dyn[15], Bnb[15], Gen[15]],\n",
        "'p17': [Simple[16], Dyn[16], Bnb[16], Gen[16]],\n",
        "'p18': [Simple[17], Dyn[17], Bnb[17], Gen[17]],\n",
        "'p19': [Simple[18], Dyn[18], Bnb[18], Gen[18]],\n",
        "'p20': [Simple[19], Dyn[19], Bnb[19], Gen[19]],\n",
        "'p21': [Simple[20], Dyn[20], Bnb[20], Gen[20]],\n",
        "'Среднее время по всему датасету': [np.mean(Simple), np.mean(Dyn),np.mean(Bnb), np.mean(Gen)]\n",
        "})\n",
        "df"
      ],
      "execution_count": 41,
      "outputs": [
        {
          "output_type": "execute_result",
          "data": {
            "text/html": [
              "<div>\n",
              "<style scoped>\n",
              "    .dataframe tbody tr th:only-of-type {\n",
              "        vertical-align: middle;\n",
              "    }\n",
              "\n",
              "    .dataframe tbody tr th {\n",
              "        vertical-align: top;\n",
              "    }\n",
              "\n",
              "    .dataframe thead th {\n",
              "        text-align: right;\n",
              "    }\n",
              "</style>\n",
              "<table border=\"1\" class=\"dataframe\">\n",
              "  <thead>\n",
              "    <tr style=\"text-align: right;\">\n",
              "      <th></th>\n",
              "      <th>Алгоритм</th>\n",
              "      <th>p01</th>\n",
              "      <th>p02</th>\n",
              "      <th>p03</th>\n",
              "      <th>p04</th>\n",
              "      <th>p05</th>\n",
              "      <th>p06</th>\n",
              "      <th>p07</th>\n",
              "      <th>p08</th>\n",
              "      <th>p09</th>\n",
              "      <th>p10</th>\n",
              "      <th>p11</th>\n",
              "      <th>p12</th>\n",
              "      <th>p13</th>\n",
              "      <th>p14</th>\n",
              "      <th>p15</th>\n",
              "      <th>p16</th>\n",
              "      <th>p17</th>\n",
              "      <th>p18</th>\n",
              "      <th>p19</th>\n",
              "      <th>p20</th>\n",
              "      <th>p21</th>\n",
              "      <th>Среднее время по всему датасету</th>\n",
              "    </tr>\n",
              "  </thead>\n",
              "  <tbody>\n",
              "    <tr>\n",
              "      <th>0</th>\n",
              "      <td>Простая эвристика</td>\n",
              "      <td>0.017078</td>\n",
              "      <td>0.001440</td>\n",
              "      <td>0.000137</td>\n",
              "      <td>0.002982</td>\n",
              "      <td>0.000272</td>\n",
              "      <td>0.004488</td>\n",
              "      <td>0.000704</td>\n",
              "      <td>0.013406</td>\n",
              "      <td>0.001496</td>\n",
              "      <td>0.000140</td>\n",
              "      <td>0.003120</td>\n",
              "      <td>0.000269</td>\n",
              "      <td>0.004460</td>\n",
              "      <td>0.000704</td>\n",
              "      <td>0.016561</td>\n",
              "      <td>0.001432</td>\n",
              "      <td>0.00014</td>\n",
              "      <td>0.003005</td>\n",
              "      <td>0.000283</td>\n",
              "      <td>0.007661</td>\n",
              "      <td>0.000711</td>\n",
              "      <td>0.003833</td>\n",
              "    </tr>\n",
              "    <tr>\n",
              "      <th>1</th>\n",
              "      <td>Методом динамического программирования</td>\n",
              "      <td>9.580529</td>\n",
              "      <td>0.942798</td>\n",
              "      <td>0.087434</td>\n",
              "      <td>1.882105</td>\n",
              "      <td>0.173824</td>\n",
              "      <td>4.752416</td>\n",
              "      <td>0.444821</td>\n",
              "      <td>9.920464</td>\n",
              "      <td>0.942228</td>\n",
              "      <td>0.087235</td>\n",
              "      <td>1.912326</td>\n",
              "      <td>0.177434</td>\n",
              "      <td>4.761977</td>\n",
              "      <td>0.462939</td>\n",
              "      <td>9.595698</td>\n",
              "      <td>0.937844</td>\n",
              "      <td>0.08598</td>\n",
              "      <td>1.936294</td>\n",
              "      <td>0.186412</td>\n",
              "      <td>4.824831</td>\n",
              "      <td>0.470051</td>\n",
              "      <td>2.579316</td>\n",
              "    </tr>\n",
              "    <tr>\n",
              "      <th>2</th>\n",
              "      <td>Методом ветвей и границ</td>\n",
              "      <td>0.000000</td>\n",
              "      <td>0.000000</td>\n",
              "      <td>0.000000</td>\n",
              "      <td>0.000000</td>\n",
              "      <td>0.000000</td>\n",
              "      <td>0.000000</td>\n",
              "      <td>0.000000</td>\n",
              "      <td>0.000000</td>\n",
              "      <td>0.000000</td>\n",
              "      <td>0.000000</td>\n",
              "      <td>0.000000</td>\n",
              "      <td>0.000000</td>\n",
              "      <td>0.000000</td>\n",
              "      <td>0.000000</td>\n",
              "      <td>0.000000</td>\n",
              "      <td>0.000000</td>\n",
              "      <td>0.00000</td>\n",
              "      <td>0.000000</td>\n",
              "      <td>0.000000</td>\n",
              "      <td>0.000000</td>\n",
              "      <td>0.000000</td>\n",
              "      <td>0.000000</td>\n",
              "    </tr>\n",
              "    <tr>\n",
              "      <th>3</th>\n",
              "      <td>Генетическим алгоритмом</td>\n",
              "      <td>0.000000</td>\n",
              "      <td>0.000000</td>\n",
              "      <td>0.000000</td>\n",
              "      <td>0.000000</td>\n",
              "      <td>0.000000</td>\n",
              "      <td>0.000000</td>\n",
              "      <td>0.000000</td>\n",
              "      <td>0.000000</td>\n",
              "      <td>0.000000</td>\n",
              "      <td>0.000000</td>\n",
              "      <td>0.000000</td>\n",
              "      <td>0.000000</td>\n",
              "      <td>0.000000</td>\n",
              "      <td>0.000000</td>\n",
              "      <td>0.000000</td>\n",
              "      <td>0.000000</td>\n",
              "      <td>0.00000</td>\n",
              "      <td>0.000000</td>\n",
              "      <td>0.000000</td>\n",
              "      <td>0.000000</td>\n",
              "      <td>0.000000</td>\n",
              "      <td>0.000000</td>\n",
              "    </tr>\n",
              "  </tbody>\n",
              "</table>\n",
              "</div>"
            ],
            "text/plain": [
              "                                 Алгоритм  ...  Среднее время по всему датасету\n",
              "0                       Простая эвристика  ...                         0.003833\n",
              "1  Методом динамического программирования  ...                         2.579316\n",
              "2                 Методом ветвей и границ  ...                         0.000000\n",
              "3                 Генетическим алгоритмом  ...                         0.000000\n",
              "\n",
              "[4 rows x 23 columns]"
            ]
          },
          "metadata": {
            "tags": []
          },
          "execution_count": 41
        }
      ]
    },
    {
      "cell_type": "markdown",
      "metadata": {
        "id": "IHAcLSGur8pL",
        "colab_type": "text"
      },
      "source": [
        " ![alt text](https://i.gifer.com/7KJ.gif)\n",
        "\n",
        "\n"
      ]
    }
  ]
}