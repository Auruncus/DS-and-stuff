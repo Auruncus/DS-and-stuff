{
  "nbformat": 4,
  "nbformat_minor": 0,
  "metadata": {
    "colab": {
      "name": "АИО Лаб. 1 Максимов Антон.ipynb",
      "provenance": []
    },
    "kernelspec": {
      "name": "python3",
      "display_name": "Python 3"
    }
  },
  "cells": [
    {
      "cell_type": "markdown",
      "metadata": {
        "id": "gI_SDnp-sTtu",
        "colab_type": "text"
      },
      "source": [
        "#**АИС. Лабораторная работа №1**"
      ]
    },
    {
      "cell_type": "markdown",
      "metadata": {
        "id": "QPSGkmuEsYqR",
        "colab_type": "text"
      },
      "source": [
        "**Максимов Антон, 17ПМИ**"
      ]
    },
    {
      "cell_type": "code",
      "metadata": {
        "id": "A2XXyLjWsTDP",
        "colab_type": "code",
        "colab": {}
      },
      "source": [
        "import numpy as np \n",
        "import pandas as pd\n",
        "import matplotlib.pyplot as plt"
      ],
      "execution_count": 0,
      "outputs": []
    },
    {
      "cell_type": "code",
      "metadata": {
        "id": "5KRLqItPWXPi",
        "colab_type": "code",
        "outputId": "7d6f8a3e-819d-4fda-de38-450a3d2d069c",
        "colab": {
          "base_uri": "https://localhost:8080/",
          "height": 35
        }
      },
      "source": [
        "from google.colab import drive\n",
        "drive.mount('/content/gdrive')"
      ],
      "execution_count": 60,
      "outputs": [
        {
          "output_type": "stream",
          "text": [
            "Drive already mounted at /content/gdrive; to attempt to forcibly remount, call drive.mount(\"/content/gdrive\", force_remount=True).\n"
          ],
          "name": "stdout"
        }
      ]
    },
    {
      "cell_type": "code",
      "metadata": {
        "id": "eAh5i4NQspLC",
        "colab_type": "code",
        "outputId": "a731ac69-c83c-4c75-e84a-3925a1bb7646",
        "colab": {
          "base_uri": "https://localhost:8080/",
          "height": 35
        }
      },
      "source": [
        "cd /content/gdrive/'My Drive'/АИО/benchmarks/"
      ],
      "execution_count": 4,
      "outputs": [
        {
          "output_type": "stream",
          "text": [
            "/content/gdrive/My Drive/АИО/benchmarks\n"
          ],
          "name": "stdout"
        }
      ]
    },
    {
      "cell_type": "code",
      "metadata": {
        "id": "LpBgfF71uuxj",
        "colab_type": "code",
        "colab": {}
      },
      "source": [
        "a=!ls -1  *.*\n",
        "bad_t = []\n",
        "bad_w = []\n",
        "good_t = []\n",
        "good_w = []\n",
        "for i in range(0,4):\n",
        "  with open(a[i]) as f:\n",
        "    bad_t.append(f.read())\n",
        "for i in range(4,8):\n",
        "  with open(a[i]) as f:\n",
        "    bad_w.append(f.read())\n",
        "for i in range(8,12):\n",
        "  with open(a[i]) as f:\n",
        "    good_t.append(f.read())\n",
        "for i in range(12,16):\n",
        "  with open(a[i]) as f:\n",
        "    good_w.append(f.read())          "
      ],
      "execution_count": 0,
      "outputs": []
    },
    {
      "cell_type": "code",
      "metadata": {
        "id": "_hnFC4oowFFb",
        "colab_type": "code",
        "colab": {}
      },
      "source": [
        "print(bad_t)\n",
        "print(bad_w)\n",
        "print(good_t)\n",
        "print(good_w)"
      ],
      "execution_count": 0,
      "outputs": []
    },
    {
      "cell_type": "markdown",
      "metadata": {
        "id": "qt-eFrOWw2KA",
        "colab_type": "text"
      },
      "source": [
        "##**Наивный алгоритм**"
      ]
    },
    {
      "cell_type": "code",
      "metadata": {
        "id": "_nO3O2Esw1oj",
        "colab_type": "code",
        "colab": {}
      },
      "source": [
        "def Naive(string, pattern):\n",
        "    counter = 0\n",
        "    N = len(string)\n",
        "    M = len(pattern)\n",
        "    index = []\n",
        "    for i in range(N - M + 1):\n",
        "      for j in range(M):\n",
        "        counter+=1\n",
        "        if string[i + j] != pattern[j]:\n",
        "          break\n",
        "        counter+=1  \n",
        "        if j == (M - 1):  \n",
        "          index.append(i)\n",
        "          return index, counter \n",
        "    return index, counter "
      ],
      "execution_count": 0,
      "outputs": []
    },
    {
      "cell_type": "code",
      "metadata": {
        "id": "bU3zmwK1RndM",
        "colab_type": "code",
        "outputId": "f8d73719-5bd7-4ede-d68a-89b9c6d38e6a",
        "colab": {
          "base_uri": "https://localhost:8080/",
          "height": 35
        }
      },
      "source": [
        "Naive(good_t[0], good_w[0])"
      ],
      "execution_count": 370,
      "outputs": [
        {
          "output_type": "execute_result",
          "data": {
            "text/plain": [
              "([599], 667)"
            ]
          },
          "metadata": {
            "tags": []
          },
          "execution_count": 370
        }
      ]
    },
    {
      "cell_type": "markdown",
      "metadata": {
        "id": "rIwNEivDw9YO",
        "colab_type": "text"
      },
      "source": [
        "##**Алгоритм Рабина-Карпа**"
      ]
    },
    {
      "cell_type": "code",
      "metadata": {
        "id": "VyE5Yg4zWkv3",
        "colab_type": "code",
        "colab": {}
      },
      "source": [
        "def RabinKarp(string, pattern, prime = 9901, base = 256):\n",
        "    N = len(string)\n",
        "    M = len(pattern)\n",
        "    counter = 0\n",
        "    hash_pattern = 0\n",
        "    hash_string = 0\n",
        "    h = pow(base, M-1) % prime\n",
        "    index = []\n",
        "    for i in range(M):\n",
        "      hash_pattern = (base * hash_pattern + ord(pattern[i])) % prime\n",
        "      hash_string = (base * hash_string + ord(string[i])) % prime\n",
        "\n",
        "    for i in range(N - M + 1):\n",
        "      counter+= 1\n",
        "      if hash_pattern == hash_string:\n",
        "        counter+= 1\n",
        "        if string[i:i + M] == pattern:\n",
        "          index.append(i)\n",
        "          return index, counter\n",
        "      counter+= 1    \n",
        "      if i < N - M:\n",
        "        hash_string = (base * (hash_string - ord(string[i]) * h) + ord(string[i+M])) % prime \n",
        "    return index, counter      "
      ],
      "execution_count": 0,
      "outputs": []
    },
    {
      "cell_type": "code",
      "metadata": {
        "id": "zlh9hFwwKUGw",
        "colab_type": "code",
        "outputId": "4b5e7929-ad01-4a0d-cf02-c8d4e9eef1b9",
        "colab": {
          "base_uri": "https://localhost:8080/",
          "height": 35
        }
      },
      "source": [
        "RabinKarp(good_t[0], good_w[0])"
      ],
      "execution_count": 360,
      "outputs": [
        {
          "output_type": "execute_result",
          "data": {
            "text/plain": [
              "([599], 1200)"
            ]
          },
          "metadata": {
            "tags": []
          },
          "execution_count": 360
        }
      ]
    },
    {
      "cell_type": "markdown",
      "metadata": {
        "id": "FAdS15n-xHC3",
        "colab_type": "text"
      },
      "source": [
        "##**Алгоритм Бойера-Мура-Хорспула**"
      ]
    },
    {
      "cell_type": "code",
      "metadata": {
        "id": "XvOXjR4Ot2SB",
        "colab_type": "code",
        "colab": {}
      },
      "source": [
        "def build_table(pattern):\n",
        "  table = {}\n",
        "  n = len(pattern)\n",
        "  for i in range(n - 1):\n",
        "    table[pattern[i]] = n - i - 1\n",
        "  return table"
      ],
      "execution_count": 0,
      "outputs": []
    },
    {
      "cell_type": "code",
      "metadata": {
        "id": "avP3W4KaxFn_",
        "colab_type": "code",
        "colab": {}
      },
      "source": [
        "def BMX(string, pattern):\n",
        "  counter = 0\n",
        "  table = build_table(pattern)\n",
        "  N = len(string)\n",
        "  M = len(pattern)\n",
        "  i = M - 1\n",
        "  index = []\n",
        "\n",
        "  while i < N and len(index)==0:\n",
        "    counter+=1\n",
        "    j = 0\n",
        "    while j < M:\n",
        "      counter+=1\n",
        "      if string[i - j] != pattern[M - j -1]:\n",
        "        break\n",
        "      j+=1\n",
        "    counter+=1  \n",
        "    if j == M:\n",
        "      index.append(i - j + 1)\n",
        "     \n",
        "    elif j!=0:\n",
        "      counter+=1 \n",
        "      i+=1\n",
        "    else:\n",
        "      shift = table.get(string[i - j], M) #или сдвиг по таблице или по длине паттерна\n",
        "      i += shift  \n",
        "\n",
        "  return index , counter     "
      ],
      "execution_count": 0,
      "outputs": []
    },
    {
      "cell_type": "code",
      "metadata": {
        "id": "9wCNzBEWxUPs",
        "colab_type": "code",
        "colab": {
          "base_uri": "https://localhost:8080/",
          "height": 35
        },
        "outputId": "91d71855-2f00-4ec3-cff3-4b6b1848f37c"
      },
      "source": [
        "BMX(good_t[0], good_w[0])"
      ],
      "execution_count": 368,
      "outputs": [
        {
          "output_type": "execute_result",
          "data": {
            "text/plain": [
              "([599], 186)"
            ]
          },
          "metadata": {
            "tags": []
          },
          "execution_count": 368
        }
      ]
    },
    {
      "cell_type": "markdown",
      "metadata": {
        "id": "po8I-x5JxTdb",
        "colab_type": "text"
      },
      "source": [
        "##**Алгоритм Кнутта-Мориса-Пратта**"
      ]
    },
    {
      "cell_type": "code",
      "metadata": {
        "id": "3z_kUZSxkAPk",
        "colab_type": "code",
        "colab": {}
      },
      "source": [
        "def FoundPrefix(string):\n",
        "  counter=0\n",
        "  n = len(string)\n",
        "  pi = [0] * n\n",
        "  for i in range(1, n):\n",
        "    k = pi[i - 1]\n",
        "    while k > 0 and string[k] != string[i]:\n",
        "      counter+=1 \n",
        "      k = pi[k - 1]\n",
        "    counter+=1   \n",
        "    if string[k] == string[i]:\n",
        "      k += 1\n",
        "    pi[i] = k  \n",
        "  return pi, counter\n",
        "\n",
        "def KMP(string, pattern):\n",
        "  index = []\n",
        "  c =0\n",
        "  k = 0\n",
        "  n = len(pattern)\n",
        "  F, counter = FoundPrefix(pattern)\n",
        "  c+=counter\n",
        "  for i in range(0, len(string)):\n",
        "    while k > 0 and pattern[k] != string[i]:\n",
        "      c+=1\n",
        "      k = F[k-1]\n",
        "    c+=1  \n",
        "    if pattern[k] == string[i]:\n",
        "      k += 1\n",
        "    c+=1  \n",
        "    if k == n:\n",
        "      index.append(i - k + 1)\n",
        "      return index,c\n",
        "      k = F[k - 1]\n",
        "  return index,c"
      ],
      "execution_count": 0,
      "outputs": []
    },
    {
      "cell_type": "code",
      "metadata": {
        "id": "mm9ufGbxiWrl",
        "colab_type": "code",
        "colab": {
          "base_uri": "https://localhost:8080/",
          "height": 35
        },
        "outputId": "edaf3153-0596-4e0c-8ff7-f9a809df1984"
      },
      "source": [
        "KMP(good_t[0], good_w[0])"
      ],
      "execution_count": 365,
      "outputs": [
        {
          "output_type": "execute_result",
          "data": {
            "text/plain": [
              "([599], 1266)"
            ]
          },
          "metadata": {
            "tags": []
          },
          "execution_count": 365
        }
      ]
    },
    {
      "cell_type": "markdown",
      "metadata": {
        "id": "z0d53J6iFhet",
        "colab_type": "text"
      },
      "source": [
        "##**Тестирование**"
      ]
    },
    {
      "cell_type": "code",
      "metadata": {
        "id": "sO8v6dDyFlr4",
        "colab_type": "code",
        "colab": {}
      },
      "source": [
        "import timeit"
      ],
      "execution_count": 0,
      "outputs": []
    },
    {
      "cell_type": "markdown",
      "metadata": {
        "id": "rv0c5R6TRCyR",
        "colab_type": "text"
      },
      "source": [
        "**Будем прогонять алгоритмы по каждому примеру 100 раз, замерим общее время**"
      ]
    },
    {
      "cell_type": "markdown",
      "metadata": {
        "id": "E4Jb-MrYRp0F",
        "colab_type": "text"
      },
      "source": [
        "**Далее повторим это 100 раз и вычислим среднее, то есть получим общее среднее выполнение алгоритма 10000 раз**"
      ]
    },
    {
      "cell_type": "markdown",
      "metadata": {
        "id": "9gsq94TIFwJZ",
        "colab_type": "text"
      },
      "source": [
        "###**good**"
      ]
    },
    {
      "cell_type": "code",
      "metadata": {
        "id": "RUxCh8CvTQIt",
        "colab_type": "code",
        "colab": {}
      },
      "source": [
        "good_Naive = []\n",
        "for test in range(0, 4):\n",
        "  good_Naive.append(np.mean(timeit.repeat(\"Naive(good_t[{0}], good_w[{0}])\".format(test), setup=\"from __main__ import Naive, good_t, good_w\", repeat = 100, number = 100)))"
      ],
      "execution_count": 0,
      "outputs": []
    },
    {
      "cell_type": "code",
      "metadata": {
        "id": "fMRI8zaUTwiC",
        "colab_type": "code",
        "colab": {}
      },
      "source": [
        "good_RabinKarp = []\n",
        "for test in range(0, 4):\n",
        "  good_RabinKarp.append(np.mean(timeit.repeat(\"RabinKarp(good_t[{0}], good_w[{0}])\".format(test), setup=\"from __main__ import RabinKarp, good_t, good_w\", repeat = 100, number = 100)))"
      ],
      "execution_count": 0,
      "outputs": []
    },
    {
      "cell_type": "code",
      "metadata": {
        "id": "cBHY1gTYWCKK",
        "colab_type": "code",
        "colab": {}
      },
      "source": [
        "good_BMX = []\n",
        "for test in range(0, 4):\n",
        "  good_BMX.append(np.mean(timeit.repeat(\"BMX(good_t[{0}], good_w[{0}])\".format(test), setup=\"from __main__ import BMX, good_t, good_w\", repeat = 100, number = 100)))"
      ],
      "execution_count": 0,
      "outputs": []
    },
    {
      "cell_type": "code",
      "metadata": {
        "id": "_Ua7HzEyKBdT",
        "colab_type": "code",
        "colab": {}
      },
      "source": [
        "good_KMP = []\n",
        "for test in range(0, 4):\n",
        "  good_KMP.append(np.mean(timeit.repeat(\"KMP(good_t[{0}], good_w[{0}])\".format(test), setup=\"from __main__ import KMP, good_t, good_w\", repeat = 100, number = 100)))"
      ],
      "execution_count": 0,
      "outputs": []
    },
    {
      "cell_type": "markdown",
      "metadata": {
        "id": "XvvGnQYoFqIB",
        "colab_type": "text"
      },
      "source": [
        "###**bad**"
      ]
    },
    {
      "cell_type": "code",
      "metadata": {
        "id": "2AX5giJlFpgH",
        "colab_type": "code",
        "colab": {}
      },
      "source": [
        "bad_Naive = []\n",
        "for test in range(0, 4):\n",
        "  bad_Naive.append(np.mean(timeit.repeat(\"Naive(bad_t[{0}], bad_w[{0}])\".format(test), setup=\"from __main__ import Naive, bad_t, bad_w\", repeat = 100, number = 100)))"
      ],
      "execution_count": 0,
      "outputs": []
    },
    {
      "cell_type": "code",
      "metadata": {
        "id": "z1JXdcSHXIql",
        "colab_type": "code",
        "colab": {}
      },
      "source": [
        "bad_RabinKarp = []\n",
        "for test in range(0, 4):\n",
        "  bad_RabinKarp.append(np.mean(timeit.repeat(\"RabinKarp(bad_t[{0}], bad_w[{0}])\".format(test), setup=\"from __main__ import RabinKarp, bad_t, bad_w\", repeat = 100, number = 100)))"
      ],
      "execution_count": 0,
      "outputs": []
    },
    {
      "cell_type": "code",
      "metadata": {
        "id": "38ERKLApXgRA",
        "colab_type": "code",
        "colab": {}
      },
      "source": [
        "bad_BMX = []\n",
        "for test in range(0, 4):\n",
        "  bad_BMX.append(np.mean(timeit.repeat(\"BMX(bad_t[{0}], bad_w[{0}])\".format(test), setup=\"from __main__ import BMX, bad_t, bad_w\", repeat = 100, number = 100)))"
      ],
      "execution_count": 0,
      "outputs": []
    },
    {
      "cell_type": "code",
      "metadata": {
        "id": "pIolxKXNXpcz",
        "colab_type": "code",
        "colab": {}
      },
      "source": [
        "bad_KMP = []\n",
        "for test in range(0, 4):\n",
        "  bad_KMP.append(np.mean(timeit.repeat(\"KMP(bad_t[{0}], bad_w[{0}])\".format(test), setup=\"from __main__ import KMP, bad_t, bad_w\", repeat = 100, number = 100)))"
      ],
      "execution_count": 0,
      "outputs": []
    },
    {
      "cell_type": "markdown",
      "metadata": {
        "id": "lw4cL24PXrl9",
        "colab_type": "text"
      },
      "source": [
        "**Общая таблица**"
      ]
    },
    {
      "cell_type": "code",
      "metadata": {
        "id": "6oq6-sphXrCu",
        "colab_type": "code",
        "colab": {
          "base_uri": "https://localhost:8080/",
          "height": 168
        },
        "outputId": "91f0105c-d7ad-4d80-8cd4-36ed347c4493"
      },
      "source": [
        "df = pd.DataFrame({\n",
        "'Алгоритм': ['Наивный', 'Рабина-Карпа', 'Бойера-Мура-Хорспула', 'Кнута-Морриса-Пратта'],\n",
        "'good_1': [good_Naive[0], good_RabinKarp[0], good_BMX[0], good_KMP[0]],\n",
        "'good_2': [good_Naive[1], good_RabinKarp[1], good_BMX[1], good_KMP[1]],\n",
        "'good_3': [good_Naive[2], good_RabinKarp[2], good_BMX[2], good_KMP[2]],\n",
        "'good_4': [good_Naive[3], good_RabinKarp[3], good_BMX[3], good_KMP[3]],\n",
        "'bad_1': [bad_Naive[0], bad_RabinKarp[0], bad_BMX[0], bad_KMP[0]],\n",
        "'bad_2': [bad_Naive[1], bad_RabinKarp[1], bad_BMX[1], bad_KMP[1]],\n",
        "'bad_3': [bad_Naive[2], bad_RabinKarp[2], bad_BMX[2], bad_KMP[2]],\n",
        "'bad_4': [bad_Naive[3], bad_RabinKarp[3], bad_BMX[3], bad_KMP[3]],\n",
        "'Среднее время по всем тестам': [np.mean(good_Naive+bad_Naive), np.mean(good_RabinKarp+bad_RabinKarp),np.mean(good_BMX+bad_BMX), np.mean(good_KMP+bad_KMP)]\n",
        "})\n",
        "df"
      ],
      "execution_count": 336,
      "outputs": [
        {
          "output_type": "execute_result",
          "data": {
            "text/html": [
              "<div>\n",
              "<style scoped>\n",
              "    .dataframe tbody tr th:only-of-type {\n",
              "        vertical-align: middle;\n",
              "    }\n",
              "\n",
              "    .dataframe tbody tr th {\n",
              "        vertical-align: top;\n",
              "    }\n",
              "\n",
              "    .dataframe thead th {\n",
              "        text-align: right;\n",
              "    }\n",
              "</style>\n",
              "<table border=\"1\" class=\"dataframe\">\n",
              "  <thead>\n",
              "    <tr style=\"text-align: right;\">\n",
              "      <th></th>\n",
              "      <th>Алгоритм</th>\n",
              "      <th>good_1</th>\n",
              "      <th>good_2</th>\n",
              "      <th>good_3</th>\n",
              "      <th>good_4</th>\n",
              "      <th>bad_1</th>\n",
              "      <th>bad_2</th>\n",
              "      <th>bad_3</th>\n",
              "      <th>bad_4</th>\n",
              "      <th>Среднее время по всем тестам</th>\n",
              "    </tr>\n",
              "  </thead>\n",
              "  <tbody>\n",
              "    <tr>\n",
              "      <th>0</th>\n",
              "      <td>Наивный</td>\n",
              "      <td>0.022607</td>\n",
              "      <td>0.023079</td>\n",
              "      <td>0.076625</td>\n",
              "      <td>0.351287</td>\n",
              "      <td>0.000483</td>\n",
              "      <td>0.011852</td>\n",
              "      <td>1.089112</td>\n",
              "      <td>56.853518</td>\n",
              "      <td>7.303570</td>\n",
              "    </tr>\n",
              "    <tr>\n",
              "      <th>1</th>\n",
              "      <td>Рабина-Карпа</td>\n",
              "      <td>0.026897</td>\n",
              "      <td>0.033302</td>\n",
              "      <td>0.102221</td>\n",
              "      <td>0.512135</td>\n",
              "      <td>0.000553</td>\n",
              "      <td>0.003664</td>\n",
              "      <td>0.035869</td>\n",
              "      <td>0.179306</td>\n",
              "      <td>0.111743</td>\n",
              "    </tr>\n",
              "    <tr>\n",
              "      <th>2</th>\n",
              "      <td>Бойера-Мура-Хорспула</td>\n",
              "      <td>0.003569</td>\n",
              "      <td>0.003917</td>\n",
              "      <td>0.015689</td>\n",
              "      <td>0.024040</td>\n",
              "      <td>0.000533</td>\n",
              "      <td>0.003812</td>\n",
              "      <td>0.040024</td>\n",
              "      <td>0.207119</td>\n",
              "      <td>0.037338</td>\n",
              "    </tr>\n",
              "    <tr>\n",
              "      <th>3</th>\n",
              "      <td>Кнута-Морриса-Пратта</td>\n",
              "      <td>0.011423</td>\n",
              "      <td>0.014153</td>\n",
              "      <td>0.048324</td>\n",
              "      <td>0.172341</td>\n",
              "      <td>0.000449</td>\n",
              "      <td>0.003205</td>\n",
              "      <td>0.032170</td>\n",
              "      <td>0.187175</td>\n",
              "      <td>0.058655</td>\n",
              "    </tr>\n",
              "  </tbody>\n",
              "</table>\n",
              "</div>"
            ],
            "text/plain": [
              "               Алгоритм    good_1  ...      bad_4  Среднее время по всем тестам\n",
              "0               Наивный  0.022607  ...  56.853518                      7.303570\n",
              "1          Рабина-Карпа  0.026897  ...   0.179306                      0.111743\n",
              "2  Бойера-Мура-Хорспула  0.003569  ...   0.207119                      0.037338\n",
              "3  Кнута-Морриса-Пратта  0.011423  ...   0.187175                      0.058655\n",
              "\n",
              "[4 rows x 10 columns]"
            ]
          },
          "metadata": {
            "tags": []
          },
          "execution_count": 336
        }
      ]
    },
    {
      "cell_type": "markdown",
      "metadata": {
        "id": "FCbef-cjQiHp",
        "colab_type": "text"
      },
      "source": [
        "**Количество операций сравнения**"
      ]
    },
    {
      "cell_type": "code",
      "metadata": {
        "id": "A2s0YySMM5bj",
        "colab_type": "code",
        "colab": {}
      },
      "source": [
        "good_Naive = []\n",
        "good_RabinKarp = []\n",
        "good_BMX = []\n",
        "good_KMP = []\n",
        "bad_Naive = []\n",
        "bad_RabinKarp = []\n",
        "bad_BMX = []\n",
        "bad_KMP = []\n",
        "\n",
        "for i in range(0, 4):\n",
        "  good_Naive.append(Naive(good_t[i], good_w[i])[1])\n",
        "  bad_Naive.append(Naive(bad_t[i], bad_w[i])[1])\n",
        "  good_RabinKarp.append(RabinKarp(good_t[i], good_w[i])[1])\n",
        "  bad_RabinKarp.append(RabinKarp(bad_t[i], bad_w[i])[1])\n",
        "  good_BMX.append(BMX(good_t[i], good_w[i])[1])\n",
        "  bad_BMX.append(BMX(bad_t[i], bad_w[i])[1])\n",
        "  good_KMP.append(KMP(good_t[i], good_w[i])[1])\n",
        "  bad_KMP.append(KMP(bad_t[i], bad_w[i])[1])"
      ],
      "execution_count": 0,
      "outputs": []
    },
    {
      "cell_type": "code",
      "metadata": {
        "id": "wvIn2ps6TRHk",
        "colab_type": "code",
        "colab": {
          "base_uri": "https://localhost:8080/",
          "height": 168
        },
        "outputId": "7fa5fc07-0b4e-4a46-f197-135070c2835d"
      },
      "source": [
        "df = pd.DataFrame({\n",
        "'Алгоритм': ['Наивный', 'Рабина-Карпа', 'Бойера-Мура-Хорспула', 'Кнута-Морриса-Пратта'],\n",
        "'good_1': [good_Naive[0], good_RabinKarp[0], good_BMX[0], good_KMP[0]],\n",
        "'good_2': [good_Naive[1], good_RabinKarp[1], good_BMX[1], good_KMP[1]],\n",
        "'good_3': [good_Naive[2], good_RabinKarp[2], good_BMX[2], good_KMP[2]],\n",
        "'good_4': [good_Naive[3], good_RabinKarp[3], good_BMX[3], good_KMP[3]],\n",
        "'bad_1': [bad_Naive[0], bad_RabinKarp[0], bad_BMX[0], bad_KMP[0]],\n",
        "'bad_2': [bad_Naive[1], bad_RabinKarp[1], bad_BMX[1], bad_KMP[1]],\n",
        "'bad_3': [bad_Naive[2], bad_RabinKarp[2], bad_BMX[2], bad_KMP[2]],\n",
        "'bad_4': [bad_Naive[3], bad_RabinKarp[3], bad_BMX[3], bad_KMP[3]],\n",
        "'Среднее кол-во операций по всем тестам': [np.mean(good_Naive+bad_Naive), np.mean(good_RabinKarp+bad_RabinKarp),np.mean(good_BMX+bad_BMX), np.mean(good_KMP+bad_KMP)]\n",
        "})\n",
        "df"
      ],
      "execution_count": 372,
      "outputs": [
        {
          "output_type": "execute_result",
          "data": {
            "text/html": [
              "<div>\n",
              "<style scoped>\n",
              "    .dataframe tbody tr th:only-of-type {\n",
              "        vertical-align: middle;\n",
              "    }\n",
              "\n",
              "    .dataframe tbody tr th {\n",
              "        vertical-align: top;\n",
              "    }\n",
              "\n",
              "    .dataframe thead th {\n",
              "        text-align: right;\n",
              "    }\n",
              "</style>\n",
              "<table border=\"1\" class=\"dataframe\">\n",
              "  <thead>\n",
              "    <tr style=\"text-align: right;\">\n",
              "      <th></th>\n",
              "      <th>Алгоритм</th>\n",
              "      <th>good_1</th>\n",
              "      <th>good_2</th>\n",
              "      <th>good_3</th>\n",
              "      <th>good_4</th>\n",
              "      <th>bad_1</th>\n",
              "      <th>bad_2</th>\n",
              "      <th>bad_3</th>\n",
              "      <th>bad_4</th>\n",
              "      <th>Среднее кол-во операций по всем тестам</th>\n",
              "    </tr>\n",
              "  </thead>\n",
              "  <tbody>\n",
              "    <tr>\n",
              "      <th>0</th>\n",
              "      <td>Наивный</td>\n",
              "      <td>667</td>\n",
              "      <td>780</td>\n",
              "      <td>2519</td>\n",
              "      <td>9706</td>\n",
              "      <td>28</td>\n",
              "      <td>1730</td>\n",
              "      <td>179300</td>\n",
              "      <td>7998000</td>\n",
              "      <td>1024091.25</td>\n",
              "    </tr>\n",
              "    <tr>\n",
              "      <th>1</th>\n",
              "      <td>Рабина-Карпа</td>\n",
              "      <td>1200</td>\n",
              "      <td>1222</td>\n",
              "      <td>3260</td>\n",
              "      <td>19048</td>\n",
              "      <td>18</td>\n",
              "      <td>182</td>\n",
              "      <td>1802</td>\n",
              "      <td>8002</td>\n",
              "      <td>4341.75</td>\n",
              "    </tr>\n",
              "    <tr>\n",
              "      <th>2</th>\n",
              "      <td>Бойера-Мура-Хорспула</td>\n",
              "      <td>186</td>\n",
              "      <td>148</td>\n",
              "      <td>484</td>\n",
              "      <td>1282</td>\n",
              "      <td>28</td>\n",
              "      <td>282</td>\n",
              "      <td>2802</td>\n",
              "      <td>13002</td>\n",
              "      <td>2276.75</td>\n",
              "    </tr>\n",
              "    <tr>\n",
              "      <th>3</th>\n",
              "      <td>Кнута-Морриса-Пратта</td>\n",
              "      <td>1266</td>\n",
              "      <td>1474</td>\n",
              "      <td>4469</td>\n",
              "      <td>19319</td>\n",
              "      <td>29</td>\n",
              "      <td>307</td>\n",
              "      <td>3097</td>\n",
              "      <td>15997</td>\n",
              "      <td>5744.75</td>\n",
              "    </tr>\n",
              "  </tbody>\n",
              "</table>\n",
              "</div>"
            ],
            "text/plain": [
              "               Алгоритм  ...  Среднее кол-во операций по всем тестам\n",
              "0               Наивный  ...                              1024091.25\n",
              "1          Рабина-Карпа  ...                                 4341.75\n",
              "2  Бойера-Мура-Хорспула  ...                                 2276.75\n",
              "3  Кнута-Морриса-Пратта  ...                                 5744.75\n",
              "\n",
              "[4 rows x 10 columns]"
            ]
          },
          "metadata": {
            "tags": []
          },
          "execution_count": 372
        }
      ]
    },
    {
      "cell_type": "markdown",
      "metadata": {
        "id": "dGwaMAYtVBhX",
        "colab_type": "text"
      },
      "source": [
        "<center>\n",
        "\n",
        "![Alt Text](https://i.gifer.com/VEFN.gif)\n",
        "</center>\n"
      ]
    }
  ]
}