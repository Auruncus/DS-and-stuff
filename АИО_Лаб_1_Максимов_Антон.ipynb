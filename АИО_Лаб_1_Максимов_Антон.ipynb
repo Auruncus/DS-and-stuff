{
  "nbformat": 4,
  "nbformat_minor": 0,
  "metadata": {
    "colab": {
      "name": "АИО Лаб. 1 Максимов Антон.ipynb",
      "provenance": []
    },
    "kernelspec": {
      "name": "python3",
      "display_name": "Python 3"
    }
  },
  "cells": [
    {
      "cell_type": "markdown",
      "metadata": {
        "id": "gI_SDnp-sTtu",
        "colab_type": "text"
      },
      "source": [
        "#**АИС. Лабораторная работа №1**"
      ]
    },
    {
      "cell_type": "markdown",
      "metadata": {
        "id": "QPSGkmuEsYqR",
        "colab_type": "text"
      },
      "source": [
        "**Максимов Антон, 17ПМИ**"
      ]
    },
    {
      "cell_type": "code",
      "metadata": {
        "id": "A2XXyLjWsTDP",
        "colab_type": "code",
        "colab": {}
      },
      "source": [
        "import numpy as np \n",
        "import pandas as pd\n",
        "import matplotlib.pyplot as plt"
      ],
      "execution_count": 0,
      "outputs": []
    },
    {
      "cell_type": "code",
      "metadata": {
        "id": "5KRLqItPWXPi",
        "colab_type": "code",
        "outputId": "7d6f8a3e-819d-4fda-de38-450a3d2d069c",
        "colab": {
          "base_uri": "https://localhost:8080/",
          "height": 35
        }
      },
      "source": [
        "from google.colab import drive\n",
        "drive.mount('/content/gdrive')"
      ],
      "execution_count": 60,
      "outputs": [
        {
          "output_type": "stream",
          "text": [
            "Drive already mounted at /content/gdrive; to attempt to forcibly remount, call drive.mount(\"/content/gdrive\", force_remount=True).\n"
          ],
          "name": "stdout"
        }
      ]
    },
    {
      "cell_type": "code",
      "metadata": {
        "id": "eAh5i4NQspLC",
        "colab_type": "code",
        "outputId": "a731ac69-c83c-4c75-e84a-3925a1bb7646",
        "colab": {
          "base_uri": "https://localhost:8080/",
          "height": 35
        }
      },
      "source": [
        "cd /content/gdrive/'My Drive'/АИО/benchmarks/"
      ],
      "execution_count": 4,
      "outputs": [
        {
          "output_type": "stream",
          "text": [
            "/content/gdrive/My Drive/АИО/benchmarks\n"
          ],
          "name": "stdout"
        }
      ]
    },
    {
      "cell_type": "code",
      "metadata": {
        "id": "LpBgfF71uuxj",
        "colab_type": "code",
        "colab": {}
      },
      "source": [
        "a=!ls -1  *.*\n",
        "bad_t = []\n",
        "bad_w = []\n",
        "good_t = []\n",
        "good_w = []\n",
        "for i in range(0,4):\n",
        "  with open(a[i]) as f:\n",
        "    bad_t.append(f.read())\n",
        "for i in range(4,8):\n",
        "  with open(a[i]) as f:\n",
        "    bad_w.append(f.read())\n",
        "for i in range(8,12):\n",
        "  with open(a[i]) as f:\n",
        "    good_t.append(f.read())\n",
        "for i in range(12,16):\n",
        "  with open(a[i]) as f:\n",
        "    good_w.append(f.read())          "
      ],
      "execution_count": 0,
      "outputs": []
    },
    {
      "cell_type": "code",
      "metadata": {
        "id": "_hnFC4oowFFb",
        "colab_type": "code",
        "outputId": "e25fd846-d1dd-4cfc-d58c-1e48e46ec62c",
        "colab": {
          "base_uri": "https://localhost:8080/",
          "height": 110
        }
      },
      "source": [
        "print(bad_t)\n",
        "print(bad_w)\n",
        "print(good_t)\n",
        "print(good_w)"
      ],
      "execution_count": 352,
      "outputs": [
        {
          "output_type": "stream",
          "text": [
            "['aaaaaaaaab', 'aaaaaaaaaaaaaaaaaaaaaaaaaaaaaaaaaaaaaaaaaaaaaaaaaaaaaaaaaaaaaaaaaaaaaaaaaaaaaaaaaaaaaaaaaaaaaaaaaaab', 'aaaaaaaaaaaaaaaaaaaaaaaaaaaaaaaaaaaaaaaaaaaaaaaaaaaaaaaaaaaaaaaaaaaaaaaaaaaaaaaaaaaaaaaaaaaaaaaaaaaaaaaaaaaaaaaaaaaaaaaaaaaaaaaaaaaaaaaaaaaaaaaaaaaaaaaaaaaaaaaaaaaaaaaaaaaaaaaaaaaaaaaaaaaaaaaaaaaaaaaaaaaaaaaaaaaaaaaaaaaaaaaaaaaaaaaaaaaaaaaaaaaaaaaaaaaaaaaaaaaaaaaaaaaaaaaaaaaaaaaaaaaaaaaaaaaaaaaaaaaaaaaaaaaaaaaaaaaaaaaaaaaaaaaaaaaaaaaaaaaaaaaaaaaaaaaaaaaaaaaaaaaaaaaaaaaaaaaaaaaaaaaaaaaaaaaaaaaaaaaaaaaaaaaaaaaaaaaaaaaaaaaaaaaaaaaaaaaaaaaaaaaaaaaaaaaaaaaaaaaaaaaaaaaaaaaaaaaaaaaaaaaaaaaaaaaaaaaaaaaaaaaaaaaaaaaaaaaaaaaaaaaaaaaaaaaaaaaaaaaaaaaaaaaaaaaaaaaaaaaaaaaaaaaaaaaaaaaaaaaaaaaaaaaaaaaaaaaaaaaaaaaaaaaaaaaaaaaaaaaaaaaaaaaaaaaaaaaaaaaaaaaaaaaaaaaaaaaaaaaaaaaaaaaaaaaaaaaaaaaaaaaaaaaaaaaaaaaaaaaaaaaaaaaaaaaaaaaaaaaaaaaaaaaaaaaaaaaaaaaaaaaaaaaaaaaaaaaaaaaaaaaaaaaaaaaaaaaaaaaaaaaaaaaaaaaaaaaaaaaaaaaaaaaaaaaaaaaaaaaaaaaaaaaaaaaaaaaaaaaaaaaaaaaaaaaaaaaaaaaaaaaaaaaaaaaaaaaaaaaaaaaaaaaaaaaaaaaaaaaaaaaaaaaaaaaaaaaaaaaaaaaaaaaaaaaaaaaaaaaaaaaaaaaaaaaaaaaaaaaaaaaaaaaaaaaaaaaaaaaaaaaaaaaaaaaaaaaaaaab', 'aaaaaaaaaaaaaaaaaaaaaaaaaaaaaaaaaaaaaaaaaaaaaaaaaaaaaaaaaaaaaaaaaaaaaaaaaaaaaaaaaaaaaaaaaaaaaaaaaaaaaaaaaaaaaaaaaaaaaaaaaaaaaaaaaaaaaaaaaaaaaaaaaaaaaaaaaaaaaaaaaaaaaaaaaaaaaaaaaaaaaaaaaaaaaaaaaaaaaaaaaaaaaaaaaaaaaaaaaaaaaaaaaaaaaaaaaaaaaaaaaaaaaaaaaaaaaaaaaaaaaaaaaaaaaaaaaaaaaaaaaaaaaaaaaaaaaaaaaaaaaaaaaaaaaaaaaaaaaaaaaaaaaaaaaaaaaaaaaaaaaaaaaaaaaaaaaaaaaaaaaaaaaaaaaaaaaaaaaaaaaaaaaaaaaaaaaaaaaaaaaaaaaaaaaaaaaaaaaaaaaaaaaaaaaaaaaaaaaaaaaaaaaaaaaaaaaaaaaaaaaaaaaaaaaaaaaaaaaaaaaaaaaaaaaaaaaaaaaaaaaaaaaaaaaaaaaaaaaaaaaaaaaaaaaaaaaaaaaaaaaaaaaaaaaaaaaaaaaaaaaaaaaaaaaaaaaaaaaaaaaaaaaaaaaaaaaaaaaaaaaaaaaaaaaaaaaaaaaaaaaaaaaaaaaaaaaaaaaaaaaaaaaaaaaaaaaaaaaaaaaaaaaaaaaaaaaaaaaaaaaaaaaaaaaaaaaaaaaaaaaaaaaaaaaaaaaaaaaaaaaaaaaaaaaaaaaaaaaaaaaaaaaaaaaaaaaaaaaaaaaaaaaaaaaaaaaaaaaaaaaaaaaaaaaaaaaaaaaaaaaaaaaaaaaaaaaaaaaaaaaaaaaaaaaaaaaaaaaaaaaaaaaaaaaaaaaaaaaaaaaaaaaaaaaaaaaaaaaaaaaaaaaaaaaaaaaaaaaaaaaaaaaaaaaaaaaaaaaaaaaaaaaaaaaaaaaaaaaaaaaaaaaaaaaaaaaaaaaaaaaaaaaaaaaaaaaaaaaaaaaaaaaaaaaaaaaaaaaaaaaaaaaaaaaaaaaaaaaaaaaaaaaaaaaaaaaaaaaaaaaaaaaaaaaaaaaaaaaaaaaaaaaaaaaaaaaaaaaaaaaaaaaaaaaaaaaaaaaaaaaaaaaaaaaaaaaaaaaaaaaaaaaaaaaaaaaaaaaaaaaaaaaaaaaaaaaaaaaaaaaaaaaaaaaaaaaaaaaaaaaaaaaaaaaaaaaaaaaaaaaaaaaaaaaaaaaaaaaaaaaaaaaaaaaaaaaaaaaaaaaaaaaaaaaaaaaaaaaaaaaaaaaaaaaaaaaaaaaaaaaaaaaaaaaaaaaaaaaaaaaaaaaaaaaaaaaaaaaaaaaaaaaaaaaaaaaaaaaaaaaaaaaaaaaaaaaaaaaaaaaaaaaaaaaaaaaaaaaaaaaaaaaaaaaaaaaaaaaaaaaaaaaaaaaaaaaaaaaaaaaaaaaaaaaaaaaaaaaaaaaaaaaaaaaaaaaaaaaaaaaaaaaaaaaaaaaaaaaaaaaaaaaaaaaaaaaaaaaaaaaaaaaaaaaaaaaaaaaaaaaaaaaaaaaaaaaaaaaaaaaaaaaaaaaaaaaaaaaaaaaaaaaaaaaaaaaaaaaaaaaaaaaaaaaaaaaaaaaaaaaaaaaaaaaaaaaaaaaaaaaaaaaaaaaaaaaaaaaaaaaaaaaaaaaaaaaaaaaaaaaaaaaaaaaaaaaaaaaaaaaaaaaaaaaaaaaaaaaaaaaaaaaaaaaaaaaaaaaaaaaaaaaaaaaaaaaaaaaaaaaaaaaaaaaaaaaaaaaaaaaaaaaaaaaaaaaaaaaaaaaaaaaaaaaaaaaaaaaaaaaaaaaaaaaaaaaaaaaaaaaaaaaaaaaaaaaaaaaaaaaaaaaaaaaaaaaaaaaaaaaaaaaaaaaaaaaaaaaaaaaaaaaaaaaaaaaaaaaaaaaaaaaaaaaaaaaaaaaaaaaaaaaaaaaaaaaaaaaaaaaaaaaaaaaaaaaaaaaaaaaaaaaaaaaaaaaaaaaaaaaaaaaaaaaaaaaaaaaaaaaaaaaaaaaaaaaaaaaaaaaaaaaaaaaaaaaaaaaaaaaaaaaaaaaaaaaaaaaaaaaaaaaaaaaaaaaaaaaaaaaaaaaaaaaaaaaaaaaaaaaaaaaaaaaaaaaaaaaaaaaaaaaaaaaaaaaaaaaaaaaaaaaaaaaaaaaaaaaaaaaaaaaaaaaaaaaaaaaaaaaaaaaaaaaaaaaaaaaaaaaaaaaaaaaaaaaaaaaaaaaaaaaaaaaaaaaaaaaaaaaaaaaaaaaaaaaaaaaaaaaaaaaaaaaaaaaaaaaaaaaaaaaaaaaaaaaaaaaaaaaaaaaaaaaaaaaaaaaaaaaaaaaaaaaaaaaaaaaaaaaaaaaaaaaaaaaaaaaaaaaaaaaaaaaaaaaaaaaaaaaaaaaaaaaaaaaaaaaaaaaaaaaaaaaaaaaaaaaaaaaaaaaaaaaaaaaaaaaaaaaaaaaaaaaaaaaaaaaaaaaaaaaaaaaaaaaaaaaaaaaaaaaaaaaaaaaaaaaaaaaaaaaaaaaaaaaaaaaaaaaaaaaaaaaaaaaaaaaaaaaaaaaaaaaaaaaaaaaaaaaaaaaaaaaaaaaaaaaaaaaaaaaaaaaaaaaaaaaaaaaaaaaaaaaaaaaaaaaaaaaaaaaaaaaaaaaaaaaaaaaaaaaaaaaaaaaaaaaaaaaaaaaaaaaaaaaaaaaaaaaaaaaaaaaaaaaaaaaaaaaaaaaaaaaaaaaaaaaaaaaaaaaaaaaaaaaaaaaaaaaaaaaaaaaaaaaaaaaaaaaaaaaaaaaaaaaaaaaaaaaaaaaaaaaaaaaaaaaaaaaaaaaaaaaaaaaaaaaaaaaaaaaaaaaaaaaaaaaaaaaaaaaaaaaaaaaaaaaaaaaaaaaaaaaaaaaaaaaaaaaaaaaaaaaaaaaaaaaaaaaaaaaaaaaaaaaaaaaaaaaaaaaaaaaaaaaaaaaaaaaaaaaaaaaaaaaaaaaaaaaaaaaaaaaaaaaaaaaaaaaaaaaaaaaaaaaaaaaaaaaaaaaaaaaaaaaaaaaaaaaaaaaaaaaaaaaaaaaaaaaaaaaaaaaaaaaaaaaaaaaaaaaaaaaaaaaaaaaaaaaaaaaaaaaaaaaaaaaaaaaaaaaaaaaaaaaaaaaaaaaaaaaaaaaaaaaaaaaaaaaaaaaaaaaaaaaaaaaaaaaaaaaaaaaaaaaaaaaaaaaaaaaaaaaaaaaaaaaaaaaaaaaaaaaaaaaaaaaaaaaaaaaaaaaaaaaaaaaaaaaaaaaaaaaaaaaaaaaaaaaaaaaaaaaaaaaaaaaaaaaaaaaaaaaaaaaaaaaaaaaaaaaaaaaaaaaaaaaaaaaaaaaaaaaaaaaaaaaaaaaaaaaaaaaaaaaaaaaaaaaaaaaaaaaaaaaaaaaaaaaaaaaaaaaaaaaaaaaaaaaaaaaaaaaaaaaaaaaaaaaaaaaaaaaaaaaaaaaaaaaaaaaaaaaaaaaaaaaaaaaaaaaaaaaaaaaaaaaaaaaaaaaaaaaaaaaaaaaaaaaaaaaaaaaaaaaaaaaaaaaaaaaaaaaaaaaaaaaaaaaaaaaaaaaaaaaaaaaaaaaaaaaaaaaaaaaaaaaaaaaaaaaaaaaaaaaaaaaaaaaaaaaaaaaaaaaaaaaaaaaaaaaaaaaaaaaaaaaaaaaaaaaaaaaaaaaaaaaaaaaaaaaaaaaaaaaaaaaaaaaaaaaaaaaaaaaaaaaaaaaaaaaaaaaaaaaaaaaaaaaaaaaaaaaaaaaaaaaaaaaaaaaaaaaaaaaaaaaaaaaaaaaaaaaaaaaaaaaaaaaaaaaaaaaaaaaaaaaaaaaaaaaaaaaaaaaaaaaaaaaaaaaaaaaaaaaaaaaaaaaaaaaaaaaaaaaaaaaaaaaaaaaaaaaaaaaaaaaaaaaaaaaaaaaaaaaaaaaaaaaaaaaaaaaaaaaaaaaaaaaaaaaaaaaaaaaaaaaaaaaaaaaaaaaaaaaaaaaaaaaaaaaaaaaaaaaaaaaaaaaaaaaaaaaaaaaaaaaaaaaaaaaaaaaaaaaaaaaaaaaaaaaaaaaaaaaaaaaaaaaaaaaaaaaaaaaaaaaaaaaaaaaaaaaaaaaaaaaaaaaaaaaaaaaaaaaaaaaaaaaaaaaaaaaaaaaaaaaaaaaaaaaaaaaaaaaaaaaaaaaaaaaaaaaaaaaaaaaaaaaaaaaaaaaaaaaaaaaaaaaaaaaaaaaaaaaaaaaaaaaaaaaaaaaaaaaaaaaaaaaaaaaaaaaaaaaaaaaaaaaaaaaaaaaaaaaaaaaaaaaaaaaaaaaaaaaaaaaaaaaaaaaaaaaaaaaaaaaaaaaaaaaaaaaaaaaaaaaaaaaaaaaaaaaaaaaaaaaaaaaaaaaaaaaaaaaaaaaaaaaaaaaaaaaaaaaaaaaaaaaaaaaaaaaaaaaaaaaaaaaaaaaaaaaaaaaaaaaaaaaaaaaaaaaaaaaaaaaaaaaaaaaaaaaaaaaaaaaaaaaaaaaaaaaaaaaaaaaaaaaaaaaaaaaaaaaaaaaaaaaaaaaaaaaaaaaaaaaaaaaaaaaaaaaaaaaaaaaaaaaaaaaaaaaaaaaaaaaaaaaaaaaaaaaaaaaaaaaaaaaaaaaaaaaaaaaaaaaaaaaaaaaaaaaaaaaaaaaaaaaaaaaaaaaaaaaaaaaaaaaaaaaaaaaaaaaaaaaaaaaaaaaaaaaaaaaaaaaaaaaaaaaaaaaaaaaaaaaaaaaaaaaaaaaaaaaaaaaaaaaaaaaaaaaaaaaaaaaaaaaaaaaaaaaaaaaaaaaaaaaaaaaaaaaaaaaaaaaaaaaaaaaaaaaaaaaaaaaaaaaaaaaaaaaaaaaaaaaaaaaaaaaaaaaaaaaaaaaaaaaaaaaaaaaaaaaaaaaaaaaaaaaaaaaaaaaaaaaaaaaaaaaaaaaaaaaaaaaaaaaaaaaaaaaaaaaaaaaaaaaaaaaaaaaaaaaaaaaaaaaaaaaaaaaaaaaaaaaaaaaaaaaaaaaaaaaaaaaaaaaaaaaaaaaaaaaaaaaaab']\n",
            "['ab', 'aaaaaaaaab', 'aaaaaaaaaaaaaaaaaaaaaaaaaaaaaaaaaaaaaaaaaaaaaaaaaaaaaaaaaaaaaaaaaaaaaaaaaaaaaaaaaaaaaaaaaaaaaaaaaaab', 'aaaaaaaaaaaaaaaaaaaaaaaaaaaaaaaaaaaaaaaaaaaaaaaaaaaaaaaaaaaaaaaaaaaaaaaaaaaaaaaaaaaaaaaaaaaaaaaaaaaaaaaaaaaaaaaaaaaaaaaaaaaaaaaaaaaaaaaaaaaaaaaaaaaaaaaaaaaaaaaaaaaaaaaaaaaaaaaaaaaaaaaaaaaaaaaaaaaaaaaaaaaaaaaaaaaaaaaaaaaaaaaaaaaaaaaaaaaaaaaaaaaaaaaaaaaaaaaaaaaaaaaaaaaaaaaaaaaaaaaaaaaaaaaaaaaaaaaaaaaaaaaaaaaaaaaaaaaaaaaaaaaaaaaaaaaaaaaaaaaaaaaaaaaaaaaaaaaaaaaaaaaaaaaaaaaaaaaaaaaaaaaaaaaaaaaaaaaaaaaaaaaaaaaaaaaaaaaaaaaaaaaaaaaaaaaaaaaaaaaaaaaaaaaaaaaaaaaaaaaaaaaaaaaaaaaaaaaaaaaaaaaaaaaaaaaaaaaaaaaaaaaaaaaaaaaaaaaaaaaaaaaaaaaaaaaaaaaaaaaaaaaaaaaaaaaaaaaaaaaaaaaaaaaaaaaaaaaaaaaaaaaaaaaaaaaaaaaaaaaaaaaaaaaaaaaaaaaaaaaaaaaaaaaaaaaaaaaaaaaaaaaaaaaaaaaaaaaaaaaaaaaaaaaaaaaaaaaaaaaaaaaaaaaaaaaaaaaaaaaaaaaaaaaaaaaaaaaaaaaaaaaaaaaaaaaaaaaaaaaaaaaaaaaaaaaaaaaaaaaaaaaaaaaaaaaaaaaaaaaaaaaaaaaaaaaaaaaaaaaaaaaaaaaaaaaaaaaaaaaaaaaaaaaaaaaaaaaaaaaaaaaaaaaaaaaaaaaaaaaaaaaaaaaaaaaaaaaaaaaaaaaaaaaaaaaaaaaaaaaaaaaaaaaaaaaaaaaaaaaaaaaaaaaaaaaaaaaaaaaaaaaaaaaaaaaaaaaaaaaaaaaaaaaaaaaaaaaaaaaaaaaaaaaaaaaaaaaaaaab']\n",
            "['Гостиная Анны Павловны начала понемногу наполняться. Приехала высшая знать Петербурга, люди самые разнородные по возрастам и характерам, но одинаковые по обществу, в каком все жили; приехала дочь князя Василия, красавица Элен, заехавшая за отцом, чтобы с ним вместе ехать на праздник посланника. Она была в шифре и бальном платье. Приехала и известная, как la femme la plus séduisante de Pétersbourg 1, молодая, маленькая княгиня Болконская, прошлую зиму вышедшая замуж и теперь не выезжавшая в большой свет по причине своей беременности, но ездившая еще на небольшие вечера. Приехал князь Ипполит, сын князя Василия, с Мортемаром, которого он представил; приехал и аббат Морио и многие другие.', \"Маленькая княгиня, переваливаясь, маленькими быстрыми шажками обошла стол с рабочею сумочкой на руке и, весело оправляя платье, села на диван, около серебряного самовара, как будто все, что она ни делала, было partie de plaisir 3 для нее и для всех ее окружавших.\\n— J'ai apporté mon ouvrage 4, — сказала она, развертывая свой ридикюль и обращаясь ко всем вместе.\\n— Смотрите, Annette, ne me jouez pas un mauvais tour, — обратилась она к хозяйке. — Vous m'avez écrit que c'était une toute petite soirée; voyez comme je suis attifée 5.\\n— Вы не знаете аббата Морио? Он очень интересный человек... — сказала она.\\n— Да, я слышал про его план вечного мира, и это очень интересно, но едва ли возможно...\\n— Вы думаете?.. — сказала Анна Павловна, чтобы сказать что-нибудь и вновь обратиться к своим занятиям хозяйки дома, но Пьер сделал обратную неучтивость. Прежде он, не дослушав слов собеседницы, ушел; теперь он остановил своим разговором собеседницу, которой нужно было от него уйти. Он, нагнув голову и расставив большие ноги, стал доказывать Анне Павловне, почему он полагал, что план аббата был химера.\\n— Мы после поговорим, — сказала Анна Павловна, улыбаясь.\\n\", '   Уже был второй час ночи, когда Пьер вышел от своего друга. Ночь была июньская, петербургская, бессумрачная ночь. Пьер сел в извозчичью коляску с намерением ехать домой. Но чем ближе он подъезжал, тем более он чувствовал невозможность заснуть в эту ночь, походившую более на вечер или на утро. Далеко было видно по пустым улицам. Ему представлялось оживленное прекрасное лицо князя Андрея, ему слышались его слова -- не об отношениях его к жене (это не занимало Пьера) -- но его слова о войне и о той будущности, которая могла ожидать его друга. Пьер так безусловно любил и преклонялся перед своим другом, что не мог допустить, чтобы князя Андрея, как скоро он сам того захочет, все не признали замечательным и великим человеком, которому свойственно повелевать, а не подчиняться. Пьер никак не мог представить себе, чтоб у кого бы то ни было, у Кутузова, например, достало духа отдавать приказания такому человеку, очевидно рожденному для первой роли во всем, каким представлялся ему князь Андрей. Он воображал себе своего друга перед войсками, на белом коне, с краткою и сильною речью в устах, воображал себе его храбрость, его успехи, геройство и все, что воображает большинство молодых людей для самих себя. Пьер вспомнил, что он обещался нынче отдать небольшой карточный долг Анатолю, у которого нынче вечером должно было собраться обычное игорное общество.\\n   -- Пошел к Курагину, -- сказал он кучеру, думая только о том, где бы провести остаток ночи и совершенно забыв данное князю Андрею слово не бывать у Курагина.\\n   Подъехав к крыльцу большого дома у конногвардейских казарм, в котором жил князь Анатоль Курагин, он вспоминал свое обещание, но тут же, как это бывает с людьми, называемыми бесхарактерными, ему так страстно захотелось войти взглянуть еще раз на эту столь знакомую и надоевшую ему беспутную жизнь, и невольно пришла в голову мысль, что данное слово ничего не значит, к тому же, еще прежде, чем князю Андрею, он дал также Анатолю слово привезти долг; наконец, он подумал, что все эти честные слова такие условные вещи, не имеющие никакого определенного смысла, особенно ежели сообразить, что, может быть, завтра же или он умрет, или случится с ним что-нибудь такое необыкновенное, что не будет уже ни честного, ни бесчестного.\\n   Он поднялся на освещенное крыльцо, на лестницу, и вошел в отворенную дверь. В роскошной передней никого не было, валялись пустые бутылки, в углу гора изогнутых карт, плащи, калоши; пахло вином; слышался дальний говор и крик.\\n   Видимо, игра и ужин уже кончились, но гости еще не разъезжались. Пьер скинул плащ и вошел в первую комнату, где посередине стояла статуя скаковой лошади во весь рост. Из третьей комнаты слышались яснее возня и знакомые хохот и крики человек шести или восьми. Он вошел в третью комнату, в которой стояли еще остатки ужина. Человек восемь молодых людей, все без сюртуков и большею частью в военных рейтузах, толпились около открытого окна и все вместе по-русски и по-французски кричали непонятные слова.\\n   -- Держу за Чаплина сто! -- кричал один.\\n   -- Смотри, не поддерживать! -- кричал другой.\\n   -- Я за Долохова! -- кричал третий. -- Разними, Курагин.\\n   -- Одним духом, иначе проиграно! -- кричал четвертый.\\n   -- Яков, давай бутылку, Яков! -- кричал сам хозяин, высокий, статный красавец, стоявший посреди толпы. -- Стойте, господа. Вот он, Пьер!\\n   -- А! Петр! Петруша! Петр Великий!\\n   -- Петр толстый! -- закричали со всех сторон, обступая его.\\n', '   Уже был второй час ночи, когда Пьер вышел от своего друга. Ночь была июньская, петербургская, бессумрачная ночь. Пьер сел в извозчичью коляску с намерением ехать домой. Но чем ближе он подъезжал, тем более он чувствовал невозможность заснуть в эту ночь, походившую более на вечер или на утро. Далеко было видно по пустым улицам. Ему представлялось оживленное прекрасное лицо князя Андрея, ему слышались его слова -- не об отношениях его к жене (это не занимало Пьера) -- но его слова о войне и о той будущности, которая могла ожидать его друга. Пьер так безусловно любил и преклонялся перед своим другом, что не мог допустить, чтобы князя Андрея, как скоро он сам того захочет, все не признали замечательным и великим человеком, которому свойственно повелевать, а не подчиняться. Пьер никак не мог представить себе, чтоб у кого бы то ни было, у Кутузова, например, достало духа отдавать приказания такому человеку, очевидно рожденному для первой роли во всем, каким представлялся ему князь Андрей. Он воображал себе своего друга перед войсками, на белом коне, с краткою и сильною речью в устах, воображал себе его храбрость, его успехи, геройство и все, что воображает большинство молодых людей для самих себя. Пьер вспомнил, что он обещался нынче отдать небольшой карточный долг Анатолю, у которого нынче вечером должно было собраться обычное игорное общество.\\n   -- Пошел к Курагину, -- сказал он кучеру, думая только о том, где бы провести остаток ночи и совершенно забыв данное князю Андрею слово не бывать у Курагина.\\n   Подъехав к крыльцу большого дома у конногвардейских казарм, в котором жил князь Анатоль Курагин, он вспоминал свое обещание, но тут же, как это бывает с людьми, называемыми бесхарактерными, ему так страстно захотелось войти взглянуть еще раз на эту столь знакомую и надоевшую ему беспутную жизнь, и невольно пришла в голову мысль, что данное слово ничего не значит, к тому же, еще прежде, чем князю Андрею, он дал также Анатолю слово привезти долг; наконец, он подумал, что все эти честные слова такие условные вещи, не имеющие никакого определенного смысла, особенно ежели сообразить, что, может быть, завтра же или он умрет, или случится с ним что-нибудь такое необыкновенное, что не будет уже ни честного, ни бесчестного.\\n   Он поднялся на освещенное крыльцо, на лестницу, и вошел в отворенную дверь. В роскошной передней никого не было, валялись пустые бутылки, в углу гора изогнутых карт, плащи, калоши; пахло вином; слышался дальний говор и крик.\\n   Видимо, игра и ужин уже кончились, но гости еще не разъезжались. Пьер скинул плащ и вошел в первую комнату, где посередине стояла статуя скаковой лошади во весь рост. Из третьей комнаты слышались яснее возня и знакомые хохот и крики человек шести или восьми. Он вошел в третью комнату, в которой стояли еще остатки ужина. Человек восемь молодых людей, все без сюртуков и большею частью в военных рейтузах, толпились около открытого окна и все вместе по-русски и по-французски кричали непонятные слова.\\n   -- Держу за Чаплина сто! -- кричал один.\\n   -- Смотри, не поддерживать! -- кричал другой.\\n   -- Я за Долохова! -- кричал третий. -- Разними, Курагин.\\n   -- Одним духом, иначе проиграно! -- кричал четвертый.\\n   -- Яков, давай бутылку, Яков! -- кричал сам хозяин, высокий, статный красавец, стоявший посреди толпы. -- Стойте, господа. Вот он, Пьер!\\n   -- А! Петр! Петруша! Петр Великий!\\n   -- Петр толстый! -- закричали со всех сторон, обступая его.\\n   На всех, красных и с красными пятнами, молодых лицах выразилась радость при виде Пьера, который, сняв очки и протирая их, смотрел на всю эту толпу.\\n   -- Ничего не понимаю. В чем дело? -- сказал он, благодушно улыбаясь.\\n   -- Стойте, он не пьян. Дай бутылку, -- сказал Анатоль и, взяв со стола стакан, подошел к Пьеру.\\n   -- Прежде всего пей.\\n   Пьер молча стал пить стакан за стаканом, исподлобья оглядывая пьяных гостей, которые опять столпились у окна, толкуя о чем-то, ему непонятном. Он выпил один стакан залпом; Анатоль с значительным видом налил ему другой. Пьер покорно выпил, хотя и медленнее первого. Анатоль налил третий. Пьер выпил и этот, хотя остановился два раза, чтобы перевести дух. Анатоль стоял подле, серьезно глядя своими прекрасными большими глазами попеременно на стакан, на бутылку и на Пьера. Анатоль был красавец: высокий, полный, белый, румяный; грудь у него была так высока, что голова откидывалась назад, что придавало ему гордый вид. У него был прекрасный свежий рот, густые русые волосы, навыкате черные глаза и общее выражение силы, здоровья и добродушия свежей молодости. Но прекрасные глаза его с чудесными, правильными, черными бровями как будто были сделаны не столько для того, чтобы смотреть, сколько для того, чтобы на них смотрели. Они казались неспособными изменять выражение. Что он был пьян, это видно было только по его красному лицу, но еще более по неестественно выпученной груди и по разинутости глаз. Несмотря на то, что он был пьян и что верхняя часть его могущественного тела покрывалась только рубашкой, раскрытой на груди, -- по легкому запаху духов и мыла, который сливался вокруг него с запахом выпитого вина, по тщательно напомаженной утром прическе его волос, по изящной чистоте пухлых рук и тончайшего белья, по этой белизне и гладкой нежности кожи, -- и в теперешнем состоянии его был виден аристократ, в смысле вошедшего с детства в привычку тщательного и роскошного ухода за своею особой.\\n   -- Ну, пей же всю! А? -- сказал он серьезно, подавая последний стакан Пьеру.\\n   -- Нет, не хочу, -- сказал Пьер, запинаясь на половине стакана. -- Ну, в чем дело? -- прибавил он с видом человека, исполнившего приготовительную обязанность и теперь считающего себя вправе принять участие в общем деле.\\n   -- Пей же всю. А? -- повторил Анатоль, шире разевая глаза, и поднял своею белою, голою до локтя рукой недопитый стакан. Он имел вид человека, делающего важное дело, потому что всю энергию свою в эту минуту он употреблял на то, чтобы держать стакан прямо, и сказать именно то, что он хотел сказать.\\n   -- Говорю -- не хочу, -- отвечал Пьер, надевая очки и отходя прочь. -- О чем вы кричите? -- спросил он у толпы, собравшейся у окна.\\n   Анатоль постоял, подумал, отдал стакан слуге и, слегка улыбнувшись своим красивым ртом, подошел тоже к окну.\\n   По пятницам Анатоль Курагин принимал всех у себя, у него играли, ужинали и потом проводили ночь большею частью вне дома. В этот день игра в фараон завязалась продолжительная и большая. Анатоль проиграл немного, и так как он не имел страсти к игре, а играл по привычке, то скоро отстал. Один богач, лейб-гусар, проиграл много, а один семеновский офицер, Долохов, выиграл у всех. После игры, сели очень поздно ужинать. Весьма серьезный англичанин, выдававший себя за путешественника, сказал, что он полагал, по дошедшим до него сведениям, что русские гораздо сильнее пьют, чем он это нашел на деле. Он говорил, что в России пьют только шампанское, а что ежели пить ром, то он предлагает пари, что выпьет больше всех присутствовавших. Долохов, тот офицер, который больше всех выиграл в тот вечер, сказал, что просто о бутылке рома не стоит держать пари, а что он вызывается выпить ее, не отводя ее ото рта и сидя на окне третьего этажа со спущенными наружу ногами. Англичанин предложил пари. Анатоль принял пари за Долохова, то есть, что Долохов выпьет бутылку рома на окне. В ту минуту, когда вошел Пьер, лакеи вы?ставляли раму, чтобы можно было сесть на наружный подоконник. Окно в третьем этаже было достаточно высоко для того, чтоб упавший с него мог убиться до смерти. С разных сторон пьяные и дружелюбные лица рассказывали Пьеру, в чем дело, как будто полагая в том, что Пьер будет знать это дело, какую-то особенную важность.\\n   Долохов был гвардейского пехотного полка офицер, среднего роста, мускулистый, как бы сбитый весь, с широкою и полною грудью, чрезвычайно курчавый и с светлыми голубыми глазами. Ему было лет двадцать пять. Он не носил усов, как и все пехотные офицеры, и рот его, самая поразительная черта его лица, был весь виден. Рот этот был чрезвычайно приятен, несмотря на то, что почти никогда не улыбался. Линии этого рта были замечательно тонко изогнуты. В середине верхняя губа энергически опускалась на крепкую нижнюю; острым клином в углах образовывалось постоянно что-то в роде двух улыбок, по одной с каждой стороны, и всё вместе в соединении с прямым, несколько наглым, но огненным и умным взглядом, составляло впечатление такое, что, проходя мимо этого лица, нельзя было не заметить его и не спросить, кто этот обладатель такого красивого и странного лица. Женщинам Долохов нравился, и он искренно был убежден, что безупречных женщин не бывает. Долохов был молодой человек хорошей фамилии, но не богатый; однако он жил роскошно и постоянно играл. Он почти всегда выигрывал; но никто, даже и в отсутствие его, не смел приписывать его постоянный успех чему-нибудь другому, кроме счастья, светлой головы и непоколебимой силы воли. В душе каждый, игравший с ним, предполагал в нем шулера, хотя и не смел сказать этого. Теперь, когда он затеял свое странное пари, пьяное общество приняло особенно живое участие в его намерении. И именно потому, что знавшие его знали, что сказанное им будет сделано. Пьер знал это также и потому только поздоровался с Долоховым и не пытался возражать против его намерения.\\n   Остальное общество состояло из трех офицеров, англичанина, которого видали в Петербурге в самых разнообразных обществах, одного москвича-игрока, женатого толстяка, который был гораздо старше всех, но был однако на ты со всею этою молодежью.\\n   Бутылка рому была принесена; раму, не пускавшую сесть на наружный откос окна, выламывали два лакея в штиблетах и кафтанах, видимо, торопившиеся и робевшие от советов и криков окружавших господ.\\n   Анатоль с выпученной грудью, не переменяя выражения, не обходя и не прося посторониться, продавил своим сильным телом толпу у окна, подошел к раме и, обернув обе белые руки сюртуком, валявшимся на диване, ударил в стекла и пробил их.\\n   -- Ну вот, ваше сиятельство, -- сказал лакей, -- только мешаете и ручки порежете.\\n   -- Пошел, дурак, а?.. -- проговорил Анатоль, взялся за перекладины рамы и стал тянуть. Несколько рук взялись также за дело; потянули, и рама с треском выскочила из окна, так что тянувшие чуть не упали.\\n   -- Всю вон, а то подумают, что я держусь, -- сказал Долохов.\\n   -- Послушай, -- сказал Анатоль Пьеру. -- Понимаешь? Англичанин хвастает... а?.. национальность... а?.. хорошо?..\\n   -- Хорошо, -- сказал Пьер, с замиранием сердца глядя на Долохова, который, взяв в руки бутылку рома, подходил к окну, из которого виднелся свет неба и сливавшихся на нем утренней и вечерней зари. Долохов, засучив для чего-то рукава рубашки, с бутылкою рома в руке, ловко вскочил на окно.\\n']\n",
            "['сын князя Василия', 'Да, я слышал про его план вечного мира, и это очень интересно, но едва ли возможно...', 'вспоминал свое обещание, но тут же, как это бывает с людьми, называемыми бесхарактерными, ему так страстно захотелось войти взглянуть еще раз на эту столь знакомую и надоевшую ему беспутную жизнь, и невольно пришла в голову мысль, что данное слово ничего не значит, к тому же, еще прежде, чем князю Андрею, он дал также Анатолю слово привезти долг; наконец, он подумал, что все эти', 'Бутылка рому была принесена; раму, не пускавшую сесть на наружный откос окна, выламывали два']\n"
          ],
          "name": "stdout"
        }
      ]
    },
    {
      "cell_type": "markdown",
      "metadata": {
        "id": "qt-eFrOWw2KA",
        "colab_type": "text"
      },
      "source": [
        "##**Наивный алгоритм**"
      ]
    },
    {
      "cell_type": "code",
      "metadata": {
        "id": "_nO3O2Esw1oj",
        "colab_type": "code",
        "colab": {}
      },
      "source": [
        "def Naive(string, pattern):\n",
        "    counter = 0\n",
        "    N = len(string)\n",
        "    M = len(pattern)\n",
        "    index = []\n",
        "    for i in range(N - M + 1):\n",
        "      for j in range(M):\n",
        "        counter+=1\n",
        "        if string[i + j] != pattern[j]:\n",
        "          break\n",
        "        counter+=1  \n",
        "        if j == (M - 1):  \n",
        "          index.append(i)\n",
        "          return index, counter \n",
        "    return index, counter "
      ],
      "execution_count": 0,
      "outputs": []
    },
    {
      "cell_type": "code",
      "metadata": {
        "id": "bU3zmwK1RndM",
        "colab_type": "code",
        "outputId": "f8d73719-5bd7-4ede-d68a-89b9c6d38e6a",
        "colab": {
          "base_uri": "https://localhost:8080/",
          "height": 35
        }
      },
      "source": [
        "Naive(good_t[0], good_w[0])"
      ],
      "execution_count": 370,
      "outputs": [
        {
          "output_type": "execute_result",
          "data": {
            "text/plain": [
              "([599], 667)"
            ]
          },
          "metadata": {
            "tags": []
          },
          "execution_count": 370
        }
      ]
    },
    {
      "cell_type": "markdown",
      "metadata": {
        "id": "rIwNEivDw9YO",
        "colab_type": "text"
      },
      "source": [
        "##**Алгоритм Рабина-Карпа**"
      ]
    },
    {
      "cell_type": "code",
      "metadata": {
        "id": "VyE5Yg4zWkv3",
        "colab_type": "code",
        "colab": {}
      },
      "source": [
        "def RabinKarp(string, pattern, prime = 9901, base = 256):\n",
        "    N = len(string)\n",
        "    M = len(pattern)\n",
        "    counter = 0\n",
        "    hash_pattern = 0\n",
        "    hash_string = 0\n",
        "    h = pow(base, M-1) % prime\n",
        "    index = []\n",
        "    for i in range(M):\n",
        "      hash_pattern = (base * hash_pattern + ord(pattern[i])) % prime\n",
        "      hash_string = (base * hash_string + ord(string[i])) % prime\n",
        "\n",
        "    for i in range(N - M + 1):\n",
        "      counter+= 1\n",
        "      if hash_pattern == hash_string:\n",
        "        counter+= 1\n",
        "        if string[i:i + M] == pattern:\n",
        "          index.append(i)\n",
        "          return index, counter\n",
        "      counter+= 1    \n",
        "      if i < N - M:\n",
        "        hash_string = (base * (hash_string - ord(string[i]) * h) + ord(string[i+M])) % prime \n",
        "    return index, counter      "
      ],
      "execution_count": 0,
      "outputs": []
    },
    {
      "cell_type": "code",
      "metadata": {
        "id": "zlh9hFwwKUGw",
        "colab_type": "code",
        "outputId": "4b5e7929-ad01-4a0d-cf02-c8d4e9eef1b9",
        "colab": {
          "base_uri": "https://localhost:8080/",
          "height": 35
        }
      },
      "source": [
        "RabinKarp(good_t[0], good_w[0])"
      ],
      "execution_count": 360,
      "outputs": [
        {
          "output_type": "execute_result",
          "data": {
            "text/plain": [
              "([599], 1200)"
            ]
          },
          "metadata": {
            "tags": []
          },
          "execution_count": 360
        }
      ]
    },
    {
      "cell_type": "markdown",
      "metadata": {
        "id": "FAdS15n-xHC3",
        "colab_type": "text"
      },
      "source": [
        "##**Алгоритм Бойера-Мура-Хорспула**"
      ]
    },
    {
      "cell_type": "code",
      "metadata": {
        "id": "XvOXjR4Ot2SB",
        "colab_type": "code",
        "colab": {}
      },
      "source": [
        "def build_table(pattern):\n",
        "  table = {}\n",
        "  n = len(pattern)\n",
        "  for i in range(n - 1):\n",
        "    table[pattern[i]] = n - i - 1\n",
        "  return table"
      ],
      "execution_count": 0,
      "outputs": []
    },
    {
      "cell_type": "code",
      "metadata": {
        "id": "avP3W4KaxFn_",
        "colab_type": "code",
        "colab": {}
      },
      "source": [
        "def BMX(string, pattern):\n",
        "  counter = 0\n",
        "  table = build_table(pattern)\n",
        "  N = len(string)\n",
        "  M = len(pattern)\n",
        "  i = M - 1\n",
        "  index = []\n",
        "\n",
        "  while i < N and len(index)==0:\n",
        "    counter+=1\n",
        "    j = 0\n",
        "    while j < M:\n",
        "      counter+=1\n",
        "      if string[i - j] != pattern[M - j -1]:\n",
        "        break\n",
        "      j+=1\n",
        "    counter+=1  \n",
        "    if j == M:\n",
        "      index.append(i - j + 1)\n",
        "     \n",
        "    elif j!=0:\n",
        "      counter+=1 \n",
        "      i+=1\n",
        "    else:\n",
        "      shift = table.get(string[i - j], M) #или сдвиг по таблице или по длине паттерна\n",
        "      i += shift  \n",
        "\n",
        "  return index , counter     "
      ],
      "execution_count": 0,
      "outputs": []
    },
    {
      "cell_type": "code",
      "metadata": {
        "id": "9wCNzBEWxUPs",
        "colab_type": "code",
        "colab": {
          "base_uri": "https://localhost:8080/",
          "height": 35
        },
        "outputId": "91d71855-2f00-4ec3-cff3-4b6b1848f37c"
      },
      "source": [
        "BMX(good_t[0], good_w[0])"
      ],
      "execution_count": 368,
      "outputs": [
        {
          "output_type": "execute_result",
          "data": {
            "text/plain": [
              "([599], 186)"
            ]
          },
          "metadata": {
            "tags": []
          },
          "execution_count": 368
        }
      ]
    },
    {
      "cell_type": "markdown",
      "metadata": {
        "id": "po8I-x5JxTdb",
        "colab_type": "text"
      },
      "source": [
        "##**Алгоритм Кнутта-Мориса-Пратта**"
      ]
    },
    {
      "cell_type": "code",
      "metadata": {
        "id": "3z_kUZSxkAPk",
        "colab_type": "code",
        "colab": {}
      },
      "source": [
        "def FoundPrefix(string):\n",
        "  counter=0\n",
        "  n = len(string)\n",
        "  pi = [0] * n\n",
        "  for i in range(1, n):\n",
        "    k = pi[i - 1]\n",
        "    while k > 0 and string[k] != string[i]:\n",
        "      counter+=1 \n",
        "      k = pi[k - 1]\n",
        "    counter+=1   \n",
        "    if string[k] == string[i]:\n",
        "      k += 1\n",
        "    pi[i] = k  \n",
        "  return pi, counter\n",
        "\n",
        "def KMP(string, pattern):\n",
        "  index = []\n",
        "  c =0\n",
        "  k = 0\n",
        "  n = len(pattern)\n",
        "  F, counter = FoundPrefix(pattern)\n",
        "  c+=counter\n",
        "  for i in range(0, len(string)):\n",
        "    while k > 0 and pattern[k] != string[i]:\n",
        "      c+=1\n",
        "      k = F[k-1]\n",
        "    c+=1  \n",
        "    if pattern[k] == string[i]:\n",
        "      k += 1\n",
        "    c+=1  \n",
        "    if k == n:\n",
        "      index.append(i - k + 1)\n",
        "      return index,c\n",
        "      k = F[k - 1]\n",
        "  return index,c"
      ],
      "execution_count": 0,
      "outputs": []
    },
    {
      "cell_type": "code",
      "metadata": {
        "id": "mm9ufGbxiWrl",
        "colab_type": "code",
        "colab": {
          "base_uri": "https://localhost:8080/",
          "height": 35
        },
        "outputId": "edaf3153-0596-4e0c-8ff7-f9a809df1984"
      },
      "source": [
        "KMP(good_t[0], good_w[0])"
      ],
      "execution_count": 365,
      "outputs": [
        {
          "output_type": "execute_result",
          "data": {
            "text/plain": [
              "([599], 1266)"
            ]
          },
          "metadata": {
            "tags": []
          },
          "execution_count": 365
        }
      ]
    },
    {
      "cell_type": "markdown",
      "metadata": {
        "id": "z0d53J6iFhet",
        "colab_type": "text"
      },
      "source": [
        "##**Тестирование**"
      ]
    },
    {
      "cell_type": "code",
      "metadata": {
        "id": "sO8v6dDyFlr4",
        "colab_type": "code",
        "colab": {}
      },
      "source": [
        "import timeit"
      ],
      "execution_count": 0,
      "outputs": []
    },
    {
      "cell_type": "markdown",
      "metadata": {
        "id": "rv0c5R6TRCyR",
        "colab_type": "text"
      },
      "source": [
        "**Будем прогонять алгоритмы по каждому примеру 100 раз, замерим общее время**"
      ]
    },
    {
      "cell_type": "markdown",
      "metadata": {
        "id": "E4Jb-MrYRp0F",
        "colab_type": "text"
      },
      "source": [
        "**Далее повторим это 100 раз и вычислим среднее, то есть получим общее среднее выполнение алгоритма 10000 раз**"
      ]
    },
    {
      "cell_type": "markdown",
      "metadata": {
        "id": "9gsq94TIFwJZ",
        "colab_type": "text"
      },
      "source": [
        "###**good**"
      ]
    },
    {
      "cell_type": "code",
      "metadata": {
        "id": "RUxCh8CvTQIt",
        "colab_type": "code",
        "colab": {}
      },
      "source": [
        "good_Naive = []\n",
        "for test in range(0, 4):\n",
        "  good_Naive.append(np.mean(timeit.repeat(\"Naive(good_t[{0}], good_w[{0}])\".format(test), setup=\"from __main__ import Naive, good_t, good_w\", repeat = 100, number = 100)))"
      ],
      "execution_count": 0,
      "outputs": []
    },
    {
      "cell_type": "code",
      "metadata": {
        "id": "fMRI8zaUTwiC",
        "colab_type": "code",
        "colab": {}
      },
      "source": [
        "good_RabinKarp = []\n",
        "for test in range(0, 4):\n",
        "  good_RabinKarp.append(np.mean(timeit.repeat(\"RabinKarp(good_t[{0}], good_w[{0}])\".format(test), setup=\"from __main__ import RabinKarp, good_t, good_w\", repeat = 100, number = 100)))"
      ],
      "execution_count": 0,
      "outputs": []
    },
    {
      "cell_type": "code",
      "metadata": {
        "id": "cBHY1gTYWCKK",
        "colab_type": "code",
        "colab": {}
      },
      "source": [
        "good_BMX = []\n",
        "for test in range(0, 4):\n",
        "  good_BMX.append(np.mean(timeit.repeat(\"BMX(good_t[{0}], good_w[{0}])\".format(test), setup=\"from __main__ import BMX, good_t, good_w\", repeat = 100, number = 100)))"
      ],
      "execution_count": 0,
      "outputs": []
    },
    {
      "cell_type": "code",
      "metadata": {
        "id": "_Ua7HzEyKBdT",
        "colab_type": "code",
        "colab": {}
      },
      "source": [
        "good_KMP = []\n",
        "for test in range(0, 4):\n",
        "  good_KMP.append(np.mean(timeit.repeat(\"KMP(good_t[{0}], good_w[{0}])\".format(test), setup=\"from __main__ import KMP, good_t, good_w\", repeat = 100, number = 100)))"
      ],
      "execution_count": 0,
      "outputs": []
    },
    {
      "cell_type": "markdown",
      "metadata": {
        "id": "XvvGnQYoFqIB",
        "colab_type": "text"
      },
      "source": [
        "###**bad**"
      ]
    },
    {
      "cell_type": "code",
      "metadata": {
        "id": "2AX5giJlFpgH",
        "colab_type": "code",
        "colab": {}
      },
      "source": [
        "bad_Naive = []\n",
        "for test in range(0, 4):\n",
        "  bad_Naive.append(np.mean(timeit.repeat(\"Naive(bad_t[{0}], bad_w[{0}])\".format(test), setup=\"from __main__ import Naive, bad_t, bad_w\", repeat = 100, number = 100)))"
      ],
      "execution_count": 0,
      "outputs": []
    },
    {
      "cell_type": "code",
      "metadata": {
        "id": "z1JXdcSHXIql",
        "colab_type": "code",
        "colab": {}
      },
      "source": [
        "bad_RabinKarp = []\n",
        "for test in range(0, 4):\n",
        "  bad_RabinKarp.append(np.mean(timeit.repeat(\"RabinKarp(bad_t[{0}], bad_w[{0}])\".format(test), setup=\"from __main__ import RabinKarp, bad_t, bad_w\", repeat = 100, number = 100)))"
      ],
      "execution_count": 0,
      "outputs": []
    },
    {
      "cell_type": "code",
      "metadata": {
        "id": "38ERKLApXgRA",
        "colab_type": "code",
        "colab": {}
      },
      "source": [
        "bad_BMX = []\n",
        "for test in range(0, 4):\n",
        "  bad_BMX.append(np.mean(timeit.repeat(\"BMX(bad_t[{0}], bad_w[{0}])\".format(test), setup=\"from __main__ import BMX, bad_t, bad_w\", repeat = 100, number = 100)))"
      ],
      "execution_count": 0,
      "outputs": []
    },
    {
      "cell_type": "code",
      "metadata": {
        "id": "pIolxKXNXpcz",
        "colab_type": "code",
        "colab": {}
      },
      "source": [
        "bad_KMP = []\n",
        "for test in range(0, 4):\n",
        "  bad_KMP.append(np.mean(timeit.repeat(\"KMP(bad_t[{0}], bad_w[{0}])\".format(test), setup=\"from __main__ import KMP, bad_t, bad_w\", repeat = 100, number = 100)))"
      ],
      "execution_count": 0,
      "outputs": []
    },
    {
      "cell_type": "markdown",
      "metadata": {
        "id": "lw4cL24PXrl9",
        "colab_type": "text"
      },
      "source": [
        "**Общая таблица**"
      ]
    },
    {
      "cell_type": "code",
      "metadata": {
        "id": "6oq6-sphXrCu",
        "colab_type": "code",
        "colab": {
          "base_uri": "https://localhost:8080/",
          "height": 168
        },
        "outputId": "91f0105c-d7ad-4d80-8cd4-36ed347c4493"
      },
      "source": [
        "df = pd.DataFrame({\n",
        "'Алгоритм': ['Наивный', 'Рабина-Карпа', 'Бойера-Мура-Хорспула', 'Кнута-Морриса-Пратта'],\n",
        "'good_1': [good_Naive[0], good_RabinKarp[0], good_BMX[0], good_KMP[0]],\n",
        "'good_2': [good_Naive[1], good_RabinKarp[1], good_BMX[1], good_KMP[1]],\n",
        "'good_3': [good_Naive[2], good_RabinKarp[2], good_BMX[2], good_KMP[2]],\n",
        "'good_4': [good_Naive[3], good_RabinKarp[3], good_BMX[3], good_KMP[3]],\n",
        "'bad_1': [bad_Naive[0], bad_RabinKarp[0], bad_BMX[0], bad_KMP[0]],\n",
        "'bad_2': [bad_Naive[1], bad_RabinKarp[1], bad_BMX[1], bad_KMP[1]],\n",
        "'bad_3': [bad_Naive[2], bad_RabinKarp[2], bad_BMX[2], bad_KMP[2]],\n",
        "'bad_4': [bad_Naive[3], bad_RabinKarp[3], bad_BMX[3], bad_KMP[3]],\n",
        "'Среднее время по всем тестам': [np.mean(good_Naive+bad_Naive), np.mean(good_RabinKarp+bad_RabinKarp),np.mean(good_BMX+bad_BMX), np.mean(good_KMP+bad_KMP)]\n",
        "})\n",
        "df"
      ],
      "execution_count": 336,
      "outputs": [
        {
          "output_type": "execute_result",
          "data": {
            "text/html": [
              "<div>\n",
              "<style scoped>\n",
              "    .dataframe tbody tr th:only-of-type {\n",
              "        vertical-align: middle;\n",
              "    }\n",
              "\n",
              "    .dataframe tbody tr th {\n",
              "        vertical-align: top;\n",
              "    }\n",
              "\n",
              "    .dataframe thead th {\n",
              "        text-align: right;\n",
              "    }\n",
              "</style>\n",
              "<table border=\"1\" class=\"dataframe\">\n",
              "  <thead>\n",
              "    <tr style=\"text-align: right;\">\n",
              "      <th></th>\n",
              "      <th>Алгоритм</th>\n",
              "      <th>good_1</th>\n",
              "      <th>good_2</th>\n",
              "      <th>good_3</th>\n",
              "      <th>good_4</th>\n",
              "      <th>bad_1</th>\n",
              "      <th>bad_2</th>\n",
              "      <th>bad_3</th>\n",
              "      <th>bad_4</th>\n",
              "      <th>Среднее время по всем тестам</th>\n",
              "    </tr>\n",
              "  </thead>\n",
              "  <tbody>\n",
              "    <tr>\n",
              "      <th>0</th>\n",
              "      <td>Наивный</td>\n",
              "      <td>0.022607</td>\n",
              "      <td>0.023079</td>\n",
              "      <td>0.076625</td>\n",
              "      <td>0.351287</td>\n",
              "      <td>0.000483</td>\n",
              "      <td>0.011852</td>\n",
              "      <td>1.089112</td>\n",
              "      <td>56.853518</td>\n",
              "      <td>7.303570</td>\n",
              "    </tr>\n",
              "    <tr>\n",
              "      <th>1</th>\n",
              "      <td>Рабина-Карпа</td>\n",
              "      <td>0.026897</td>\n",
              "      <td>0.033302</td>\n",
              "      <td>0.102221</td>\n",
              "      <td>0.512135</td>\n",
              "      <td>0.000553</td>\n",
              "      <td>0.003664</td>\n",
              "      <td>0.035869</td>\n",
              "      <td>0.179306</td>\n",
              "      <td>0.111743</td>\n",
              "    </tr>\n",
              "    <tr>\n",
              "      <th>2</th>\n",
              "      <td>Бойера-Мура-Хорспула</td>\n",
              "      <td>0.003569</td>\n",
              "      <td>0.003917</td>\n",
              "      <td>0.015689</td>\n",
              "      <td>0.024040</td>\n",
              "      <td>0.000533</td>\n",
              "      <td>0.003812</td>\n",
              "      <td>0.040024</td>\n",
              "      <td>0.207119</td>\n",
              "      <td>0.037338</td>\n",
              "    </tr>\n",
              "    <tr>\n",
              "      <th>3</th>\n",
              "      <td>Кнута-Морриса-Пратта</td>\n",
              "      <td>0.011423</td>\n",
              "      <td>0.014153</td>\n",
              "      <td>0.048324</td>\n",
              "      <td>0.172341</td>\n",
              "      <td>0.000449</td>\n",
              "      <td>0.003205</td>\n",
              "      <td>0.032170</td>\n",
              "      <td>0.187175</td>\n",
              "      <td>0.058655</td>\n",
              "    </tr>\n",
              "  </tbody>\n",
              "</table>\n",
              "</div>"
            ],
            "text/plain": [
              "               Алгоритм    good_1  ...      bad_4  Среднее время по всем тестам\n",
              "0               Наивный  0.022607  ...  56.853518                      7.303570\n",
              "1          Рабина-Карпа  0.026897  ...   0.179306                      0.111743\n",
              "2  Бойера-Мура-Хорспула  0.003569  ...   0.207119                      0.037338\n",
              "3  Кнута-Морриса-Пратта  0.011423  ...   0.187175                      0.058655\n",
              "\n",
              "[4 rows x 10 columns]"
            ]
          },
          "metadata": {
            "tags": []
          },
          "execution_count": 336
        }
      ]
    },
    {
      "cell_type": "markdown",
      "metadata": {
        "id": "FCbef-cjQiHp",
        "colab_type": "text"
      },
      "source": [
        "**Количество операций сравнения**"
      ]
    },
    {
      "cell_type": "code",
      "metadata": {
        "id": "A2s0YySMM5bj",
        "colab_type": "code",
        "colab": {}
      },
      "source": [
        "good_Naive = []\n",
        "good_RabinKarp = []\n",
        "good_BMX = []\n",
        "good_KMP = []\n",
        "bad_Naive = []\n",
        "bad_RabinKarp = []\n",
        "bad_BMX = []\n",
        "bad_KMP = []\n",
        "\n",
        "for i in range(0, 4):\n",
        "  good_Naive.append(Naive(good_t[i], good_w[i])[1])\n",
        "  bad_Naive.append(Naive(bad_t[i], bad_w[i])[1])\n",
        "  good_RabinKarp.append(RabinKarp(good_t[i], good_w[i])[1])\n",
        "  bad_RabinKarp.append(RabinKarp(bad_t[i], bad_w[i])[1])\n",
        "  good_BMX.append(BMX(good_t[i], good_w[i])[1])\n",
        "  bad_BMX.append(BMX(bad_t[i], bad_w[i])[1])\n",
        "  good_KMP.append(KMP(good_t[i], good_w[i])[1])\n",
        "  bad_KMP.append(KMP(bad_t[i], bad_w[i])[1])"
      ],
      "execution_count": 0,
      "outputs": []
    },
    {
      "cell_type": "code",
      "metadata": {
        "id": "wvIn2ps6TRHk",
        "colab_type": "code",
        "colab": {
          "base_uri": "https://localhost:8080/",
          "height": 168
        },
        "outputId": "7fa5fc07-0b4e-4a46-f197-135070c2835d"
      },
      "source": [
        "df = pd.DataFrame({\n",
        "'Алгоритм': ['Наивный', 'Рабина-Карпа', 'Бойера-Мура-Хорспула', 'Кнута-Морриса-Пратта'],\n",
        "'good_1': [good_Naive[0], good_RabinKarp[0], good_BMX[0], good_KMP[0]],\n",
        "'good_2': [good_Naive[1], good_RabinKarp[1], good_BMX[1], good_KMP[1]],\n",
        "'good_3': [good_Naive[2], good_RabinKarp[2], good_BMX[2], good_KMP[2]],\n",
        "'good_4': [good_Naive[3], good_RabinKarp[3], good_BMX[3], good_KMP[3]],\n",
        "'bad_1': [bad_Naive[0], bad_RabinKarp[0], bad_BMX[0], bad_KMP[0]],\n",
        "'bad_2': [bad_Naive[1], bad_RabinKarp[1], bad_BMX[1], bad_KMP[1]],\n",
        "'bad_3': [bad_Naive[2], bad_RabinKarp[2], bad_BMX[2], bad_KMP[2]],\n",
        "'bad_4': [bad_Naive[3], bad_RabinKarp[3], bad_BMX[3], bad_KMP[3]],\n",
        "'Среднее кол-во операций по всем тестам': [np.mean(good_Naive+bad_Naive), np.mean(good_RabinKarp+bad_RabinKarp),np.mean(good_BMX+bad_BMX), np.mean(good_KMP+bad_KMP)]\n",
        "})\n",
        "df"
      ],
      "execution_count": 372,
      "outputs": [
        {
          "output_type": "execute_result",
          "data": {
            "text/html": [
              "<div>\n",
              "<style scoped>\n",
              "    .dataframe tbody tr th:only-of-type {\n",
              "        vertical-align: middle;\n",
              "    }\n",
              "\n",
              "    .dataframe tbody tr th {\n",
              "        vertical-align: top;\n",
              "    }\n",
              "\n",
              "    .dataframe thead th {\n",
              "        text-align: right;\n",
              "    }\n",
              "</style>\n",
              "<table border=\"1\" class=\"dataframe\">\n",
              "  <thead>\n",
              "    <tr style=\"text-align: right;\">\n",
              "      <th></th>\n",
              "      <th>Алгоритм</th>\n",
              "      <th>good_1</th>\n",
              "      <th>good_2</th>\n",
              "      <th>good_3</th>\n",
              "      <th>good_4</th>\n",
              "      <th>bad_1</th>\n",
              "      <th>bad_2</th>\n",
              "      <th>bad_3</th>\n",
              "      <th>bad_4</th>\n",
              "      <th>Среднее кол-во операций по всем тестам</th>\n",
              "    </tr>\n",
              "  </thead>\n",
              "  <tbody>\n",
              "    <tr>\n",
              "      <th>0</th>\n",
              "      <td>Наивный</td>\n",
              "      <td>667</td>\n",
              "      <td>780</td>\n",
              "      <td>2519</td>\n",
              "      <td>9706</td>\n",
              "      <td>28</td>\n",
              "      <td>1730</td>\n",
              "      <td>179300</td>\n",
              "      <td>7998000</td>\n",
              "      <td>1024091.25</td>\n",
              "    </tr>\n",
              "    <tr>\n",
              "      <th>1</th>\n",
              "      <td>Рабина-Карпа</td>\n",
              "      <td>1200</td>\n",
              "      <td>1222</td>\n",
              "      <td>3260</td>\n",
              "      <td>19048</td>\n",
              "      <td>18</td>\n",
              "      <td>182</td>\n",
              "      <td>1802</td>\n",
              "      <td>8002</td>\n",
              "      <td>4341.75</td>\n",
              "    </tr>\n",
              "    <tr>\n",
              "      <th>2</th>\n",
              "      <td>Бойера-Мура-Хорспула</td>\n",
              "      <td>186</td>\n",
              "      <td>148</td>\n",
              "      <td>484</td>\n",
              "      <td>1282</td>\n",
              "      <td>28</td>\n",
              "      <td>282</td>\n",
              "      <td>2802</td>\n",
              "      <td>13002</td>\n",
              "      <td>2276.75</td>\n",
              "    </tr>\n",
              "    <tr>\n",
              "      <th>3</th>\n",
              "      <td>Кнута-Морриса-Пратта</td>\n",
              "      <td>1266</td>\n",
              "      <td>1474</td>\n",
              "      <td>4469</td>\n",
              "      <td>19319</td>\n",
              "      <td>29</td>\n",
              "      <td>307</td>\n",
              "      <td>3097</td>\n",
              "      <td>15997</td>\n",
              "      <td>5744.75</td>\n",
              "    </tr>\n",
              "  </tbody>\n",
              "</table>\n",
              "</div>"
            ],
            "text/plain": [
              "               Алгоритм  ...  Среднее кол-во операций по всем тестам\n",
              "0               Наивный  ...                              1024091.25\n",
              "1          Рабина-Карпа  ...                                 4341.75\n",
              "2  Бойера-Мура-Хорспула  ...                                 2276.75\n",
              "3  Кнута-Морриса-Пратта  ...                                 5744.75\n",
              "\n",
              "[4 rows x 10 columns]"
            ]
          },
          "metadata": {
            "tags": []
          },
          "execution_count": 372
        }
      ]
    },
    {
      "cell_type": "markdown",
      "metadata": {
        "id": "dGwaMAYtVBhX",
        "colab_type": "text"
      },
      "source": [
        "<center>\n",
        "\n",
        "![Alt Text](https://i.gifer.com/VEFN.gif)\n",
        "</center>\n"
      ]
    }
  ]
}